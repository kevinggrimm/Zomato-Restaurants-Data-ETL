{
 "cells": [
  {
   "cell_type": "code",
   "execution_count": 375,
   "metadata": {},
   "outputs": [],
   "source": [
    "# Import libraries\n",
    "import boto3\n",
    "import botocore\n",
    "\n",
    "from datetime import datetime\n",
    "import json\n",
    "import requests\n",
    "from pandas import json_normalize\n",
    "import pandas as pd \n",
    "import os\n",
    "import zipfile"
   ]
  },
  {
   "cell_type": "code",
   "execution_count": null,
   "metadata": {},
   "outputs": [],
   "source": [
    "'''\n",
    "--- OVERVIEW ---\n",
    "\n",
    "Given that vast amount of data accessible through the Zomato API, the pipeline that I am creating\n",
    "in this project will be configured on a per city basis. After all, from a user's perspective, you can \n",
    "only be in one city at a time.\n",
    "\n",
    "- The pipeline can eventually be made more robust to analyze price, cuisine, ratings, and other fields \n",
    "across cities.\n",
    "\n",
    "\n",
    "\n",
    "In Part I (Zomato - Processing Files), we processed the raw data that was originally uploaded to \n",
    "Kaggle here: https://www.kaggle.com/shrutimehta/zomato-restaurants-data#file1.json\n",
    "\n",
    "- Many duplicates were found in the raw data. This is likely due to the same parameters being passed \n",
    "to the `/search` endpoint multiple times. \n",
    "\n",
    "\n",
    "\n",
    "Zomato maintains 100 response limit for search results. Thus, a simple way to decrease duplication \n",
    "upstream of data processing is to add parameters with high cardinalities. \n",
    "\n",
    "- These parameters can be acquired through other Zomato endpoints, such as /categories, /collections, \n",
    "and /establishments, which is covered in the first part of this notebook.\n",
    "\n",
    "- Once this data is collected, we hit the `/search` endpoint and save results for each respective param\n",
    "(e.g., each establishment) to S3.\n",
    "\n",
    "\n",
    "\n",
    "The pipeline will be structed as follows:\n",
    "(1) Various API calls to collect metadata about the restaurants we want to query (This Notebook)\n",
    "(2) API calls to `/search` endpoint that pass in desired metadata (This Notebook)\n",
    "(3) Save raw results to S3 (This Notebook)\n",
    "(4) Read results from S3, process logs (Part I)\n",
    "(5) Store processed logs in RDS or another database (To Be Completed)\n",
    "\n",
    "\n",
    "\n",
    "APIs that we can hit before using the /search API.\n",
    "- One-off or infrequently required information can be stored in a database\n",
    "\n",
    "- Regular API calls (/search) can pass in metadata that is read from DB tables\n",
    "\n",
    "(1) /cities --> for id of city (once per city; store new results in database)\n",
    "(2) /locations --> for entity_id (once per city/location; store new results in database)\n",
    "(3) /categories --> for category_id (one-off; store in database)\n",
    "(4) /collections --> for collections in a city (requires city_id; once; store in DB)\n",
    "(5) /establishments --> for restaurant types (requires city_id; infrequently updated; store in DB)\n",
    "(6) /cuisines --> for cuisine ids in a city (requires city_id; infrequently updatesd; store in DB)\n",
    "\n",
    "\n",
    "NOTE: passing in conflicting `categories`, `establishments`, and `cuisines` fields can lead to a limited\n",
    "or nonexistent result set (e.g., 'Cafe' category and 'BBQ' cuisine)\n",
    "\n",
    "- For now, we are going to focus on the `establishments` param (the process for gathering metadata from other\n",
    "endpoints is still completed below)\n",
    "\n",
    "Once metadata is obtained, we pass in various params into the /search API\n",
    "- For this exercise, we are going to configure a pipeline for NYC-based restaurants\n",
    "'''"
   ]
  },
  {
   "cell_type": "code",
   "execution_count": 219,
   "metadata": {},
   "outputs": [],
   "source": [
    "## Configuring a request for various Zomato endpoints\n",
    "# Can build this out more if needed\n",
    "params=None\n",
    "endpoint=None\n",
    "\n",
    "def send_request(params=params, endpoint=endpoint):\n",
    "    base_url = \"https://developers.zomato.com/api/v2.1/\"\n",
    "    new_url = base_url + str(endpoint)\n",
    "    \n",
    "    headers = {\n",
    "    'user-key': '<YOUR_API_KEY_HERE>',\n",
    "    'Content-Type': 'application/json'\n",
    "    }\n",
    "    \n",
    "    params=params\n",
    "    r = requests.get(url=new_url, headers=headers, params=params)\n",
    "    r.raise_for_status\n",
    "    return r.json()"
   ]
  },
  {
   "cell_type": "code",
   "execution_count": 273,
   "metadata": {},
   "outputs": [
    {
     "data": {
      "text/plain": [
       "dict_keys(['location_suggestions', 'status', 'has_more', 'has_total', 'user_has_addresses'])"
      ]
     },
     "execution_count": 273,
     "metadata": {},
     "output_type": "execute_result"
    }
   ],
   "source": [
    "## /cities endpoint\n",
    "params = {\n",
    "    'q': 'New York City'\n",
    "}\n",
    "r = send_request(params, endpoint='cities')\n",
    "r.keys()"
   ]
  },
  {
   "cell_type": "code",
   "execution_count": 222,
   "metadata": {},
   "outputs": [
    {
     "data": {
      "text/plain": [
       "{'id': 280,\n",
       " 'name': 'New York City, NY',\n",
       " 'country_id': 216,\n",
       " 'country_name': 'United States',\n",
       " 'country_flag_url': 'https://b.zmtcdn.com/images/countries/flags/country_216.png',\n",
       " 'should_experiment_with': 0,\n",
       " 'has_go_out_tab': 0,\n",
       " 'discovery_enabled': 1,\n",
       " 'has_new_ad_format': 0,\n",
       " 'is_state': 0,\n",
       " 'state_id': 103,\n",
       " 'state_name': 'New York State',\n",
       " 'state_code': 'NY'}"
      ]
     },
     "execution_count": 222,
     "metadata": {},
     "output_type": "execute_result"
    }
   ],
   "source": [
    "# viewing one item in results to conceptualize logic for metadata storage\n",
    "location_suggestions = r['location_suggestions']\n",
    "nyc = location_suggestions[0]\n",
    "nyc"
   ]
  },
  {
   "cell_type": "code",
   "execution_count": 239,
   "metadata": {},
   "outputs": [],
   "source": [
    "'''\n",
    "Creating a defaultdict for the cities metadata\n",
    "- This can be stored in S3 and later normalized for storage in RDS\n",
    "\n",
    "- We can have a smaller metadata table for city/city ID to reference when new cities are queried. That allows\n",
    "us to use existing metadata instead of an API call when a city was already used.\n",
    "\n",
    "- This assumes that data does not go stale, and it may not be worth the effort if the process is\n",
    "not cost prohibitive.\n",
    "\n",
    "- We are assuming that we do want to store metadata when collected to get into the habit of using databases\n",
    "'''\n",
    "# Import defaultdict\n",
    "from collections import defaultdict\n",
    "\n",
    "\n",
    "# Add cities to default dict\n",
    "# Can add in logc to append city names if not found in an existing metadata store \n",
    "cities_metadata = defaultdict(list,{\n",
    "        location['id']: {\n",
    "            'name': location['name'],\n",
    "            'country_id': location['country_id'],\n",
    "            'country_name': location['country_name'],\n",
    "            'state_id': location['state_id'],\n",
    "            'state_name': location['state_name'],\n",
    "            'state_code': location['state_code']\n",
    "        } for location in location_suggestions\n",
    "    }\n",
    ")"
   ]
  },
  {
   "cell_type": "code",
   "execution_count": 241,
   "metadata": {},
   "outputs": [
    {
     "name": "stdout",
     "output_type": "stream",
     "text": [
      "280\n",
      "New York City, NY\n"
     ]
    }
   ],
   "source": [
    "# Get NYC id, name for future API calls\n",
    "nyc_city_id = nyc['id']\n",
    "nyc_city_name = nyc['name']\n",
    "\n",
    "print(nyc_city_id)\n",
    "print(nyc_city_name)"
   ]
  },
  {
   "cell_type": "code",
   "execution_count": 276,
   "metadata": {},
   "outputs": [
    {
     "data": {
      "text/plain": [
       "dict_keys(['location_suggestions', 'status', 'has_more', 'has_total', 'user_has_addresses'])"
      ]
     },
     "execution_count": 276,
     "metadata": {},
     "output_type": "execute_result"
    }
   ],
   "source": [
    "## /locations endpoint\n",
    "params = {\n",
    "    'query': nyc_city_name\n",
    "}\n",
    "\n",
    "locations_resp = send_request(params, endpoint='locations')\n",
    "locations_resp.keys()"
   ]
  },
  {
   "cell_type": "code",
   "execution_count": 243,
   "metadata": {},
   "outputs": [],
   "source": [
    "# Limit results to suggested location\n",
    "location_suggestion = locations_resp['location_suggestions'][0]\n",
    "\n",
    "# Add location data to metadata store if city_id is found in metadata keys\n",
    "if nyc_city_id in cities_metadata.keys():\n",
    "    \n",
    "    cities_metadata[nyc_city_id]['entity_id'] = location_suggestion['entity_id']\n",
    "    cities_metadata[nyc_city_id]['entity_type'] = location_suggestion['entity_type']\n",
    "    cities_metadata[nyc_city_id]['latitude'] = location_suggestion['latitude']\n",
    "    cities_metadata[nyc_city_id]['longitude'] = location_suggestion['longitude']"
   ]
  },
  {
   "cell_type": "code",
   "execution_count": 244,
   "metadata": {},
   "outputs": [
    {
     "name": "stdout",
     "output_type": "stream",
     "text": [
      "city\n",
      "280\n"
     ]
    }
   ],
   "source": [
    "# Get entity_type, entity_id for NYC\n",
    "entity_type = location_suggestion['entity_type']\n",
    "entity_id = location_suggestion['entity_id']\n",
    "\n",
    "print(entity_type)\n",
    "print(entity_id)"
   ]
  },
  {
   "cell_type": "code",
   "execution_count": 274,
   "metadata": {},
   "outputs": [
    {
     "data": {
      "text/plain": [
       "dict_keys(['categories'])"
      ]
     },
     "execution_count": 274,
     "metadata": {},
     "output_type": "execute_result"
    }
   ],
   "source": [
    "## /categories endpoint\n",
    "params=None\n",
    "\n",
    "# Send request\n",
    "categories_resp = send_request(params, endpoint='categories')\n",
    "categories_resp.keys()"
   ]
  },
  {
   "cell_type": "code",
   "execution_count": 250,
   "metadata": {},
   "outputs": [
    {
     "data": {
      "text/plain": [
       "[{'categories': {'id': 1, 'name': 'Delivery'}},\n",
       " {'categories': {'id': 2, 'name': 'Dine-out'}},\n",
       " {'categories': {'id': 3, 'name': 'Nightlife'}},\n",
       " {'categories': {'id': 4, 'name': 'Catching-up'}},\n",
       " {'categories': {'id': 5, 'name': 'Takeaway'}},\n",
       " {'categories': {'id': 6, 'name': 'Cafes'}},\n",
       " {'categories': {'id': 7, 'name': 'Daily Menus'}},\n",
       " {'categories': {'id': 8, 'name': 'Breakfast'}},\n",
       " {'categories': {'id': 9, 'name': 'Lunch'}},\n",
       " {'categories': {'id': 10, 'name': 'Dinner'}},\n",
       " {'categories': {'id': 11, 'name': 'Pubs & Bars'}},\n",
       " {'categories': {'id': 13, 'name': 'Pocket Friendly Delivery'}},\n",
       " {'categories': {'id': 14, 'name': 'Clubs & Lounges'}}]"
      ]
     },
     "execution_count": 250,
     "metadata": {},
     "output_type": "execute_result"
    }
   ],
   "source": [
    "# Limit results to `categories` key\n",
    "categories = categories_resp['categories']\n",
    "categories"
   ]
  },
  {
   "cell_type": "code",
   "execution_count": 252,
   "metadata": {},
   "outputs": [],
   "source": [
    "# Store category metadata in defaultdict\n",
    "category_metadata = defaultdict(list, {\n",
    "    category['categories']['id']: category['categories']['name'] for category in categories\n",
    "})"
   ]
  },
  {
   "cell_type": "code",
   "execution_count": 275,
   "metadata": {},
   "outputs": [
    {
     "data": {
      "text/plain": [
       "dict_keys(['collections', 'has_more', 'share_url', 'display_text', 'has_total', 'user_has_addresses'])"
      ]
     },
     "execution_count": 275,
     "metadata": {},
     "output_type": "execute_result"
    }
   ],
   "source": [
    "## /collections endpoint\n",
    "params={\n",
    "    'city_id': nyc_city_id\n",
    "}\n",
    "\n",
    "# Send request\n",
    "collections_resp = send_request(params, endpoint='collections')\n",
    "collections_resp.keys()"
   ]
  },
  {
   "cell_type": "code",
   "execution_count": 285,
   "metadata": {},
   "outputs": [
    {
     "data": {
      "text/plain": [
       "{'collection': {'collection_id': 1,\n",
       "  'res_count': 30,\n",
       "  'image_url': 'https://b.zmtcdn.com/data/collections/b53772a204429cb9b42313d6dc22bf3c_1556018415.jpg',\n",
       "  'url': 'https://www.zomato.com/new-york-city/top-restaurants?utm_source=api_basic_user&utm_medium=api&utm_campaign=v2.1',\n",
       "  'title': 'Trending This Week',\n",
       "  'description': 'Most popular restaurants in town this week',\n",
       "  'share_url': 'http://www.zoma.to/c-280/1'}}"
      ]
     },
     "execution_count": 285,
     "metadata": {},
     "output_type": "execute_result"
    }
   ],
   "source": [
    "# Limit results to `collections` key\n",
    "collections = collections_resp['collections']\n",
    "\n",
    "# Inspect first result\n",
    "collections[0]"
   ]
  },
  {
   "cell_type": "code",
   "execution_count": 258,
   "metadata": {},
   "outputs": [],
   "source": [
    "# Store collections metadata in defaultdict\n",
    "collections_metadata = defaultdict(list, {\n",
    "    collection['collection']['collection_id']: {\n",
    "        'title': collection['collection']['title'],\n",
    "        'description': collection['collection']['description'],\n",
    "        'num_restaurants': collection['collection']['res_count']\n",
    "    } for collection in collections\n",
    "})"
   ]
  },
  {
   "cell_type": "code",
   "execution_count": 271,
   "metadata": {},
   "outputs": [],
   "source": [
    "'''\n",
    "Get collection ID for title `Trending This Week`\n",
    "- Choosing this collection as it provides a frame of reference for how often this DAG can run (weekly). Also\n",
    "suggests that the dataset will need to be updated on a regular basis (more guaranteed than other IDs)\n",
    "\n",
    "- However, this could limit our results to 30 restaurants. If we want to include more results in our data, we can\n",
    "extend the calls passed to /search to other cities\n",
    "\n",
    "- This could also simply be a parameter that we do not want to include in our search if it is too restrictive \n",
    "on the result set\n",
    "'''\n",
    "\n",
    "# Hard coding - assumption is that it will not change\n",
    "trending_collection_id = 1"
   ]
  },
  {
   "cell_type": "code",
   "execution_count": 277,
   "metadata": {},
   "outputs": [
    {
     "data": {
      "text/plain": [
       "dict_keys(['establishments'])"
      ]
     },
     "execution_count": 277,
     "metadata": {},
     "output_type": "execute_result"
    }
   ],
   "source": [
    "## /establishments endpoint\n",
    "\n",
    "params={\n",
    "    'city_id': nyc_city_id\n",
    "}\n",
    "\n",
    "# Send request\n",
    "establishments_resp = send_request(params, endpoint='establishments')\n",
    "establishments_resp.keys()"
   ]
  },
  {
   "cell_type": "code",
   "execution_count": 278,
   "metadata": {},
   "outputs": [
    {
     "data": {
      "text/plain": [
       "[{'establishment': {'id': 21, 'name': 'Quick Bites'}},\n",
       " {'establishment': {'id': 271, 'name': 'Sandwich Shop'}},\n",
       " {'establishment': {'id': 1, 'name': 'Café'}},\n",
       " {'establishment': {'id': 281, 'name': 'Fast Food'}},\n",
       " {'establishment': {'id': 7, 'name': 'Bar'}},\n",
       " {'establishment': {'id': 16, 'name': 'Casual Dining'}},\n",
       " {'establishment': {'id': 24, 'name': 'Deli'}},\n",
       " {'establishment': {'id': 31, 'name': 'Bakery'}},\n",
       " {'establishment': {'id': 18, 'name': 'Fine Dining'}},\n",
       " {'establishment': {'id': 275, 'name': 'Pizzeria'}},\n",
       " {'establishment': {'id': 101, 'name': 'Diner'}},\n",
       " {'establishment': {'id': 5, 'name': 'Lounge'}},\n",
       " {'establishment': {'id': 278, 'name': 'Wine Bar'}},\n",
       " {'establishment': {'id': 6, 'name': 'Pub'}},\n",
       " {'establishment': {'id': 286, 'name': 'Coffee Shop'}},\n",
       " {'establishment': {'id': 23, 'name': 'Dessert Parlour'}},\n",
       " {'establishment': {'id': 8, 'name': 'Club'}},\n",
       " {'establishment': {'id': 91, 'name': 'Bistro'}},\n",
       " {'establishment': {'id': 285, 'name': 'Fast Casual'}},\n",
       " {'establishment': {'id': 283, 'name': 'Brewery'}},\n",
       " {'establishment': {'id': 284, 'name': 'Juice Bar'}},\n",
       " {'establishment': {'id': 20, 'name': 'Food Court'}},\n",
       " {'establishment': {'id': 282, 'name': 'Taqueria'}},\n",
       " {'establishment': {'id': 295, 'name': 'Noodle Shop'}},\n",
       " {'establishment': {'id': 292, 'name': 'Beer Garden'}},\n",
       " {'establishment': {'id': 309, 'name': 'Steakhouse'}},\n",
       " {'establishment': {'id': 272, 'name': 'Cocktail Bar'}},\n",
       " {'establishment': {'id': 41, 'name': 'Beverage Shop'}},\n",
       " {'establishment': {'id': 291, 'name': 'Sweet Shop'}},\n",
       " {'establishment': {'id': 81, 'name': 'Food Truck'}},\n",
       " {'establishment': {'id': 294, 'name': 'Izakaya'}},\n",
       " {'establishment': {'id': 161, 'name': 'Microbrewery'}},\n",
       " {'establishment': {'id': 290, 'name': 'Vineyard'}},\n",
       " {'establishment': {'id': 293, 'name': 'Shack'}}]"
      ]
     },
     "execution_count": 278,
     "metadata": {},
     "output_type": "execute_result"
    }
   ],
   "source": [
    "# Narrow to establishments key; view content\n",
    "establishments = establishments_resp['establishments']\n",
    "establishments"
   ]
  },
  {
   "cell_type": "code",
   "execution_count": 280,
   "metadata": {},
   "outputs": [],
   "source": [
    "# Store results in default dict\n",
    "establishment_metadata = defaultdict(list, {\n",
    "    establishment['establishment']['id']: establishment['establishment']['name'] \\\n",
    "    for establishment in establishments\n",
    "})"
   ]
  },
  {
   "cell_type": "code",
   "execution_count": 287,
   "metadata": {},
   "outputs": [],
   "source": [
    "# Store list of establishment_ids for /search call further downstream\n",
    "establishment_ids = [key for key in establishment_metadata.keys()]"
   ]
  },
  {
   "cell_type": "code",
   "execution_count": 288,
   "metadata": {},
   "outputs": [
    {
     "data": {
      "text/plain": [
       "dict_keys(['cuisines'])"
      ]
     },
     "execution_count": 288,
     "metadata": {},
     "output_type": "execute_result"
    }
   ],
   "source": [
    "## /cuisines endpoint\n",
    "params={\n",
    "    'city_id': nyc_city_id\n",
    "}\n",
    "\n",
    "# Send request\n",
    "cuisines_resp = send_request(params, endpoint='cuisines')\n",
    "cuisines_resp.keys()"
   ]
  },
  {
   "cell_type": "code",
   "execution_count": 293,
   "metadata": {},
   "outputs": [
    {
     "name": "stdout",
     "output_type": "stream",
     "text": [
      "Total cuisines:  141\n"
     ]
    },
    {
     "data": {
      "text/plain": [
       "{'cuisine': {'cuisine_id': 1035, 'cuisine_name': 'Afghan'}}"
      ]
     },
     "execution_count": 293,
     "metadata": {},
     "output_type": "execute_result"
    }
   ],
   "source": [
    "# Narrowing results to `cuisines` key\n",
    "cuisines = cuisines_resp['cuisines']\n",
    "'''\n",
    "100+ cuisines are returned. Because we are limited to 1,000 API calls per day, we likely cannot pass \n",
    "individual cuisines into the API with each of the other parameters.\n",
    "\n",
    "However, what we could do is configure the /search DAG to execute the max # of API calls for ~6.5 days \n",
    "(with each task hitting the /search endpoint for a unique set of parameters), and then have another DAG \n",
    "that runs once a week to process all raw data.\n",
    "\n",
    "* Filtering by cuisines is also similar to filtering by establishment type, though likely more restrictive \n",
    "in nature - establishments can offer multiple cuisines, though some cuisines are perhaps unique to a single\n",
    "establishment\n",
    "'''\n",
    "print('Total cuisines: ', len(cuisines))\n",
    "cuisines[0]"
   ]
  },
  {
   "cell_type": "code",
   "execution_count": 294,
   "metadata": {},
   "outputs": [],
   "source": [
    "# Store results in defaultdict\n",
    "cuisines_metadata = defaultdict(list, {\n",
    "    cuisine['cuisine']['cuisine_id']: cuisine['cuisine']['cuisine_name'] \\\n",
    "    for cuisine in cuisines\n",
    "})"
   ]
  },
  {
   "cell_type": "code",
   "execution_count": 296,
   "metadata": {},
   "outputs": [],
   "source": [
    "'''\n",
    "We could filter to a shortened cuisine list for now, though for the /search API call, we are going to\n",
    "filter by establishment_type\n",
    "'''\n",
    "cuisine_list = [1, 25, 156, 55, 95]"
   ]
  },
  {
   "cell_type": "code",
   "execution_count": 305,
   "metadata": {},
   "outputs": [
    {
     "name": "stdout",
     "output_type": "stream",
     "text": [
      "Entity ID:  280\n",
      "Entity type:  city\n",
      "Start values:  [1, 21, 41, 61, 81]\n",
      "Count:  20\n",
      "Establishment IDs:  [21, 271, 1, 281, 7, 16, 24, 31, 18, 275, 101, 5, 278, 6, 286, 23, 8, 91, 285, 283, 284, 20, 282, 295, 292, 309, 272, 41, 291, 81, 294, 161, 290, 293]\n"
     ]
    }
   ],
   "source": [
    "'''\n",
    "/search endpoint\n",
    "\n",
    "- Pass IDs collected upstream into params\n",
    "- Append results from each set together\n",
    "- Store results in S3\n",
    "- Loop through various start dates with logic to break if result set returns 0 restaurants (none remaining)\n",
    "\n",
    "* Not using collection ID - limits to 30 restaurants\n",
    "'''\n",
    "# Define params here; inspect before configuring loop\n",
    "start_values = [num for num in range(1,100,20)]\n",
    "count=20\n",
    "\n",
    "print('Entity ID: ', entity_id)\n",
    "print('Entity type: ', entity_type)\n",
    "print('Start values: ', start_values)\n",
    "print('Count: ', count)\n",
    "print('Establishment IDs: ', establishment_ids)"
   ]
  },
  {
   "cell_type": "code",
   "execution_count": 379,
   "metadata": {},
   "outputs": [],
   "source": [
    "'''\n",
    "Initialize boto3 session, S3 resource; Zomato bucket\n",
    "- We are saving the raw results in S3\n",
    "- Metadata can also be stored in S3 under /metadata folder\n",
    "'''\n",
    "session = boto3.session.Session(profile_name='acloudguru')\n",
    "s3 = session.resource('s3')\n",
    "zomato_bucket = s3.Bucket('zomato-search-api-results')"
   ]
  },
  {
   "cell_type": "code",
   "execution_count": 384,
   "metadata": {},
   "outputs": [
    {
     "name": "stdout",
     "output_type": "stream",
     "text": [
      "Initiating requests for  Quick Bites ,  New York City, NY .\n",
      "Data extracted for  Quick Bites ,  New York City, NY .\n",
      "Initiating requests for  Sandwich Shop ,  New York City, NY .\n",
      "Data extracted for  Sandwich Shop ,  New York City, NY .\n",
      "Initiating requests for  Café ,  New York City, NY .\n",
      "Data extracted for  Café ,  New York City, NY .\n",
      "Initiating requests for  Fast Food ,  New York City, NY .\n",
      "Data extracted for  Fast Food ,  New York City, NY .\n",
      "Initiating requests for  Bar ,  New York City, NY .\n",
      "Data extracted for  Bar ,  New York City, NY .\n",
      "Initiating requests for  Casual Dining ,  New York City, NY .\n",
      "Data extracted for  Casual Dining ,  New York City, NY .\n",
      "Initiating requests for  Deli ,  New York City, NY .\n",
      "Data extracted for  Deli ,  New York City, NY .\n",
      "Initiating requests for  Bakery ,  New York City, NY .\n",
      "Data extracted for  Bakery ,  New York City, NY .\n",
      "Initiating requests for  Fine Dining ,  New York City, NY .\n",
      "Data extracted for  Fine Dining ,  New York City, NY .\n",
      "Initiating requests for  Pizzeria ,  New York City, NY .\n",
      "Data extracted for  Pizzeria ,  New York City, NY .\n",
      "Initiating requests for  Diner ,  New York City, NY .\n",
      "Data extracted for  Diner ,  New York City, NY .\n",
      "Initiating requests for  Lounge ,  New York City, NY .\n",
      "Data extracted for  Lounge ,  New York City, NY .\n",
      "Initiating requests for  Wine Bar ,  New York City, NY .\n",
      "Data extracted for  Wine Bar ,  New York City, NY .\n",
      "Initiating requests for  Pub ,  New York City, NY .\n",
      "Data extracted for  Pub ,  New York City, NY .\n",
      "Initiating requests for  Coffee Shop ,  New York City, NY .\n",
      "Data extracted for  Coffee Shop ,  New York City, NY .\n",
      "Initiating requests for  Dessert Parlour ,  New York City, NY .\n",
      "Data extracted for  Dessert Parlour ,  New York City, NY .\n",
      "Initiating requests for  Club ,  New York City, NY .\n",
      "Data extracted for  Club ,  New York City, NY .\n",
      "Initiating requests for  Bistro ,  New York City, NY .\n",
      "Data extracted for  Bistro ,  New York City, NY .\n",
      "Initiating requests for  Fast Casual ,  New York City, NY .\n",
      "Data extracted for  Fast Casual ,  New York City, NY .\n",
      "Initiating requests for  Brewery ,  New York City, NY .\n",
      "Data extracted for  Brewery ,  New York City, NY .\n",
      "Initiating requests for  Juice Bar ,  New York City, NY .\n",
      "Data extracted for  Juice Bar ,  New York City, NY .\n",
      "Initiating requests for  Food Court ,  New York City, NY .\n",
      "Data extracted for  Food Court ,  New York City, NY .\n",
      "Initiating requests for  Taqueria ,  New York City, NY .\n",
      "Data extracted for  Taqueria ,  New York City, NY .\n",
      "Initiating requests for  Noodle Shop ,  New York City, NY .\n",
      "Data extracted for  Noodle Shop ,  New York City, NY .\n",
      "Initiating requests for  Beer Garden ,  New York City, NY .\n",
      "Data extracted for  Beer Garden ,  New York City, NY .\n",
      "Initiating requests for  Steakhouse ,  New York City, NY .\n",
      "Data extracted for  Steakhouse ,  New York City, NY .\n",
      "Initiating requests for  Cocktail Bar ,  New York City, NY .\n",
      "Data extracted for  Cocktail Bar ,  New York City, NY .\n",
      "Initiating requests for  Beverage Shop ,  New York City, NY .\n",
      "Data extracted for  Beverage Shop ,  New York City, NY .\n",
      "Initiating requests for  Sweet Shop ,  New York City, NY .\n",
      "Data extracted for  Sweet Shop ,  New York City, NY .\n",
      "Initiating requests for  Food Truck ,  New York City, NY .\n",
      "Data extracted for  Food Truck ,  New York City, NY .\n",
      "Initiating requests for  Izakaya ,  New York City, NY .\n",
      "Data extracted for  Izakaya ,  New York City, NY .\n",
      "Initiating requests for  Microbrewery ,  New York City, NY .\n",
      "Data extracted for  Microbrewery ,  New York City, NY .\n",
      "Initiating requests for  Vineyard ,  New York City, NY .\n",
      "Data extracted for  Vineyard ,  New York City, NY .\n",
      "Initiating requests for  Shack ,  New York City, NY .\n",
      "Data extracted for  Shack ,  New York City, NY .\n"
     ]
    }
   ],
   "source": [
    "'''\n",
    "Main API - /search endpoint\n",
    "\n",
    "- Here we pass in the establishment_ids (and other parameters) that we want to pull data for.\n",
    "- Once the max 100 results are extracted for the set of params, the file is saved and uploaded to S3\n",
    "- Removed from local storage after upload\n",
    "\n",
    "* Error catching should be added before this is pushed into production\n",
    "'''\n",
    "for establishment_id in establishment_ids:\n",
    "    print('Initiating requests for ', establishment_metadata[establishment_id], ', ', \\\n",
    "             cities_metadata[entity_id]['name'], '.')\n",
    "    json_responses = []\n",
    "    i=1\n",
    "    for start_value in start_values:\n",
    "        params = {\n",
    "            'entity_id': entity_id,\n",
    "            'entity_type': entity_type,\n",
    "            'start': start_value,\n",
    "            'count': 20,\n",
    "            'establishment_type': establishment_id\n",
    "        }\n",
    "        \n",
    "        json_r = send_request(params, endpoint='search')\n",
    "        if not 'restaurants' in json_r.keys():\n",
    "            break\n",
    "        json_responses.append(json_r)\n",
    "        i+=1\n",
    "    \n",
    "    print('Data extracted for ', establishment_metadata[establishment_id], ', ', \\\n",
    "             cities_metadata[entity_id]['name'], '.')\n",
    "    # Save results to .JSON file\n",
    "    filename = today + '_' + (cities_metadata[entity_id]['name'].split(',')[0]) + \\\n",
    "        '_' + establishment_metadata[establishment_id] + '.json'\n",
    "    \n",
    "    # Save results to JSON file\n",
    "    with open(filename, 'w') as outfile:\n",
    "        json.dump(json_responses, outfile)\n",
    "    \n",
    "    # Upload results to S3\n",
    "    zomato_bucket.put_object(\n",
    "        Body=filename,\n",
    "        Key=filename\n",
    "    )\n",
    "    \n",
    "    # Remove file from local storage\n",
    "    os.remove(filename)"
   ]
  },
  {
   "cell_type": "code",
   "execution_count": 388,
   "metadata": {},
   "outputs": [
    {
     "name": "stdout",
     "output_type": "stream",
     "text": [
      "09-04-2020_New York City_Bakery.json\n",
      "09-04-2020_New York City_Bar.json\n",
      "09-04-2020_New York City_Beer Garden.json\n",
      "09-04-2020_New York City_Beverage Shop.json\n",
      "09-04-2020_New York City_Bistro.json\n",
      "09-04-2020_New York City_Brewery.json\n",
      "09-04-2020_New York City_Café.json\n",
      "09-04-2020_New York City_Casual Dining.json\n",
      "09-04-2020_New York City_Club.json\n",
      "09-04-2020_New York City_Cocktail Bar.json\n",
      "09-04-2020_New York City_Coffee Shop.json\n",
      "09-04-2020_New York City_Deli.json\n",
      "09-04-2020_New York City_Dessert Parlour.json\n",
      "09-04-2020_New York City_Diner.json\n",
      "09-04-2020_New York City_Fast Casual.json\n",
      "09-04-2020_New York City_Fast Food.json\n",
      "09-04-2020_New York City_Fine Dining.json\n",
      "09-04-2020_New York City_Food Court.json\n",
      "09-04-2020_New York City_Food Truck.json\n",
      "09-04-2020_New York City_Izakaya.json\n",
      "09-04-2020_New York City_Juice Bar.json\n",
      "09-04-2020_New York City_Lounge.json\n",
      "09-04-2020_New York City_Microbrewery.json\n",
      "09-04-2020_New York City_Noodle Shop.json\n",
      "09-04-2020_New York City_Pizzeria.json\n",
      "09-04-2020_New York City_Pub.json\n",
      "09-04-2020_New York City_Quick Bites.json\n",
      "09-04-2020_New York City_Sandwich Shop.json\n",
      "09-04-2020_New York City_Shack.json\n",
      "09-04-2020_New York City_Steakhouse.json\n",
      "09-04-2020_New York City_Sweet Shop.json\n",
      "09-04-2020_New York City_Taqueria.json\n",
      "09-04-2020_New York City_Vineyard.json\n",
      "09-04-2020_New York City_Wine Bar.json\n"
     ]
    }
   ],
   "source": [
    "# Confirm that all objects were uploaded to s3\n",
    "for obj in zomato_bucket.objects.all():\n",
    "    print(obj.key)"
   ]
  }
 ],
 "metadata": {
  "kernelspec": {
   "display_name": "Python 3",
   "language": "python",
   "name": "python3"
  },
  "language_info": {
   "codemirror_mode": {
    "name": "ipython",
    "version": 3
   },
   "file_extension": ".py",
   "mimetype": "text/x-python",
   "name": "python",
   "nbconvert_exporter": "python",
   "pygments_lexer": "ipython3",
   "version": "3.7.1"
  }
 },
 "nbformat": 4,
 "nbformat_minor": 2
}
