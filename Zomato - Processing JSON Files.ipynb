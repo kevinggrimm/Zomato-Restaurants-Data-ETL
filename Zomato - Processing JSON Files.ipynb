{
 "cells": [
  {
   "cell_type": "code",
   "execution_count": 1,
   "metadata": {},
   "outputs": [
    {
     "data": {
      "text/plain": [
       "'\\nZomato Restaurants Data\\n\\n- Processing JSON Files returned from the Zomato /search API endpoint\\nhttps://developers.zomato.com/documentation#!/restaurant/search\\n\\nStackOverflow:\\nhttps://stackoverflow.com/questions/22216076/unicodedecodeerror-utf8-codec-cant-decode-byte-0xa5-in-position-0-invalid-s\\n\\n'"
      ]
     },
     "execution_count": 1,
     "metadata": {},
     "output_type": "execute_result"
    }
   ],
   "source": [
    "'''\n",
    "Zomato Restaurants Data\n",
    "\n",
    "- Processing JSON Files returned from the Zomato /search API endpoint\n",
    "https://developers.zomato.com/documentation#!/restaurant/search\n",
    "\n",
    "'''"
   ]
  },
  {
   "cell_type": "code",
   "execution_count": 2,
   "metadata": {},
   "outputs": [],
   "source": [
    "# Import libraries\n",
    "from datetime import datetime\n",
    "from glob import glob\n",
    "from pandas import json_normalize\n",
    "\n",
    "import json\n",
    "import numpy as np\n",
    "import os\n",
    "import pandas as pd \n",
    "import zipfile"
   ]
  },
  {
   "cell_type": "code",
   "execution_count": 3,
   "metadata": {},
   "outputs": [],
   "source": [
    "file = r\"/Users/kevingrimm_/Desktop/ETL/GitHub Projects/zomato-restaurants-data.zip\""
   ]
  },
  {
   "cell_type": "code",
   "execution_count": 4,
   "metadata": {},
   "outputs": [],
   "source": [
    "# extract zip files\n",
    "with zipfile.ZipFile(file) as zip_file:\n",
    "    zip_file.extractall()"
   ]
  },
  {
   "cell_type": "code",
   "execution_count": 5,
   "metadata": {},
   "outputs": [
    {
     "data": {
      "text/plain": [
       "['Restaurant_Data_08-04-2020.xlsx',\n",
       " 'file5.json',\n",
       " '.DS_Store',\n",
       " 'file4.json',\n",
       " 'Untitled.ipynb',\n",
       " 'file3.json',\n",
       " 'Zomato - Processing JSON Files.ipynb',\n",
       " 'zomato.csv',\n",
       " 'file2.json',\n",
       " 'file1.json',\n",
       " 'zomato-restaurants-data.zip',\n",
       " 'Country-Code.xlsx']"
      ]
     },
     "execution_count": 5,
     "metadata": {},
     "output_type": "execute_result"
    }
   ],
   "source": [
    "# get list of files in current directory; confirm that zip was unzipped\n",
    "files = [f for f in os.listdir() if os.path.isfile(f)]\n",
    "files"
   ]
  },
  {
   "cell_type": "code",
   "execution_count": 6,
   "metadata": {},
   "outputs": [
    {
     "data": {
      "text/plain": [
       "\"\\nPer Kaggle, the cleaned data to be used for analysis is stored in 'zomato.csv'. \\n\\nHowever, for the purpose of this exercise, we are interested in the raw .json files.\\nThe aim is to produce an ETL that achieves the following:\\n\\n(1) Calls various API endpoints to extract raw data (and metadata) from sources\\n(2) Processes the raw files to recreate the collected data\\n(3) Create visualizations for cleaned data to reveal insights\\n\\nThis Jupyter notebook will initially only cover the data extracting, exploratory analysis, and data processing.\\nLater, modules will be produced to enable the following:\\n(1) Convert entire process into a DAG that runs on Apache Airflow\\n(2) Store raw data in S3\\n(3) Produce a Flask app that displays metrics for various dimensions (e.g., restaurant, city, country)\\n\""
      ]
     },
     "execution_count": 6,
     "metadata": {},
     "output_type": "execute_result"
    }
   ],
   "source": [
    "'''\n",
    "Per Kaggle, the cleaned data to be used for analysis is stored in 'zomato.csv'. \n",
    "\n",
    "However, for the purpose of this exercise, we are interested in the raw .json files.\n",
    "The aim is to produce an ETL that achieves the following:\n",
    "\n",
    "(1) Calls various API endpoints to extract raw data (and metadata) from sources\n",
    "(2) Processes the raw files to recreate the collected data\n",
    "(3) Create visualizations for cleaned data to reveal insights\n",
    "\n",
    "This Jupyter notebook will initially only cover the data extracting, exploratory analysis, and data processing.\n",
    "Later, modules will be produced to enable the following:\n",
    "(1) Convert entire process into a DAG that runs on Apache Airflow\n",
    "(2) Store raw data in S3\n",
    "(3) Produce a Flask app that displays metrics for various dimensions (e.g., restaurant, city, country)\n",
    "'''"
   ]
  },
  {
   "cell_type": "code",
   "execution_count": 7,
   "metadata": {},
   "outputs": [
    {
     "data": {
      "text/plain": [
       "['file5.json', 'file4.json', 'file3.json', 'file2.json', 'file1.json']"
      ]
     },
     "execution_count": 7,
     "metadata": {},
     "output_type": "execute_result"
    }
   ],
   "source": [
    "# In order to process each JSON file, we need to better understand the file contents.\n",
    "\n",
    "# Pulling all JSON files into the currenty directory\n",
    "json_files = glob(\"*.json\")\n",
    "\n",
    "# Confirming that JSON files are in a list\n",
    "json_files"
   ]
  },
  {
   "cell_type": "code",
   "execution_count": 8,
   "metadata": {},
   "outputs": [],
   "source": [
    "# Assigning a JSON file to a variable for further exploration\n",
    "first_json = json_files[0]\n",
    "\n",
    "# Opening the file, loading into a variable\n",
    "with open(first_json) as f:\n",
    "    df = json.load(f)"
   ]
  },
  {
   "cell_type": "code",
   "execution_count": 9,
   "metadata": {},
   "outputs": [
    {
     "data": {
      "text/plain": [
       "300"
      ]
     },
     "execution_count": 9,
     "metadata": {},
     "output_type": "execute_result"
    }
   ],
   "source": [
    "'''\n",
    "300 items are contained within var `df`\n",
    "Now, we are going to review individual results to identify key/value patterns\n",
    "'''\n",
    "len(df)"
   ]
  },
  {
   "cell_type": "code",
   "execution_count": 10,
   "metadata": {},
   "outputs": [
    {
     "name": "stdout",
     "output_type": "stream",
     "text": [
      "dict_keys(['results_found', 'restaurants', 'results_shown', 'results_start'])\n"
     ]
    },
    {
     "data": {
      "text/plain": [
       "{'results_found': 0,\n",
       " 'restaurants': [],\n",
       " 'results_shown': 0,\n",
       " 'results_start': '1'}"
      ]
     },
     "execution_count": 10,
     "metadata": {},
     "output_type": "execute_result"
    }
   ],
   "source": [
    "'''\n",
    "The first object has four keys, yet no values are stored in the dict\n",
    "- Moving on to object #2 to see if results are different\n",
    "'''\n",
    "\n",
    "r1 = df[0]\n",
    "print(r1.keys())\n",
    "r1"
   ]
  },
  {
   "cell_type": "code",
   "execution_count": 11,
   "metadata": {},
   "outputs": [
    {
     "name": "stdout",
     "output_type": "stream",
     "text": [
      "dict_keys(['results_found', 'restaurants', 'results_shown', 'results_start'])\n",
      "Results found:  6835\n",
      "Total restaurants:  20\n",
      "Results shown:  20\n",
      "Results start:  1\n"
     ]
    }
   ],
   "source": [
    "'''\n",
    "Object #2 returned results, and the data we are interested in is stored as a list value for `restaurants`\n",
    "'''\n",
    "r2 = df[1]\n",
    "print(r2.keys())\n",
    "print('Results found: ', r2['results_found'])\n",
    "print('Total restaurants: ', len(r2['restaurants']))\n",
    "print('Results shown: ', r2['results_shown'])\n",
    "print('Results start: ', r2['results_start'])"
   ]
  },
  {
   "cell_type": "code",
   "execution_count": 26,
   "metadata": {},
   "outputs": [
    {
     "data": {
      "text/plain": [
       "dict"
      ]
     },
     "execution_count": 26,
     "metadata": {},
     "output_type": "execute_result"
    }
   ],
   "source": [
    "'''\n",
    "Assigning a var to the first item; checking it's data type\n",
    "'''\n",
    "\n",
    "rest1 = r2['restaurants'][0]\n",
    "type(rest1)"
   ]
  },
  {
   "cell_type": "code",
   "execution_count": 27,
   "metadata": {},
   "outputs": [
    {
     "data": {
      "text/plain": [
       "dict_keys(['restaurant'])"
      ]
     },
     "execution_count": 27,
     "metadata": {},
     "output_type": "execute_result"
    }
   ],
   "source": [
    "# Checking keys now that we know it is a dict\n",
    "rest1.keys()"
   ]
  },
  {
   "cell_type": "code",
   "execution_count": 28,
   "metadata": {},
   "outputs": [
    {
     "data": {
      "text/plain": [
       "dict"
      ]
     },
     "execution_count": 28,
     "metadata": {},
     "output_type": "execute_result"
    }
   ],
   "source": [
    "# Setting the var to the contents of it's lone key; checking data type\n",
    "rest1 = rest1['restaurant']\n",
    "\n",
    "type(rest1)"
   ]
  },
  {
   "cell_type": "code",
   "execution_count": 30,
   "metadata": {},
   "outputs": [
    {
     "name": "stdout",
     "output_type": "stream",
     "text": [
      "23\n"
     ]
    },
    {
     "data": {
      "text/plain": [
       "dict_keys(['has_online_delivery', 'photos_url', 'url', 'price_range', 'apikey', 'user_rating', 'R', 'name', 'has_table_booking', 'is_delivering_now', 'deeplink', 'menu_url', 'average_cost_for_two', 'switch_to_order_menu', 'offers', 'cuisines', 'location', 'featured_image', 'currency', 'id', 'thumb', 'establishment_types', 'events_url'])"
      ]
     },
     "execution_count": 30,
     "metadata": {},
     "output_type": "execute_result"
    }
   ],
   "source": [
    "'''\n",
    "This object reveals 23 keys\n",
    "- At least one object within the outer object can be filtered out ({'...'} dict)\n",
    "'''\n",
    "print(len(rest1.keys()))\n",
    "rest1.keys()"
   ]
  },
  {
   "cell_type": "code",
   "execution_count": 31,
   "metadata": {},
   "outputs": [
    {
     "data": {
      "text/plain": [
       "{'has_online_delivery': 0,\n",
       " 'photos_url': 'https://www.zomato.com/orlando/bosphorous-turkish-cuisine-winter-park/photos?utm_source=api_basic_user&utm_medium=api&utm_campaign=v2.1#tabtop',\n",
       " 'url': 'https://www.zomato.com/orlando/bosphorous-turkish-cuisine-winter-park?utm_source=api_basic_user&utm_medium=api&utm_campaign=v2.1',\n",
       " 'price_range': 3,\n",
       " 'apikey': 'b90e6a8c738410315a20c449fe2eb1b1',\n",
       " 'user_rating': {'rating_text': 'Very Good',\n",
       "  'rating_color': '5BA829',\n",
       "  'votes': '568',\n",
       "  'aggregate_rating': '4.2'},\n",
       " 'R': {'res_id': 17057797},\n",
       " 'name': 'Bosphorous Turkish Cuisine',\n",
       " 'has_table_booking': 0,\n",
       " 'is_delivering_now': 0,\n",
       " 'deeplink': 'zomato://restaurant/17057797',\n",
       " 'menu_url': 'https://www.zomato.com/orlando/bosphorous-turkish-cuisine-winter-park/menu?utm_source=api_basic_user&utm_medium=api&utm_campaign=v2.1&openSwipeBox=menu&showMinimal=1#tabtop',\n",
       " 'average_cost_for_two': 40,\n",
       " 'switch_to_order_menu': 0,\n",
       " 'offers': [],\n",
       " 'cuisines': 'Mediterranean, Turkish',\n",
       " 'location': {'latitude': '28.5976271000',\n",
       "  'address': '108 S Park Ave, Winter Park, FL 32789',\n",
       "  'city': 'Orlando',\n",
       "  'country_id': 216,\n",
       "  'locality_verbose': 'Winter Park, Orlando',\n",
       "  'city_id': 601,\n",
       "  'zipcode': '32789',\n",
       "  'longitude': '-81.3508344000',\n",
       "  'locality': 'Winter Park'},\n",
       " 'featured_image': 'https://b.zmtcdn.com/data/pictures/7/17057797/6504549ba9a80220f1d891b4fc0f0e72_featured_v2.jpg',\n",
       " 'currency': '$',\n",
       " 'id': '17057797',\n",
       " 'thumb': 'https://b.zmtcdn.com/data/pictures/7/17057797/6504549ba9a80220f1d891b4fc0f0e72_featured_v2.jpg',\n",
       " 'establishment_types': [],\n",
       " 'events_url': 'https://www.zomato.com/orlando/bosphorous-turkish-cuisine-winter-park/events#tabtop?utm_source=api_basic_user&utm_medium=api&utm_campaign=v2.1'}"
      ]
     },
     "execution_count": 31,
     "metadata": {},
     "output_type": "execute_result"
    }
   ],
   "source": [
    "'''\n",
    "Reviewing the object at a high level\n",
    "- Following kernels dig into each key/value pair to assess their relevance to analytics\n",
    "(referenced API documentation for definitions)\n",
    "'''\n",
    "rest1"
   ]
  },
  {
   "cell_type": "code",
   "execution_count": 32,
   "metadata": {},
   "outputs": [
    {
     "data": {
      "text/plain": [
       "0"
      ]
     },
     "execution_count": 32,
     "metadata": {},
     "output_type": "execute_result"
    }
   ],
   "source": [
    "# Likely candiate for Yes/No values - need to review other outputs to confirm\n",
    "rest1['has_online_delivery']"
   ]
  },
  {
   "cell_type": "code",
   "execution_count": 33,
   "metadata": {},
   "outputs": [
    {
     "data": {
      "text/plain": [
       "'https://www.zomato.com/orlando/bosphorous-turkish-cuisine-winter-park/photos?utm_source=api_basic_user&utm_medium=api&utm_campaign=v2.1#tabtop'"
      ]
     },
     "execution_count": 33,
     "metadata": {},
     "output_type": "execute_result"
    }
   ],
   "source": [
    "# Not particularly helpful information for analytics\n",
    "rest1['photos_url']"
   ]
  },
  {
   "cell_type": "code",
   "execution_count": 34,
   "metadata": {},
   "outputs": [
    {
     "data": {
      "text/plain": [
       "'https://www.zomato.com/orlando/bosphorous-turkish-cuisine-winter-park?utm_source=api_basic_user&utm_medium=api&utm_campaign=v2.1'"
      ]
     },
     "execution_count": 34,
     "metadata": {},
     "output_type": "execute_result"
    }
   ],
   "source": [
    "# Not particularly helpful for analytics\n",
    "rest1['url']"
   ]
  },
  {
   "cell_type": "code",
   "execution_count": 35,
   "metadata": {},
   "outputs": [
    {
     "data": {
      "text/plain": [
       "3"
      ]
     },
     "execution_count": 35,
     "metadata": {},
     "output_type": "execute_result"
    }
   ],
   "source": [
    "# Price range is likely on a 1-5 or something similar - relevant dimension\n",
    "rest1['price_range']"
   ]
  },
  {
   "cell_type": "code",
   "execution_count": 36,
   "metadata": {},
   "outputs": [
    {
     "data": {
      "text/plain": [
       "'b90e6a8c738410315a20c449fe2eb1b1'"
      ]
     },
     "execution_count": 36,
     "metadata": {},
     "output_type": "execute_result"
    }
   ],
   "source": [
    "# Not relevant for analytics - API key for the original user\n",
    "rest1['apikey']"
   ]
  },
  {
   "cell_type": "code",
   "execution_count": 37,
   "metadata": {},
   "outputs": [
    {
     "data": {
      "text/plain": [
       "{'rating_text': 'Very Good',\n",
       " 'rating_color': '5BA829',\n",
       " 'votes': '568',\n",
       " 'aggregate_rating': '4.2'}"
      ]
     },
     "execution_count": 37,
     "metadata": {},
     "output_type": "execute_result"
    }
   ],
   "source": [
    "# These fields can be normalized as individual columns\n",
    "rest1['user_rating']"
   ]
  },
  {
   "cell_type": "code",
   "execution_count": 38,
   "metadata": {},
   "outputs": [
    {
     "data": {
      "text/plain": [
       "{'res_id': 17057797}"
      ]
     },
     "execution_count": 38,
     "metadata": {},
     "output_type": "execute_result"
    }
   ],
   "source": [
    "# restaurant ID is nested - relevant metric (for analytics/mapping)\n",
    "rest1['R']"
   ]
  },
  {
   "cell_type": "code",
   "execution_count": 39,
   "metadata": {},
   "outputs": [
    {
     "data": {
      "text/plain": [
       "'Bosphorous Turkish Cuisine'"
      ]
     },
     "execution_count": 39,
     "metadata": {},
     "output_type": "execute_result"
    }
   ],
   "source": [
    "# restaurant name - relevant dimension\n",
    "rest1['name']"
   ]
  },
  {
   "cell_type": "code",
   "execution_count": 40,
   "metadata": {},
   "outputs": [
    {
     "data": {
      "text/plain": [
       "0"
      ]
     },
     "execution_count": 40,
     "metadata": {},
     "output_type": "execute_result"
    }
   ],
   "source": [
    "# Whether the restaurant has table reservation enabled - relevant\n",
    "rest1['has_table_booking']"
   ]
  },
  {
   "cell_type": "code",
   "execution_count": 41,
   "metadata": {},
   "outputs": [
    {
     "data": {
      "text/plain": [
       "0"
      ]
     },
     "execution_count": 41,
     "metadata": {},
     "output_type": "execute_result"
    }
   ],
   "source": [
    "# Valid only if has_online_delivery =1; whether it is accepting online orders right now - relevant\n",
    "rest1['is_delivering_now']"
   ]
  },
  {
   "cell_type": "code",
   "execution_count": 42,
   "metadata": {},
   "outputs": [
    {
     "data": {
      "text/plain": [
       "'zomato://restaurant/17057797'"
      ]
     },
     "execution_count": 42,
     "metadata": {},
     "output_type": "execute_result"
    }
   ],
   "source": [
    "# short URL of the restaurant page\n",
    "# Not relevant for analytics\n",
    "rest1['deeplink']"
   ]
  },
  {
   "cell_type": "code",
   "execution_count": 43,
   "metadata": {},
   "outputs": [
    {
     "data": {
      "text/plain": [
       "'https://www.zomato.com/orlando/bosphorous-turkish-cuisine-winter-park/menu?utm_source=api_basic_user&utm_medium=api&utm_campaign=v2.1&openSwipeBox=menu&showMinimal=1#tabtop'"
      ]
     },
     "execution_count": 43,
     "metadata": {},
     "output_type": "execute_result"
    }
   ],
   "source": [
    "# URL of the menu page\n",
    "# Not relevant for analytics\n",
    "rest1['menu_url']"
   ]
  },
  {
   "cell_type": "code",
   "execution_count": 44,
   "metadata": {},
   "outputs": [
    {
     "data": {
      "text/plain": [
       "40"
      ]
     },
     "execution_count": 44,
     "metadata": {},
     "output_type": "execute_result"
    }
   ],
   "source": [
    "# Average price of a meal for two people - relevant\n",
    "rest1['average_cost_for_two']"
   ]
  },
  {
   "cell_type": "code",
   "execution_count": 45,
   "metadata": {},
   "outputs": [
    {
     "data": {
      "text/plain": [
       "0"
      ]
     },
     "execution_count": 45,
     "metadata": {},
     "output_type": "execute_result"
    }
   ],
   "source": [
    "# not referenced in API documentation\n",
    "# Possible candidate for Boolean dtype - keep for now\n",
    "rest1['switch_to_order_menu']"
   ]
  },
  {
   "cell_type": "code",
   "execution_count": 46,
   "metadata": {},
   "outputs": [
    {
     "data": {
      "text/plain": [
       "[]"
      ]
     },
     "execution_count": 46,
     "metadata": {},
     "output_type": "execute_result"
    }
   ],
   "source": [
    "# not referenced in API documentation\n",
    "# emtpy list - likely will discard\n",
    "rest1['offers']"
   ]
  },
  {
   "cell_type": "code",
   "execution_count": 47,
   "metadata": {},
   "outputs": [
    {
     "data": {
      "text/plain": [
       "'Mediterranean, Turkish'"
      ]
     },
     "execution_count": 47,
     "metadata": {},
     "output_type": "execute_result"
    }
   ],
   "source": [
    "# list of cuisines served at restaurant - relevant\n",
    "rest1['cuisines']"
   ]
  },
  {
   "cell_type": "code",
   "execution_count": 48,
   "metadata": {},
   "outputs": [
    {
     "data": {
      "text/plain": [
       "{'latitude': '28.5976271000',\n",
       " 'address': '108 S Park Ave, Winter Park, FL 32789',\n",
       " 'city': 'Orlando',\n",
       " 'country_id': 216,\n",
       " 'locality_verbose': 'Winter Park, Orlando',\n",
       " 'city_id': 601,\n",
       " 'zipcode': '32789',\n",
       " 'longitude': '-81.3508344000',\n",
       " 'locality': 'Winter Park'}"
      ]
     },
     "execution_count": 48,
     "metadata": {},
     "output_type": "execute_result"
    }
   ],
   "source": [
    "# location data can be normalized into individual columns - relevant for analytics/mapping\n",
    "rest1['location']"
   ]
  },
  {
   "cell_type": "code",
   "execution_count": 49,
   "metadata": {},
   "outputs": [
    {
     "data": {
      "text/plain": [
       "'https://b.zmtcdn.com/data/pictures/7/17057797/6504549ba9a80220f1d891b4fc0f0e72_featured_v2.jpg'"
      ]
     },
     "execution_count": 49,
     "metadata": {},
     "output_type": "execute_result"
    }
   ],
   "source": [
    "# URL of high resolution header image\n",
    "# Not particularly relevant for analytics\n",
    "rest1['featured_image']"
   ]
  },
  {
   "cell_type": "code",
   "execution_count": 50,
   "metadata": {},
   "outputs": [
    {
     "data": {
      "text/plain": [
       "'$'"
      ]
     },
     "execution_count": 50,
     "metadata": {},
     "output_type": "execute_result"
    }
   ],
   "source": [
    "# local currency symbol; to be used with price\n",
    "# Can add a currency mapping for USD conversions (would need data source)\n",
    "rest1['currency']"
   ]
  },
  {
   "cell_type": "code",
   "execution_count": 51,
   "metadata": {},
   "outputs": [
    {
     "data": {
      "text/plain": [
       "'17057797'"
      ]
     },
     "execution_count": 51,
     "metadata": {},
     "output_type": "execute_result"
    }
   ],
   "source": [
    "# ID of the restaurant - relevant\n",
    "# Matches value in rest['R']['rest_id']\n",
    "# Only need one of two fields, so keep one and drop the other\n",
    "rest1['id']"
   ]
  },
  {
   "cell_type": "code",
   "execution_count": 52,
   "metadata": {},
   "outputs": [
    {
     "data": {
      "text/plain": [
       "'https://b.zmtcdn.com/data/pictures/7/17057797/6504549ba9a80220f1d891b4fc0f0e72_featured_v2.jpg'"
      ]
     },
     "execution_count": 52,
     "metadata": {},
     "output_type": "execute_result"
    }
   ],
   "source": [
    "# URL of the low resolution header\n",
    "# Not relevant for anlytics \n",
    "rest1['thumb']"
   ]
  },
  {
   "cell_type": "code",
   "execution_count": 53,
   "metadata": {},
   "outputs": [
    {
     "data": {
      "text/plain": [
       "[]"
      ]
     },
     "execution_count": 53,
     "metadata": {},
     "output_type": "execute_result"
    }
   ],
   "source": [
    "# Need to review other results to determine relevance (i.e. are empty lists always returned)\n",
    "# Can possibly use the /establishments endpoint to add an establishments mapping\n",
    "rest1['establishment_types']"
   ]
  },
  {
   "cell_type": "code",
   "execution_count": 54,
   "metadata": {},
   "outputs": [
    {
     "data": {
      "text/plain": [
       "'https://www.zomato.com/orlando/bosphorous-turkish-cuisine-winter-park/events#tabtop?utm_source=api_basic_user&utm_medium=api&utm_campaign=v2.1'"
      ]
     },
     "execution_count": 54,
     "metadata": {},
     "output_type": "execute_result"
    }
   ],
   "source": [
    "# URL of the restaurants events page\n",
    "# Not particularly relevant for analytics\n",
    "rest1['events_url']"
   ]
  },
  {
   "cell_type": "code",
   "execution_count": 55,
   "metadata": {},
   "outputs": [
    {
     "name": "stdout",
     "output_type": "stream",
     "text": [
      "\n"
     ]
    }
   ],
   "source": [
    "'''\n",
    "NOTES:\n",
    "- After an initial review of the data, we can split the keys into two categories\n",
    "- Assuming that the listed fields are normalized if they are stored in a nested dict.\n",
    "- `offers` is not referenced in documentation and returned an empty list, so discarding for now\n",
    "- `switch_to_order_menu` is not referenced in documentation but has results, so keeping for now\n",
    "- `establishment_type` can potentially be pulled from the /establishments endpoint (still need results)  \n",
    "- some location fields (e.g., `city_id`, `country_id`, `zipcode`, can be saved in lookup tables)\n",
    "\n",
    "KEEP:\n",
    "- establishment_type\n",
    "- id\n",
    "- name\n",
    "- country_id\n",
    "- city\n",
    "- city_id\n",
    "- zipcode\n",
    "- address\n",
    "- locality\n",
    "- locality_verbose\n",
    "- longitude\n",
    "- latitude\n",
    "- cuisines\n",
    "- average_cost_for_two\n",
    "- currency\n",
    "- has_table_booking\n",
    "- has_online_delivery\n",
    "- is_delivering_now\n",
    "- switch_to_order_menu \n",
    "- price_range\n",
    "- aggregate_rating\n",
    "- rating_color\n",
    "- rating_text\n",
    "- votes\n",
    "\n",
    "DISCARDD:\n",
    "- events_url\n",
    "- thumb\n",
    "- featured_image\n",
    "- menu_url\n",
    "- deeplink\n",
    "- R\n",
    "- apikey\n",
    "- url\n",
    "- photos_url\n",
    "- offers (No API documentation)\n",
    "'''\n",
    "print()"
   ]
  },
  {
   "cell_type": "code",
   "execution_count": 56,
   "metadata": {},
   "outputs": [
    {
     "data": {
      "text/plain": [
       "Index(['has_online_delivery', 'photos_url', 'url', 'price_range', 'apikey',\n",
       "       'name', 'has_table_booking', 'is_delivering_now', 'deeplink',\n",
       "       'menu_url', 'average_cost_for_two', 'switch_to_order_menu', 'offers',\n",
       "       'cuisines', 'featured_image', 'currency', 'id', 'thumb',\n",
       "       'establishment_types', 'events_url', 'user_rating.rating_text',\n",
       "       'user_rating.rating_color', 'user_rating.votes',\n",
       "       'user_rating.aggregate_rating', 'R.res_id', 'location.latitude',\n",
       "       'location.address', 'location.city', 'location.country_id',\n",
       "       'location.locality_verbose', 'location.city_id', 'location.zipcode',\n",
       "       'location.longitude', 'location.locality'],\n",
       "      dtype='object')"
      ]
     },
     "execution_count": 56,
     "metadata": {},
     "output_type": "execute_result"
    }
   ],
   "source": [
    "'''\n",
    "Using pandas.json_normalize to normalize the results. Before processing the results, need to codify the \n",
    "process for converting all results. \n",
    "\n",
    "- Test process for a single result\n",
    "- Convert into function\n",
    "- Test function with a handle of results\n",
    "- If OK, apply to all results in JSON\n",
    "'''\n",
    "data = json_normalize(rest1)\n",
    "data.columns"
   ]
  },
  {
   "cell_type": "code",
   "execution_count": 57,
   "metadata": {},
   "outputs": [
    {
     "data": {
      "text/plain": [
       "24"
      ]
     },
     "execution_count": 57,
     "metadata": {},
     "output_type": "execute_result"
    }
   ],
   "source": [
    "# columns to keep\n",
    "keep = ['has_online_delivery', 'price_range', 'name', 'has_table_booking', 'is_delivering_now', \n",
    "       'average_cost_for_two', 'switch_to_order_menu', 'cuisines', 'currency', 'id', 'establishment_types',\n",
    "       'user_rating.rating_text', 'user_rating.rating_color', 'user_rating.votes', 'user_rating.aggregate_rating',\n",
    "       'location.latitude', 'location.address', 'location.city', 'location.city_id', 'location.country_id', \n",
    "       'location.locality_verbose', 'location.zipcode', 'location.locality', 'location.longitude']\n",
    "len(keep)"
   ]
  },
  {
   "cell_type": "code",
   "execution_count": 58,
   "metadata": {},
   "outputs": [
    {
     "data": {
      "text/plain": [
       "has_online_delivery              int64\n",
       "price_range                      int64\n",
       "name                            object\n",
       "has_table_booking                int64\n",
       "is_delivering_now                int64\n",
       "average_cost_for_two             int64\n",
       "switch_to_order_menu             int64\n",
       "cuisines                        object\n",
       "currency                        object\n",
       "id                              object\n",
       "establishment_types             object\n",
       "user_rating.rating_text         object\n",
       "user_rating.rating_color        object\n",
       "user_rating.votes               object\n",
       "user_rating.aggregate_rating    object\n",
       "location.latitude               object\n",
       "location.address                object\n",
       "location.city                   object\n",
       "location.city_id                 int64\n",
       "location.country_id              int64\n",
       "location.locality_verbose       object\n",
       "location.zipcode                object\n",
       "location.locality               object\n",
       "location.longitude              object\n",
       "dtype: object"
      ]
     },
     "execution_count": 58,
     "metadata": {},
     "output_type": "execute_result"
    }
   ],
   "source": [
    "# filter data to desired columns\n",
    "data = data[keep]\n",
    "# check dtypes\n",
    "data.dtypes"
   ]
  },
  {
   "cell_type": "code",
   "execution_count": 59,
   "metadata": {},
   "outputs": [],
   "source": [
    "'''\n",
    "Data cleaning for DF columns\n",
    "'''\n",
    "# Title casing\n",
    "data.columns = [value.title() for value in data.columns.values]\n",
    "\n",
    "# Replacing _ with \" \" \n",
    "data.columns = [value.replace(\"_\",\" \") for value in data.columns.values]\n",
    "\n",
    "# Removing key name if present\n",
    "data.columns = [value.split(\".\")[1] if \".\" in value else value for value in data.columns.values]\n",
    "\n",
    "# Renaming Name, ID columns\n",
    "data.rename(columns={\n",
    "    'Name': 'Restaurant Name',\n",
    "    'Id': 'Restaurant ID'\n",
    "}, inplace=True)"
   ]
  },
  {
   "cell_type": "code",
   "execution_count": 60,
   "metadata": {},
   "outputs": [
    {
     "data": {
      "text/plain": [
       "Index(['Has Online Delivery', 'Price Range', 'Restaurant Name',\n",
       "       'Has Table Booking', 'Is Delivering Now', 'Average Cost For Two',\n",
       "       'Switch To Order Menu', 'Cuisines', 'Currency', 'Restaurant ID',\n",
       "       'Establishment Types', 'Rating Text', 'Rating Color', 'Votes',\n",
       "       'Aggregate Rating', 'Latitude', 'Address', 'City', 'City Id',\n",
       "       'Country Id', 'Locality Verbose', 'Zipcode', 'Locality', 'Longitude'],\n",
       "      dtype='object')"
      ]
     },
     "execution_count": 60,
     "metadata": {},
     "output_type": "execute_result"
    }
   ],
   "source": [
    "# Confirm new column names\n",
    "data.columns"
   ]
  },
  {
   "cell_type": "code",
   "execution_count": 67,
   "metadata": {
    "scrolled": true
   },
   "outputs": [
    {
     "name": "stdout",
     "output_type": "stream",
     "text": [
      "71\n",
      "API limit exceeded\n",
      "dict_keys(['message', 'code', 'status'])\n",
      "72\n",
      "API limit exceeded\n",
      "dict_keys(['message', 'code', 'status'])\n",
      "73\n",
      "API limit exceeded\n",
      "dict_keys(['message', 'code', 'status'])\n",
      "74\n",
      "API limit exceeded\n",
      "dict_keys(['message', 'code', 'status'])\n",
      "75\n",
      "API limit exceeded\n",
      "dict_keys(['message', 'code', 'status'])\n",
      "76\n",
      "API limit exceeded\n",
      "dict_keys(['message', 'code', 'status'])\n",
      "77\n",
      "API limit exceeded\n",
      "dict_keys(['message', 'code', 'status'])\n",
      "78\n",
      "API limit exceeded\n",
      "dict_keys(['message', 'code', 'status'])\n",
      "79\n",
      "API limit exceeded\n",
      "dict_keys(['message', 'code', 'status'])\n",
      "80\n",
      "API limit exceeded\n",
      "dict_keys(['message', 'code', 'status'])\n",
      "81\n",
      "API limit exceeded\n",
      "dict_keys(['message', 'code', 'status'])\n",
      "82\n",
      "API limit exceeded\n",
      "dict_keys(['message', 'code', 'status'])\n",
      "83\n",
      "API limit exceeded\n",
      "dict_keys(['message', 'code', 'status'])\n",
      "84\n",
      "API limit exceeded\n",
      "dict_keys(['message', 'code', 'status'])\n",
      "85\n",
      "API limit exceeded\n",
      "dict_keys(['message', 'code', 'status'])\n",
      "86\n",
      "API limit exceeded\n",
      "dict_keys(['message', 'code', 'status'])\n",
      "87\n",
      "API limit exceeded\n",
      "dict_keys(['message', 'code', 'status'])\n",
      "88\n",
      "API limit exceeded\n",
      "dict_keys(['message', 'code', 'status'])\n",
      "89\n",
      "API limit exceeded\n",
      "dict_keys(['message', 'code', 'status'])\n",
      "90\n",
      "API limit exceeded\n",
      "dict_keys(['message', 'code', 'status'])\n",
      "91\n",
      "API limit exceeded\n",
      "dict_keys(['message', 'code', 'status'])\n",
      "92\n",
      "API limit exceeded\n",
      "dict_keys(['message', 'code', 'status'])\n",
      "93\n",
      "API limit exceeded\n",
      "dict_keys(['message', 'code', 'status'])\n",
      "94\n",
      "API limit exceeded\n",
      "dict_keys(['message', 'code', 'status'])\n",
      "95\n",
      "API limit exceeded\n",
      "dict_keys(['message', 'code', 'status'])\n",
      "96\n",
      "API limit exceeded\n",
      "dict_keys(['message', 'code', 'status'])\n",
      "97\n",
      "API limit exceeded\n",
      "dict_keys(['message', 'code', 'status'])\n",
      "98\n",
      "API limit exceeded\n",
      "dict_keys(['message', 'code', 'status'])\n",
      "99\n",
      "API limit exceeded\n",
      "dict_keys(['message', 'code', 'status'])\n",
      "100\n",
      "API limit exceeded\n",
      "dict_keys(['message', 'code', 'status'])\n",
      "101\n",
      "API limit exceeded\n",
      "dict_keys(['message', 'code', 'status'])\n",
      "102\n",
      "API limit exceeded\n",
      "dict_keys(['message', 'code', 'status'])\n",
      "103\n",
      "API limit exceeded\n",
      "dict_keys(['message', 'code', 'status'])\n",
      "104\n",
      "API limit exceeded\n",
      "dict_keys(['message', 'code', 'status'])\n",
      "105\n",
      "API limit exceeded\n",
      "dict_keys(['message', 'code', 'status'])\n",
      "106\n",
      "API limit exceeded\n",
      "dict_keys(['message', 'code', 'status'])\n",
      "107\n",
      "API limit exceeded\n",
      "dict_keys(['message', 'code', 'status'])\n",
      "108\n",
      "API limit exceeded\n",
      "dict_keys(['message', 'code', 'status'])\n",
      "109\n",
      "API limit exceeded\n",
      "dict_keys(['message', 'code', 'status'])\n",
      "110\n",
      "API limit exceeded\n",
      "dict_keys(['message', 'code', 'status'])\n",
      "111\n",
      "API limit exceeded\n",
      "dict_keys(['message', 'code', 'status'])\n",
      "112\n",
      "API limit exceeded\n",
      "dict_keys(['message', 'code', 'status'])\n",
      "113\n",
      "API limit exceeded\n",
      "dict_keys(['message', 'code', 'status'])\n",
      "114\n",
      "API limit exceeded\n",
      "dict_keys(['message', 'code', 'status'])\n",
      "115\n",
      "API limit exceeded\n",
      "dict_keys(['message', 'code', 'status'])\n",
      "116\n",
      "API limit exceeded\n",
      "dict_keys(['message', 'code', 'status'])\n",
      "117\n",
      "API limit exceeded\n",
      "dict_keys(['message', 'code', 'status'])\n",
      "118\n",
      "API limit exceeded\n",
      "dict_keys(['message', 'code', 'status'])\n",
      "119\n",
      "API limit exceeded\n",
      "dict_keys(['message', 'code', 'status'])\n",
      "120\n",
      "API limit exceeded\n",
      "dict_keys(['message', 'code', 'status'])\n",
      "121\n",
      "API limit exceeded\n",
      "dict_keys(['message', 'code', 'status'])\n",
      "122\n",
      "API limit exceeded\n",
      "dict_keys(['message', 'code', 'status'])\n",
      "123\n",
      "API limit exceeded\n",
      "dict_keys(['message', 'code', 'status'])\n",
      "124\n",
      "API limit exceeded\n",
      "dict_keys(['message', 'code', 'status'])\n",
      "125\n",
      "API limit exceeded\n",
      "dict_keys(['message', 'code', 'status'])\n",
      "126\n",
      "API limit exceeded\n",
      "dict_keys(['message', 'code', 'status'])\n",
      "127\n",
      "API limit exceeded\n",
      "dict_keys(['message', 'code', 'status'])\n",
      "128\n",
      "API limit exceeded\n",
      "dict_keys(['message', 'code', 'status'])\n",
      "129\n",
      "API limit exceeded\n",
      "dict_keys(['message', 'code', 'status'])\n",
      "130\n",
      "API limit exceeded\n",
      "dict_keys(['message', 'code', 'status'])\n",
      "131\n",
      "API limit exceeded\n",
      "dict_keys(['message', 'code', 'status'])\n",
      "132\n",
      "API limit exceeded\n",
      "dict_keys(['message', 'code', 'status'])\n",
      "133\n",
      "API limit exceeded\n",
      "dict_keys(['message', 'code', 'status'])\n",
      "134\n",
      "API limit exceeded\n",
      "dict_keys(['message', 'code', 'status'])\n",
      "135\n",
      "API limit exceeded\n",
      "dict_keys(['message', 'code', 'status'])\n",
      "136\n",
      "API limit exceeded\n",
      "dict_keys(['message', 'code', 'status'])\n",
      "137\n",
      "API limit exceeded\n",
      "dict_keys(['message', 'code', 'status'])\n",
      "138\n",
      "API limit exceeded\n",
      "dict_keys(['message', 'code', 'status'])\n",
      "139\n",
      "API limit exceeded\n",
      "dict_keys(['message', 'code', 'status'])\n",
      "140\n",
      "API limit exceeded\n",
      "dict_keys(['message', 'code', 'status'])\n",
      "141\n",
      "API limit exceeded\n",
      "dict_keys(['message', 'code', 'status'])\n",
      "142\n",
      "API limit exceeded\n",
      "dict_keys(['message', 'code', 'status'])\n",
      "143\n",
      "API limit exceeded\n",
      "dict_keys(['message', 'code', 'status'])\n",
      "144\n",
      "API limit exceeded\n",
      "dict_keys(['message', 'code', 'status'])\n",
      "145\n",
      "API limit exceeded\n",
      "dict_keys(['message', 'code', 'status'])\n",
      "146\n",
      "API limit exceeded\n",
      "dict_keys(['message', 'code', 'status'])\n",
      "147\n",
      "API limit exceeded\n",
      "dict_keys(['message', 'code', 'status'])\n",
      "148\n",
      "API limit exceeded\n",
      "dict_keys(['message', 'code', 'status'])\n",
      "149\n",
      "API limit exceeded\n",
      "dict_keys(['message', 'code', 'status'])\n",
      "150\n",
      "API limit exceeded\n",
      "dict_keys(['message', 'code', 'status'])\n",
      "151\n",
      "API limit exceeded\n",
      "dict_keys(['message', 'code', 'status'])\n",
      "152\n",
      "API limit exceeded\n",
      "dict_keys(['message', 'code', 'status'])\n",
      "153\n",
      "API limit exceeded\n",
      "dict_keys(['message', 'code', 'status'])\n",
      "154\n",
      "API limit exceeded\n",
      "dict_keys(['message', 'code', 'status'])\n",
      "155\n",
      "API limit exceeded\n",
      "dict_keys(['message', 'code', 'status'])\n",
      "156\n",
      "API limit exceeded\n",
      "dict_keys(['message', 'code', 'status'])\n",
      "157\n",
      "API limit exceeded\n",
      "dict_keys(['message', 'code', 'status'])\n",
      "158\n",
      "API limit exceeded\n",
      "dict_keys(['message', 'code', 'status'])\n",
      "159\n",
      "API limit exceeded\n",
      "dict_keys(['message', 'code', 'status'])\n",
      "160\n",
      "API limit exceeded\n",
      "dict_keys(['message', 'code', 'status'])\n",
      "161\n",
      "API limit exceeded\n",
      "dict_keys(['message', 'code', 'status'])\n",
      "162\n",
      "API limit exceeded\n",
      "dict_keys(['message', 'code', 'status'])\n",
      "163\n",
      "API limit exceeded\n",
      "dict_keys(['message', 'code', 'status'])\n",
      "164\n",
      "API limit exceeded\n",
      "dict_keys(['message', 'code', 'status'])\n",
      "165\n",
      "API limit exceeded\n",
      "dict_keys(['message', 'code', 'status'])\n",
      "166\n",
      "API limit exceeded\n",
      "dict_keys(['message', 'code', 'status'])\n",
      "167\n",
      "API limit exceeded\n",
      "dict_keys(['message', 'code', 'status'])\n",
      "168\n",
      "API limit exceeded\n",
      "dict_keys(['message', 'code', 'status'])\n",
      "169\n",
      "API limit exceeded\n",
      "dict_keys(['message', 'code', 'status'])\n",
      "170\n",
      "API limit exceeded\n",
      "dict_keys(['message', 'code', 'status'])\n",
      "171\n",
      "API limit exceeded\n",
      "dict_keys(['message', 'code', 'status'])\n",
      "172\n",
      "API limit exceeded\n",
      "dict_keys(['message', 'code', 'status'])\n",
      "173\n",
      "API limit exceeded\n",
      "dict_keys(['message', 'code', 'status'])\n",
      "174\n",
      "API limit exceeded\n",
      "dict_keys(['message', 'code', 'status'])\n",
      "175\n",
      "API limit exceeded\n",
      "dict_keys(['message', 'code', 'status'])\n",
      "176\n",
      "API limit exceeded\n",
      "dict_keys(['message', 'code', 'status'])\n",
      "177\n",
      "API limit exceeded\n",
      "dict_keys(['message', 'code', 'status'])\n",
      "178\n",
      "API limit exceeded\n",
      "dict_keys(['message', 'code', 'status'])\n",
      "179\n",
      "API limit exceeded\n",
      "dict_keys(['message', 'code', 'status'])\n",
      "180\n",
      "API limit exceeded\n",
      "dict_keys(['message', 'code', 'status'])\n",
      "181\n",
      "API limit exceeded\n",
      "dict_keys(['message', 'code', 'status'])\n",
      "182\n",
      "API limit exceeded\n",
      "dict_keys(['message', 'code', 'status'])\n",
      "183\n",
      "API limit exceeded\n",
      "dict_keys(['message', 'code', 'status'])\n",
      "184\n",
      "API limit exceeded\n",
      "dict_keys(['message', 'code', 'status'])\n",
      "185\n",
      "API limit exceeded\n",
      "dict_keys(['message', 'code', 'status'])\n",
      "186\n",
      "API limit exceeded\n",
      "dict_keys(['message', 'code', 'status'])\n",
      "187\n",
      "API limit exceeded\n",
      "dict_keys(['message', 'code', 'status'])\n",
      "188\n",
      "API limit exceeded\n",
      "dict_keys(['message', 'code', 'status'])\n",
      "189\n",
      "API limit exceeded\n",
      "dict_keys(['message', 'code', 'status'])\n",
      "190\n",
      "API limit exceeded\n",
      "dict_keys(['message', 'code', 'status'])\n",
      "191\n",
      "API limit exceeded\n",
      "dict_keys(['message', 'code', 'status'])\n",
      "192\n",
      "API limit exceeded\n",
      "dict_keys(['message', 'code', 'status'])\n",
      "193\n",
      "API limit exceeded\n",
      "dict_keys(['message', 'code', 'status'])\n",
      "194\n",
      "API limit exceeded\n",
      "dict_keys(['message', 'code', 'status'])\n",
      "195\n",
      "API limit exceeded\n",
      "dict_keys(['message', 'code', 'status'])\n",
      "196\n",
      "API limit exceeded\n",
      "dict_keys(['message', 'code', 'status'])\n",
      "197\n",
      "API limit exceeded\n",
      "dict_keys(['message', 'code', 'status'])\n",
      "198\n",
      "API limit exceeded\n",
      "dict_keys(['message', 'code', 'status'])\n",
      "199\n",
      "API limit exceeded\n",
      "dict_keys(['message', 'code', 'status'])\n",
      "200\n",
      "API limit exceeded\n",
      "dict_keys(['message', 'code', 'status'])\n",
      "201\n",
      "API limit exceeded\n",
      "dict_keys(['message', 'code', 'status'])\n",
      "202\n",
      "API limit exceeded\n",
      "dict_keys(['message', 'code', 'status'])\n",
      "203\n",
      "API limit exceeded\n",
      "dict_keys(['message', 'code', 'status'])\n",
      "204\n",
      "API limit exceeded\n",
      "dict_keys(['message', 'code', 'status'])\n",
      "205\n",
      "API limit exceeded\n",
      "dict_keys(['message', 'code', 'status'])\n",
      "206\n",
      "API limit exceeded\n",
      "dict_keys(['message', 'code', 'status'])\n",
      "207\n",
      "API limit exceeded\n",
      "dict_keys(['message', 'code', 'status'])\n",
      "208\n",
      "API limit exceeded\n",
      "dict_keys(['message', 'code', 'status'])\n",
      "209\n",
      "API limit exceeded\n",
      "dict_keys(['message', 'code', 'status'])\n",
      "210\n",
      "API limit exceeded\n",
      "dict_keys(['message', 'code', 'status'])\n",
      "211\n",
      "API limit exceeded\n",
      "dict_keys(['message', 'code', 'status'])\n",
      "212\n",
      "API limit exceeded\n",
      "dict_keys(['message', 'code', 'status'])\n",
      "213\n",
      "API limit exceeded\n",
      "dict_keys(['message', 'code', 'status'])\n",
      "214\n",
      "API limit exceeded\n",
      "dict_keys(['message', 'code', 'status'])\n",
      "215\n",
      "API limit exceeded\n",
      "dict_keys(['message', 'code', 'status'])\n",
      "216\n",
      "API limit exceeded\n",
      "dict_keys(['message', 'code', 'status'])\n",
      "217\n",
      "API limit exceeded\n",
      "dict_keys(['message', 'code', 'status'])\n",
      "218\n",
      "API limit exceeded\n",
      "dict_keys(['message', 'code', 'status'])\n",
      "219\n",
      "API limit exceeded\n",
      "dict_keys(['message', 'code', 'status'])\n",
      "220\n",
      "API limit exceeded\n",
      "dict_keys(['message', 'code', 'status'])\n",
      "221\n",
      "API limit exceeded\n",
      "dict_keys(['message', 'code', 'status'])\n",
      "222\n",
      "API limit exceeded\n",
      "dict_keys(['message', 'code', 'status'])\n",
      "223\n",
      "API limit exceeded\n",
      "dict_keys(['message', 'code', 'status'])\n",
      "224\n",
      "API limit exceeded\n",
      "dict_keys(['message', 'code', 'status'])\n",
      "225\n",
      "API limit exceeded\n",
      "dict_keys(['message', 'code', 'status'])\n",
      "226\n",
      "API limit exceeded\n",
      "dict_keys(['message', 'code', 'status'])\n",
      "227\n",
      "API limit exceeded\n",
      "dict_keys(['message', 'code', 'status'])\n",
      "228\n",
      "API limit exceeded\n",
      "dict_keys(['message', 'code', 'status'])\n",
      "229\n",
      "API limit exceeded\n",
      "dict_keys(['message', 'code', 'status'])\n",
      "230\n",
      "API limit exceeded\n",
      "dict_keys(['message', 'code', 'status'])\n",
      "231\n",
      "API limit exceeded\n",
      "dict_keys(['message', 'code', 'status'])\n",
      "232\n",
      "API limit exceeded\n",
      "dict_keys(['message', 'code', 'status'])\n",
      "233\n",
      "API limit exceeded\n",
      "dict_keys(['message', 'code', 'status'])\n",
      "234\n",
      "API limit exceeded\n",
      "dict_keys(['message', 'code', 'status'])\n",
      "235\n",
      "API limit exceeded\n",
      "dict_keys(['message', 'code', 'status'])\n",
      "236\n",
      "API limit exceeded\n",
      "dict_keys(['message', 'code', 'status'])\n",
      "237\n",
      "API limit exceeded\n",
      "dict_keys(['message', 'code', 'status'])\n",
      "238\n",
      "API limit exceeded\n",
      "dict_keys(['message', 'code', 'status'])\n",
      "239\n",
      "API limit exceeded\n",
      "dict_keys(['message', 'code', 'status'])\n",
      "240\n",
      "API limit exceeded\n",
      "dict_keys(['message', 'code', 'status'])\n",
      "241\n",
      "API limit exceeded\n",
      "dict_keys(['message', 'code', 'status'])\n",
      "242\n",
      "API limit exceeded\n",
      "dict_keys(['message', 'code', 'status'])\n",
      "243\n",
      "API limit exceeded\n",
      "dict_keys(['message', 'code', 'status'])\n",
      "244\n",
      "API limit exceeded\n",
      "dict_keys(['message', 'code', 'status'])\n",
      "245\n",
      "API limit exceeded\n",
      "dict_keys(['message', 'code', 'status'])\n",
      "246\n",
      "API limit exceeded\n",
      "dict_keys(['message', 'code', 'status'])\n",
      "247\n",
      "API limit exceeded\n",
      "dict_keys(['message', 'code', 'status'])\n",
      "248\n",
      "API limit exceeded\n",
      "dict_keys(['message', 'code', 'status'])\n",
      "249\n",
      "API limit exceeded\n",
      "dict_keys(['message', 'code', 'status'])\n",
      "250\n",
      "API limit exceeded\n",
      "dict_keys(['message', 'code', 'status'])\n",
      "251\n",
      "API limit exceeded\n",
      "dict_keys(['message', 'code', 'status'])\n",
      "252\n",
      "API limit exceeded\n",
      "dict_keys(['message', 'code', 'status'])\n",
      "253\n",
      "API limit exceeded\n",
      "dict_keys(['message', 'code', 'status'])\n",
      "254\n",
      "API limit exceeded\n",
      "dict_keys(['message', 'code', 'status'])\n",
      "255\n",
      "API limit exceeded\n",
      "dict_keys(['message', 'code', 'status'])\n",
      "256\n",
      "API limit exceeded\n",
      "dict_keys(['message', 'code', 'status'])\n",
      "257\n",
      "API limit exceeded\n",
      "dict_keys(['message', 'code', 'status'])\n",
      "258\n",
      "API limit exceeded\n",
      "dict_keys(['message', 'code', 'status'])\n",
      "259\n",
      "API limit exceeded\n",
      "dict_keys(['message', 'code', 'status'])\n",
      "260\n",
      "API limit exceeded\n",
      "dict_keys(['message', 'code', 'status'])\n",
      "261\n",
      "API limit exceeded\n",
      "dict_keys(['message', 'code', 'status'])\n",
      "262\n",
      "API limit exceeded\n",
      "dict_keys(['message', 'code', 'status'])\n",
      "263\n",
      "API limit exceeded\n",
      "dict_keys(['message', 'code', 'status'])\n",
      "264\n",
      "API limit exceeded\n",
      "dict_keys(['message', 'code', 'status'])\n",
      "265\n",
      "API limit exceeded\n",
      "dict_keys(['message', 'code', 'status'])\n",
      "266\n",
      "API limit exceeded\n",
      "dict_keys(['message', 'code', 'status'])\n",
      "267\n",
      "API limit exceeded\n",
      "dict_keys(['message', 'code', 'status'])\n",
      "268\n",
      "API limit exceeded\n",
      "dict_keys(['message', 'code', 'status'])\n",
      "269\n",
      "API limit exceeded\n",
      "dict_keys(['message', 'code', 'status'])\n",
      "270\n",
      "API limit exceeded\n",
      "dict_keys(['message', 'code', 'status'])\n",
      "271\n",
      "API limit exceeded\n",
      "dict_keys(['message', 'code', 'status'])\n",
      "272\n",
      "API limit exceeded\n",
      "dict_keys(['message', 'code', 'status'])\n",
      "273\n",
      "API limit exceeded\n",
      "dict_keys(['message', 'code', 'status'])\n",
      "274\n",
      "API limit exceeded\n",
      "dict_keys(['message', 'code', 'status'])\n",
      "275\n",
      "API limit exceeded\n",
      "dict_keys(['message', 'code', 'status'])\n",
      "276\n",
      "API limit exceeded\n",
      "dict_keys(['message', 'code', 'status'])\n",
      "277\n",
      "API limit exceeded\n",
      "dict_keys(['message', 'code', 'status'])\n",
      "278\n",
      "API limit exceeded\n",
      "dict_keys(['message', 'code', 'status'])\n",
      "279\n",
      "API limit exceeded\n",
      "dict_keys(['message', 'code', 'status'])\n",
      "280\n",
      "API limit exceeded\n",
      "dict_keys(['message', 'code', 'status'])\n",
      "281\n",
      "API limit exceeded\n",
      "dict_keys(['message', 'code', 'status'])\n",
      "282\n",
      "API limit exceeded\n",
      "dict_keys(['message', 'code', 'status'])\n",
      "283\n",
      "API limit exceeded\n",
      "dict_keys(['message', 'code', 'status'])\n",
      "284\n",
      "API limit exceeded\n",
      "dict_keys(['message', 'code', 'status'])\n",
      "285\n",
      "API limit exceeded\n",
      "dict_keys(['message', 'code', 'status'])\n",
      "286\n",
      "API limit exceeded\n",
      "dict_keys(['message', 'code', 'status'])\n",
      "287\n",
      "API limit exceeded\n",
      "dict_keys(['message', 'code', 'status'])\n",
      "288\n",
      "API limit exceeded\n",
      "dict_keys(['message', 'code', 'status'])\n",
      "289\n",
      "API limit exceeded\n",
      "dict_keys(['message', 'code', 'status'])\n",
      "290\n",
      "API limit exceeded\n",
      "dict_keys(['message', 'code', 'status'])\n",
      "291\n",
      "API limit exceeded\n",
      "dict_keys(['message', 'code', 'status'])\n",
      "292\n",
      "API limit exceeded\n",
      "dict_keys(['message', 'code', 'status'])\n",
      "293\n",
      "API limit exceeded\n",
      "dict_keys(['message', 'code', 'status'])\n",
      "294\n",
      "API limit exceeded\n",
      "dict_keys(['message', 'code', 'status'])\n",
      "295\n",
      "API limit exceeded\n",
      "dict_keys(['message', 'code', 'status'])\n",
      "296\n",
      "API limit exceeded\n",
      "dict_keys(['message', 'code', 'status'])\n",
      "297\n",
      "API limit exceeded\n",
      "dict_keys(['message', 'code', 'status'])\n",
      "298\n",
      "API limit exceeded\n",
      "dict_keys(['message', 'code', 'status'])\n",
      "299\n",
      "API limit exceeded\n",
      "dict_keys(['message', 'code', 'status'])\n",
      "300\n",
      "API limit exceeded\n",
      "dict_keys(['message', 'code', 'status'])\n"
     ]
    }
   ],
   "source": [
    "'''\n",
    "Knowing what we know the contents of each JSON file, lets further explore each item in the list. \n",
    "Checking for the existence of a `restaurants` key, since that is where the data is stored.\n",
    "\n",
    "Findings:\n",
    "- certain results do not contain restaurant info because those calls exceeded the API limit\n",
    "- add logic to filter out results that do not contain the 'restaurants' key\n",
    "'''\n",
    "i=0\n",
    "for result in df:\n",
    "    if 'restaurants' in result.keys(): \n",
    "        if len(result['restaurants']) == 0:\n",
    "            i+=1\n",
    "            continue\n",
    "        else:\n",
    "            i+=1\n",
    "            continue\n",
    "    else: \n",
    "        i+=1\n",
    "        print(i)\n",
    "        print(result['message'])\n",
    "        print(result.keys())"
   ]
  },
  {
   "cell_type": "code",
   "execution_count": 68,
   "metadata": {},
   "outputs": [],
   "source": [
    "'''\n",
    "List comprehension to reduce the final list of items further, eliminating the continuous nested dict with:\n",
    "\n",
    "`len(result['restaurants']) >0`\n",
    "\n",
    "while also adding logic to filter for values with `restaurant` in keys\n",
    "'''\n",
    "restaurants = [result['restaurants'] for result in df if 'restaurants' in result.keys() and len(result['restaurants']) >0]"
   ]
  },
  {
   "cell_type": "code",
   "execution_count": 69,
   "metadata": {},
   "outputs": [],
   "source": [
    "'''\n",
    "Final result for processing data from a single JSON file\n",
    "- Create a DF on the outside of the loop\n",
    "- Add login produced above to filter out irrelevant values\n",
    "- Normalize data; process headers\n",
    "- Append results to outer DF\n",
    "'''\n",
    "\n",
    "final = pd.DataFrame([])\n",
    "\n",
    "for restaurant_list in restaurants:\n",
    "    \n",
    "    restaurant_list = [result for result in restaurant_list if len(result['restaurant'].keys())>1]\n",
    "    for restaurant in restaurant_list:\n",
    "        \n",
    "        restaurant = restaurant['restaurant']\n",
    "        \n",
    "        data = json_normalize(restaurant)\n",
    "        data = data[keep]\n",
    "\n",
    "        data.columns = [value.title() for value in data.columns.values]\n",
    "        data.columns = [value.replace(\"_\",\" \") for value in data.columns.values]\n",
    "        data.columns = [value.split(\".\")[1] if \".\" in value else value for value in data.columns.values]\n",
    "\n",
    "        data.rename(\n",
    "            columns={\n",
    "                'Name': 'Restaurant Name',\n",
    "                'Id': 'Restaurant ID'\n",
    "            }\n",
    "        , inplace=True)\n",
    "\n",
    "        final = final.append(data, ignore_index=True)"
   ]
  },
  {
   "cell_type": "code",
   "execution_count": 70,
   "metadata": {},
   "outputs": [
    {
     "data": {
      "text/html": [
       "<div>\n",
       "<style scoped>\n",
       "    .dataframe tbody tr th:only-of-type {\n",
       "        vertical-align: middle;\n",
       "    }\n",
       "\n",
       "    .dataframe tbody tr th {\n",
       "        vertical-align: top;\n",
       "    }\n",
       "\n",
       "    .dataframe thead th {\n",
       "        text-align: right;\n",
       "    }\n",
       "</style>\n",
       "<table border=\"1\" class=\"dataframe\">\n",
       "  <thead>\n",
       "    <tr style=\"text-align: right;\">\n",
       "      <th></th>\n",
       "      <th>Has Online Delivery</th>\n",
       "      <th>Price Range</th>\n",
       "      <th>Restaurant Name</th>\n",
       "      <th>Has Table Booking</th>\n",
       "      <th>Is Delivering Now</th>\n",
       "      <th>Average Cost For Two</th>\n",
       "      <th>Switch To Order Menu</th>\n",
       "      <th>Cuisines</th>\n",
       "      <th>Currency</th>\n",
       "      <th>Restaurant ID</th>\n",
       "      <th>...</th>\n",
       "      <th>Aggregate Rating</th>\n",
       "      <th>Latitude</th>\n",
       "      <th>Address</th>\n",
       "      <th>City</th>\n",
       "      <th>City Id</th>\n",
       "      <th>Country Id</th>\n",
       "      <th>Locality Verbose</th>\n",
       "      <th>Zipcode</th>\n",
       "      <th>Locality</th>\n",
       "      <th>Longitude</th>\n",
       "    </tr>\n",
       "  </thead>\n",
       "  <tbody>\n",
       "    <tr>\n",
       "      <th>0</th>\n",
       "      <td>0</td>\n",
       "      <td>2</td>\n",
       "      <td>The Coop</td>\n",
       "      <td>0</td>\n",
       "      <td>0</td>\n",
       "      <td>25</td>\n",
       "      <td>0</td>\n",
       "      <td>Southern, Cajun, Soul Food</td>\n",
       "      <td>$</td>\n",
       "      <td>17066603</td>\n",
       "      <td>...</td>\n",
       "      <td>3.6</td>\n",
       "      <td>28.5973660000</td>\n",
       "      <td>610 W Morse Boulevard, Winter Park, FL 32789</td>\n",
       "      <td>Orlando</td>\n",
       "      <td>601</td>\n",
       "      <td>216</td>\n",
       "      <td>Winter Park, Orlando</td>\n",
       "      <td>32789</td>\n",
       "      <td>Winter Park</td>\n",
       "      <td>-81.3572190000</td>\n",
       "    </tr>\n",
       "    <tr>\n",
       "      <th>1</th>\n",
       "      <td>0</td>\n",
       "      <td>4</td>\n",
       "      <td>Maggiano's Little Italy</td>\n",
       "      <td>0</td>\n",
       "      <td>0</td>\n",
       "      <td>50</td>\n",
       "      <td>0</td>\n",
       "      <td>Italian</td>\n",
       "      <td>$</td>\n",
       "      <td>17059541</td>\n",
       "      <td>...</td>\n",
       "      <td>4.4</td>\n",
       "      <td>28.4332350000</td>\n",
       "      <td>9101 International Drive,Orlando, FL 32819</td>\n",
       "      <td>Orlando</td>\n",
       "      <td>601</td>\n",
       "      <td>216</td>\n",
       "      <td>I-Drive/Universal, Orlando</td>\n",
       "      <td>32819</td>\n",
       "      <td>I-Drive/Universal</td>\n",
       "      <td>-81.4714470000</td>\n",
       "    </tr>\n",
       "    <tr>\n",
       "      <th>2</th>\n",
       "      <td>0</td>\n",
       "      <td>1</td>\n",
       "      <td>Tako Cheena by Pom Pom</td>\n",
       "      <td>0</td>\n",
       "      <td>0</td>\n",
       "      <td>10</td>\n",
       "      <td>0</td>\n",
       "      <td>Asian, Latin American, Vegetarian</td>\n",
       "      <td>$</td>\n",
       "      <td>17064405</td>\n",
       "      <td>...</td>\n",
       "      <td>4.4</td>\n",
       "      <td>28.5578450000</td>\n",
       "      <td>932 North Mills Avenue, Orlando, FL 32803</td>\n",
       "      <td>Orlando</td>\n",
       "      <td>601</td>\n",
       "      <td>216</td>\n",
       "      <td>Mills 50, Orlando</td>\n",
       "      <td>32803</td>\n",
       "      <td>Mills 50</td>\n",
       "      <td>-81.3645470000</td>\n",
       "    </tr>\n",
       "    <tr>\n",
       "      <th>3</th>\n",
       "      <td>0</td>\n",
       "      <td>3</td>\n",
       "      <td>Bosphorous Turkish Cuisine</td>\n",
       "      <td>0</td>\n",
       "      <td>0</td>\n",
       "      <td>40</td>\n",
       "      <td>0</td>\n",
       "      <td>Mediterranean, Turkish</td>\n",
       "      <td>$</td>\n",
       "      <td>17057797</td>\n",
       "      <td>...</td>\n",
       "      <td>4.2</td>\n",
       "      <td>28.5976271000</td>\n",
       "      <td>108 S Park Ave, Winter Park, FL 32789</td>\n",
       "      <td>Orlando</td>\n",
       "      <td>601</td>\n",
       "      <td>216</td>\n",
       "      <td>Winter Park, Orlando</td>\n",
       "      <td>32789</td>\n",
       "      <td>Winter Park</td>\n",
       "      <td>-81.3508344000</td>\n",
       "    </tr>\n",
       "    <tr>\n",
       "      <th>4</th>\n",
       "      <td>0</td>\n",
       "      <td>3</td>\n",
       "      <td>Bahama Breeze Island Grille</td>\n",
       "      <td>0</td>\n",
       "      <td>0</td>\n",
       "      <td>45</td>\n",
       "      <td>0</td>\n",
       "      <td>Caribbean</td>\n",
       "      <td>$</td>\n",
       "      <td>17057591</td>\n",
       "      <td>...</td>\n",
       "      <td>4.3</td>\n",
       "      <td>28.4370650000</td>\n",
       "      <td>8849 International Drive, Orlando, FL 32819</td>\n",
       "      <td>Orlando</td>\n",
       "      <td>601</td>\n",
       "      <td>216</td>\n",
       "      <td>I-Drive/Universal, Orlando</td>\n",
       "      <td>32819</td>\n",
       "      <td>I-Drive/Universal</td>\n",
       "      <td>-81.4715260000</td>\n",
       "    </tr>\n",
       "  </tbody>\n",
       "</table>\n",
       "<p>5 rows × 24 columns</p>\n",
       "</div>"
      ],
      "text/plain": [
       "   Has Online Delivery  Price Range              Restaurant Name  \\\n",
       "0                    0            2                     The Coop   \n",
       "1                    0            4      Maggiano's Little Italy   \n",
       "2                    0            1       Tako Cheena by Pom Pom   \n",
       "3                    0            3   Bosphorous Turkish Cuisine   \n",
       "4                    0            3  Bahama Breeze Island Grille   \n",
       "\n",
       "   Has Table Booking  Is Delivering Now  Average Cost For Two  \\\n",
       "0                  0                  0                    25   \n",
       "1                  0                  0                    50   \n",
       "2                  0                  0                    10   \n",
       "3                  0                  0                    40   \n",
       "4                  0                  0                    45   \n",
       "\n",
       "   Switch To Order Menu                           Cuisines Currency  \\\n",
       "0                     0         Southern, Cajun, Soul Food        $   \n",
       "1                     0                            Italian        $   \n",
       "2                     0  Asian, Latin American, Vegetarian        $   \n",
       "3                     0             Mediterranean, Turkish        $   \n",
       "4                     0                          Caribbean        $   \n",
       "\n",
       "  Restaurant ID  ... Aggregate Rating       Latitude  \\\n",
       "0      17066603  ...              3.6  28.5973660000   \n",
       "1      17059541  ...              4.4  28.4332350000   \n",
       "2      17064405  ...              4.4  28.5578450000   \n",
       "3      17057797  ...              4.2  28.5976271000   \n",
       "4      17057591  ...              4.3  28.4370650000   \n",
       "\n",
       "                                        Address     City City Id Country Id  \\\n",
       "0  610 W Morse Boulevard, Winter Park, FL 32789  Orlando     601        216   \n",
       "1    9101 International Drive,Orlando, FL 32819  Orlando     601        216   \n",
       "2     932 North Mills Avenue, Orlando, FL 32803  Orlando     601        216   \n",
       "3         108 S Park Ave, Winter Park, FL 32789  Orlando     601        216   \n",
       "4   8849 International Drive, Orlando, FL 32819  Orlando     601        216   \n",
       "\n",
       "             Locality Verbose Zipcode           Locality       Longitude  \n",
       "0        Winter Park, Orlando   32789        Winter Park  -81.3572190000  \n",
       "1  I-Drive/Universal, Orlando   32819  I-Drive/Universal  -81.4714470000  \n",
       "2           Mills 50, Orlando   32803           Mills 50  -81.3645470000  \n",
       "3        Winter Park, Orlando   32789        Winter Park  -81.3508344000  \n",
       "4  I-Drive/Universal, Orlando   32819  I-Drive/Universal  -81.4715260000  \n",
       "\n",
       "[5 rows x 24 columns]"
      ]
     },
     "execution_count": 70,
     "metadata": {},
     "output_type": "execute_result"
    }
   ],
   "source": [
    "final.head()"
   ]
  },
  {
   "cell_type": "code",
   "execution_count": 71,
   "metadata": {},
   "outputs": [],
   "source": [
    "'''\n",
    "Now, we broaden the process to encapsulate all JSON files\n",
    "\n",
    "To do:\n",
    "- Time results when using parallel computations (Dask)\n",
    "'''\n",
    "\n",
    "json_files = glob(\"*.json\")\n",
    "\n",
    "final = pd.DataFrame([])\n",
    "for file in json_files:\n",
    "\n",
    "    with open(file) as f:\n",
    "    \n",
    "        data = json.load(f)\n",
    "        \n",
    "        restaurants = [result['restaurants'] for result in data \\\n",
    "                       if 'restaurants' in result.keys() and \\\n",
    "                       len(result['restaurants']) >0]\n",
    " \n",
    "        for restaurant_list in restaurants:\n",
    "\n",
    "            restaurant_list = [result for result in restaurant_list if len(result['restaurant'].keys())>1]\n",
    "            for restaurant in restaurant_list:\n",
    "\n",
    "                restaurant = restaurant['restaurant']\n",
    "\n",
    "                data = json_normalize(restaurant)\n",
    "                data = data[keep]\n",
    "\n",
    "                data.columns = [value.title() for value in data.columns.values]\n",
    "                data.columns = [value.replace(\"_\",\" \") for value in data.columns.values]\n",
    "                data.columns = [value.split(\".\")[1] if \".\" in value else value for value in data.columns.values]\n",
    "\n",
    "                data.rename(\n",
    "                    columns={\n",
    "                        'Name': 'Restaurant Name',\n",
    "                        'Id': 'Restaurant ID'\n",
    "                    }\n",
    "                , inplace=True)\n",
    "\n",
    "                final = final.append(data, ignore_index=True)"
   ]
  },
  {
   "cell_type": "code",
   "execution_count": 72,
   "metadata": {},
   "outputs": [
    {
     "data": {
      "text/plain": [
       "(29753, 24)"
      ]
     },
     "execution_count": 72,
     "metadata": {},
     "output_type": "execute_result"
    }
   ],
   "source": [
    "final.shape"
   ]
  },
  {
   "cell_type": "code",
   "execution_count": 73,
   "metadata": {},
   "outputs": [
    {
     "data": {
      "text/html": [
       "<div>\n",
       "<style scoped>\n",
       "    .dataframe tbody tr th:only-of-type {\n",
       "        vertical-align: middle;\n",
       "    }\n",
       "\n",
       "    .dataframe tbody tr th {\n",
       "        vertical-align: top;\n",
       "    }\n",
       "\n",
       "    .dataframe thead th {\n",
       "        text-align: right;\n",
       "    }\n",
       "</style>\n",
       "<table border=\"1\" class=\"dataframe\">\n",
       "  <thead>\n",
       "    <tr style=\"text-align: right;\">\n",
       "      <th></th>\n",
       "      <th>Has Online Delivery</th>\n",
       "      <th>Price Range</th>\n",
       "      <th>Restaurant Name</th>\n",
       "      <th>Has Table Booking</th>\n",
       "      <th>Is Delivering Now</th>\n",
       "      <th>Average Cost For Two</th>\n",
       "      <th>Switch To Order Menu</th>\n",
       "      <th>Cuisines</th>\n",
       "      <th>Currency</th>\n",
       "      <th>Restaurant ID</th>\n",
       "      <th>...</th>\n",
       "      <th>Aggregate Rating</th>\n",
       "      <th>Latitude</th>\n",
       "      <th>Address</th>\n",
       "      <th>City</th>\n",
       "      <th>City Id</th>\n",
       "      <th>Country Id</th>\n",
       "      <th>Locality Verbose</th>\n",
       "      <th>Zipcode</th>\n",
       "      <th>Locality</th>\n",
       "      <th>Longitude</th>\n",
       "    </tr>\n",
       "  </thead>\n",
       "  <tbody>\n",
       "    <tr>\n",
       "      <th>0</th>\n",
       "      <td>0</td>\n",
       "      <td>2</td>\n",
       "      <td>The Coop</td>\n",
       "      <td>0</td>\n",
       "      <td>0</td>\n",
       "      <td>25</td>\n",
       "      <td>0</td>\n",
       "      <td>Southern, Cajun, Soul Food</td>\n",
       "      <td>$</td>\n",
       "      <td>17066603</td>\n",
       "      <td>...</td>\n",
       "      <td>3.6</td>\n",
       "      <td>28.5973660000</td>\n",
       "      <td>610 W Morse Boulevard, Winter Park, FL 32789</td>\n",
       "      <td>Orlando</td>\n",
       "      <td>601</td>\n",
       "      <td>216</td>\n",
       "      <td>Winter Park, Orlando</td>\n",
       "      <td>32789</td>\n",
       "      <td>Winter Park</td>\n",
       "      <td>-81.3572190000</td>\n",
       "    </tr>\n",
       "    <tr>\n",
       "      <th>1</th>\n",
       "      <td>0</td>\n",
       "      <td>4</td>\n",
       "      <td>Maggiano's Little Italy</td>\n",
       "      <td>0</td>\n",
       "      <td>0</td>\n",
       "      <td>50</td>\n",
       "      <td>0</td>\n",
       "      <td>Italian</td>\n",
       "      <td>$</td>\n",
       "      <td>17059541</td>\n",
       "      <td>...</td>\n",
       "      <td>4.4</td>\n",
       "      <td>28.4332350000</td>\n",
       "      <td>9101 International Drive,Orlando, FL 32819</td>\n",
       "      <td>Orlando</td>\n",
       "      <td>601</td>\n",
       "      <td>216</td>\n",
       "      <td>I-Drive/Universal, Orlando</td>\n",
       "      <td>32819</td>\n",
       "      <td>I-Drive/Universal</td>\n",
       "      <td>-81.4714470000</td>\n",
       "    </tr>\n",
       "    <tr>\n",
       "      <th>2</th>\n",
       "      <td>0</td>\n",
       "      <td>1</td>\n",
       "      <td>Tako Cheena by Pom Pom</td>\n",
       "      <td>0</td>\n",
       "      <td>0</td>\n",
       "      <td>10</td>\n",
       "      <td>0</td>\n",
       "      <td>Asian, Latin American, Vegetarian</td>\n",
       "      <td>$</td>\n",
       "      <td>17064405</td>\n",
       "      <td>...</td>\n",
       "      <td>4.4</td>\n",
       "      <td>28.5578450000</td>\n",
       "      <td>932 North Mills Avenue, Orlando, FL 32803</td>\n",
       "      <td>Orlando</td>\n",
       "      <td>601</td>\n",
       "      <td>216</td>\n",
       "      <td>Mills 50, Orlando</td>\n",
       "      <td>32803</td>\n",
       "      <td>Mills 50</td>\n",
       "      <td>-81.3645470000</td>\n",
       "    </tr>\n",
       "    <tr>\n",
       "      <th>3</th>\n",
       "      <td>0</td>\n",
       "      <td>3</td>\n",
       "      <td>Bosphorous Turkish Cuisine</td>\n",
       "      <td>0</td>\n",
       "      <td>0</td>\n",
       "      <td>40</td>\n",
       "      <td>0</td>\n",
       "      <td>Mediterranean, Turkish</td>\n",
       "      <td>$</td>\n",
       "      <td>17057797</td>\n",
       "      <td>...</td>\n",
       "      <td>4.2</td>\n",
       "      <td>28.5976271000</td>\n",
       "      <td>108 S Park Ave, Winter Park, FL 32789</td>\n",
       "      <td>Orlando</td>\n",
       "      <td>601</td>\n",
       "      <td>216</td>\n",
       "      <td>Winter Park, Orlando</td>\n",
       "      <td>32789</td>\n",
       "      <td>Winter Park</td>\n",
       "      <td>-81.3508344000</td>\n",
       "    </tr>\n",
       "    <tr>\n",
       "      <th>4</th>\n",
       "      <td>0</td>\n",
       "      <td>3</td>\n",
       "      <td>Bahama Breeze Island Grille</td>\n",
       "      <td>0</td>\n",
       "      <td>0</td>\n",
       "      <td>45</td>\n",
       "      <td>0</td>\n",
       "      <td>Caribbean</td>\n",
       "      <td>$</td>\n",
       "      <td>17057591</td>\n",
       "      <td>...</td>\n",
       "      <td>4.3</td>\n",
       "      <td>28.4370650000</td>\n",
       "      <td>8849 International Drive, Orlando, FL 32819</td>\n",
       "      <td>Orlando</td>\n",
       "      <td>601</td>\n",
       "      <td>216</td>\n",
       "      <td>I-Drive/Universal, Orlando</td>\n",
       "      <td>32819</td>\n",
       "      <td>I-Drive/Universal</td>\n",
       "      <td>-81.4715260000</td>\n",
       "    </tr>\n",
       "  </tbody>\n",
       "</table>\n",
       "<p>5 rows × 24 columns</p>\n",
       "</div>"
      ],
      "text/plain": [
       "   Has Online Delivery  Price Range              Restaurant Name  \\\n",
       "0                    0            2                     The Coop   \n",
       "1                    0            4      Maggiano's Little Italy   \n",
       "2                    0            1       Tako Cheena by Pom Pom   \n",
       "3                    0            3   Bosphorous Turkish Cuisine   \n",
       "4                    0            3  Bahama Breeze Island Grille   \n",
       "\n",
       "   Has Table Booking  Is Delivering Now  Average Cost For Two  \\\n",
       "0                  0                  0                    25   \n",
       "1                  0                  0                    50   \n",
       "2                  0                  0                    10   \n",
       "3                  0                  0                    40   \n",
       "4                  0                  0                    45   \n",
       "\n",
       "   Switch To Order Menu                           Cuisines Currency  \\\n",
       "0                     0         Southern, Cajun, Soul Food        $   \n",
       "1                     0                            Italian        $   \n",
       "2                     0  Asian, Latin American, Vegetarian        $   \n",
       "3                     0             Mediterranean, Turkish        $   \n",
       "4                     0                          Caribbean        $   \n",
       "\n",
       "  Restaurant ID  ... Aggregate Rating       Latitude  \\\n",
       "0      17066603  ...              3.6  28.5973660000   \n",
       "1      17059541  ...              4.4  28.4332350000   \n",
       "2      17064405  ...              4.4  28.5578450000   \n",
       "3      17057797  ...              4.2  28.5976271000   \n",
       "4      17057591  ...              4.3  28.4370650000   \n",
       "\n",
       "                                        Address     City City Id Country Id  \\\n",
       "0  610 W Morse Boulevard, Winter Park, FL 32789  Orlando     601        216   \n",
       "1    9101 International Drive,Orlando, FL 32819  Orlando     601        216   \n",
       "2     932 North Mills Avenue, Orlando, FL 32803  Orlando     601        216   \n",
       "3         108 S Park Ave, Winter Park, FL 32789  Orlando     601        216   \n",
       "4   8849 International Drive, Orlando, FL 32819  Orlando     601        216   \n",
       "\n",
       "             Locality Verbose Zipcode           Locality       Longitude  \n",
       "0        Winter Park, Orlando   32789        Winter Park  -81.3572190000  \n",
       "1  I-Drive/Universal, Orlando   32819  I-Drive/Universal  -81.4714470000  \n",
       "2           Mills 50, Orlando   32803           Mills 50  -81.3645470000  \n",
       "3        Winter Park, Orlando   32789        Winter Park  -81.3508344000  \n",
       "4  I-Drive/Universal, Orlando   32819  I-Drive/Universal  -81.4715260000  \n",
       "\n",
       "[5 rows x 24 columns]"
      ]
     },
     "execution_count": 73,
     "metadata": {},
     "output_type": "execute_result"
    }
   ],
   "source": [
    "final.head()"
   ]
  },
  {
   "cell_type": "code",
   "execution_count": 74,
   "metadata": {},
   "outputs": [
    {
     "name": "stdout",
     "output_type": "stream",
     "text": [
      "\n"
     ]
    }
   ],
   "source": [
    "'''\n",
    "Doing some exploratory analysis in the following kernels. The idea is to:\n",
    "- Get a sense of what the range of values are for specific columns\n",
    "- Whether there are significnat null values (can also do this w/ final.info())\n",
    "- Identify values that require mapping (or can be stored elsewhere as dimension tables)\n",
    "'''\n",
    "print()"
   ]
  },
  {
   "cell_type": "code",
   "execution_count": 75,
   "metadata": {},
   "outputs": [
    {
     "data": {
      "text/plain": [
       "2    10911\n",
       "1     8234\n",
       "3     7524\n",
       "4     3084\n",
       "Name: Price Range, dtype: int64"
      ]
     },
     "execution_count": 75,
     "metadata": {},
     "output_type": "execute_result"
    }
   ],
   "source": [
    "# Can remain as is\n",
    "final['Price Range'].value_counts()"
   ]
  },
  {
   "cell_type": "code",
   "execution_count": 76,
   "metadata": {},
   "outputs": [
    {
     "data": {
      "text/plain": [
       "0    29695\n",
       "1       58\n",
       "Name: Is Delivering Now, dtype: int64"
      ]
     },
     "execution_count": 76,
     "metadata": {},
     "output_type": "execute_result"
    }
   ],
   "source": [
    "# Need to convert human-readable format (Yes/No)\n",
    "final['Is Delivering Now'].value_counts()"
   ]
  },
  {
   "cell_type": "code",
   "execution_count": 77,
   "metadata": {},
   "outputs": [
    {
     "data": {
      "text/plain": [
       "Rs.    20503\n",
       "$       8109\n",
       "P        384\n",
       "IDR      357\n",
       "£         80\n",
       "R         60\n",
       "AED       60\n",
       "R$        60\n",
       "NZ$       40\n",
       "TL        40\n",
       "QR        20\n",
       "LKR       20\n",
       "          20\n",
       "Name: Currency, dtype: int64"
      ]
     },
     "execution_count": 77,
     "metadata": {},
     "output_type": "execute_result"
    }
   ],
   "source": [
    "# There should be a mapping for this with a standardized currency convention\n",
    "# Did not add yet but will explore \n",
    "final['Currency'].value_counts()"
   ]
  },
  {
   "cell_type": "code",
   "execution_count": 78,
   "metadata": {},
   "outputs": [
    {
     "data": {
      "text/plain": [
       "0      3144\n",
       "4.1    2488\n",
       "4.3    2272\n",
       "3.6    1981\n",
       "3.8    1759\n",
       "3.7    1612\n",
       "3.9    1509\n",
       "4.4    1299\n",
       "4.2    1264\n",
       "3.2    1255\n",
       "3.5    1203\n",
       "3.4    1157\n",
       "3.3    1071\n",
       "4.0    1030\n",
       "3.1     916\n",
       "3.0     902\n",
       "2.9     778\n",
       "4.6     693\n",
       "2.6     477\n",
       "2.4     468\n",
       "2.8     461\n",
       "4.9     402\n",
       "4.5     398\n",
       "2.7     374\n",
       "4.7     254\n",
       "4.8     210\n",
       "2.5     187\n",
       "2.3      98\n",
       "2.2      37\n",
       "0        20\n",
       "2.1      19\n",
       "2.0      12\n",
       "1.9       2\n",
       "1.8       1\n",
       "Name: Aggregate Rating, dtype: int64"
      ]
     },
     "execution_count": 78,
     "metadata": {},
     "output_type": "execute_result"
    }
   ],
   "source": [
    "# can dig into the 0 values further - i.e., why are there 2 apparent 0 values?\n",
    "final['Aggregate Rating'].value_counts(dropna=False)"
   ]
  },
  {
   "cell_type": "code",
   "execution_count": 79,
   "metadata": {},
   "outputs": [
    {
     "data": {
      "text/plain": [
       "0       1457\n",
       "1        700\n",
       "29       614\n",
       "2        608\n",
       "6        602\n",
       "        ... \n",
       "466        1\n",
       "1098       1\n",
       "341        1\n",
       "1109       1\n",
       "856        1\n",
       "Name: Votes, Length: 1015, dtype: int64"
      ]
     },
     "execution_count": 79,
     "metadata": {},
     "output_type": "execute_result"
    }
   ],
   "source": [
    "# votes can remain as is\n",
    "final['Votes'].value_counts(dropna=False)"
   ]
  },
  {
   "cell_type": "code",
   "execution_count": 80,
   "metadata": {},
   "outputs": [
    {
     "data": {
      "text/plain": [
       "New Delhi        12362\n",
       "Noida             2885\n",
       "Gurgaon           2052\n",
       "Guwahati           592\n",
       "Singapore          398\n",
       "                 ...  \n",
       "Mohali               1\n",
       "Panchkula            1\n",
       "Tagaytay City        1\n",
       "Quezon City          1\n",
       "Randburg             1\n",
       "Name: City, Length: 142, dtype: int64"
      ]
     },
     "execution_count": 80,
     "metadata": {},
     "output_type": "execute_result"
    }
   ],
   "source": [
    "# can remain as is\n",
    "final['City'].value_counts()"
   ]
  },
  {
   "cell_type": "code",
   "execution_count": 81,
   "metadata": {},
   "outputs": [
    {
     "data": {
      "text/plain": [
       "Index(['Has Online Delivery', 'Price Range', 'Restaurant Name',\n",
       "       'Has Table Booking', 'Is Delivering Now', 'Average Cost For Two',\n",
       "       'Switch To Order Menu', 'Cuisines', 'Currency', 'Restaurant ID',\n",
       "       'Establishment Types', 'Rating Text', 'Rating Color', 'Votes',\n",
       "       'Aggregate Rating', 'Latitude', 'Address', 'City', 'City Id',\n",
       "       'Country Id', 'Locality Verbose', 'Zipcode', 'Locality', 'Longitude'],\n",
       "      dtype='object')"
      ]
     },
     "execution_count": 81,
     "metadata": {},
     "output_type": "execute_result"
    }
   ],
   "source": [
    "final.columns"
   ]
  },
  {
   "cell_type": "code",
   "execution_count": 82,
   "metadata": {},
   "outputs": [
    {
     "data": {
      "text/plain": [
       "24"
      ]
     },
     "execution_count": 82,
     "metadata": {},
     "output_type": "execute_result"
    }
   ],
   "source": [
    "# New column order\n",
    "new_column_order = ['Restaurant ID', 'Restaurant Name', 'Country Id', 'City', 'City Id', 'Address', 'Zipcode', \n",
    "             'Locality', 'Locality Verbose', 'Longitude', 'Latitude', 'Cuisines', 'Price Range', \n",
    "             'Average Cost For Two', 'Currency', 'Establishment Types', 'Has Online Delivery', \n",
    "             'Has Table Booking', 'Is Delivering Now', 'Switch To Order Menu', 'Aggregate Rating', \n",
    "            'Rating Color', 'Rating Text', 'Votes']\n",
    "len(new_column_order)"
   ]
  },
  {
   "cell_type": "code",
   "execution_count": 83,
   "metadata": {},
   "outputs": [
    {
     "data": {
      "text/plain": [
       "24"
      ]
     },
     "execution_count": 83,
     "metadata": {},
     "output_type": "execute_result"
    }
   ],
   "source": [
    "# Confirm length of final columns\n",
    "len(final.columns)"
   ]
  },
  {
   "cell_type": "code",
   "execution_count": 84,
   "metadata": {},
   "outputs": [
    {
     "data": {
      "text/html": [
       "<div>\n",
       "<style scoped>\n",
       "    .dataframe tbody tr th:only-of-type {\n",
       "        vertical-align: middle;\n",
       "    }\n",
       "\n",
       "    .dataframe tbody tr th {\n",
       "        vertical-align: top;\n",
       "    }\n",
       "\n",
       "    .dataframe thead th {\n",
       "        text-align: right;\n",
       "    }\n",
       "</style>\n",
       "<table border=\"1\" class=\"dataframe\">\n",
       "  <thead>\n",
       "    <tr style=\"text-align: right;\">\n",
       "      <th></th>\n",
       "      <th>Restaurant ID</th>\n",
       "      <th>Restaurant Name</th>\n",
       "      <th>Country Id</th>\n",
       "      <th>City</th>\n",
       "      <th>City Id</th>\n",
       "      <th>Address</th>\n",
       "      <th>Zipcode</th>\n",
       "      <th>Locality</th>\n",
       "      <th>Locality Verbose</th>\n",
       "      <th>Longitude</th>\n",
       "      <th>...</th>\n",
       "      <th>Currency</th>\n",
       "      <th>Establishment Types</th>\n",
       "      <th>Has Online Delivery</th>\n",
       "      <th>Has Table Booking</th>\n",
       "      <th>Is Delivering Now</th>\n",
       "      <th>Switch To Order Menu</th>\n",
       "      <th>Aggregate Rating</th>\n",
       "      <th>Rating Color</th>\n",
       "      <th>Rating Text</th>\n",
       "      <th>Votes</th>\n",
       "    </tr>\n",
       "  </thead>\n",
       "  <tbody>\n",
       "    <tr>\n",
       "      <th>0</th>\n",
       "      <td>17066603</td>\n",
       "      <td>The Coop</td>\n",
       "      <td>216</td>\n",
       "      <td>Orlando</td>\n",
       "      <td>601</td>\n",
       "      <td>610 W Morse Boulevard, Winter Park, FL 32789</td>\n",
       "      <td>32789</td>\n",
       "      <td>Winter Park</td>\n",
       "      <td>Winter Park, Orlando</td>\n",
       "      <td>-81.3572190000</td>\n",
       "      <td>...</td>\n",
       "      <td>$</td>\n",
       "      <td>[]</td>\n",
       "      <td>0</td>\n",
       "      <td>0</td>\n",
       "      <td>0</td>\n",
       "      <td>0</td>\n",
       "      <td>3.6</td>\n",
       "      <td>9ACD32</td>\n",
       "      <td>Good</td>\n",
       "      <td>432</td>\n",
       "    </tr>\n",
       "    <tr>\n",
       "      <th>1</th>\n",
       "      <td>17059541</td>\n",
       "      <td>Maggiano's Little Italy</td>\n",
       "      <td>216</td>\n",
       "      <td>Orlando</td>\n",
       "      <td>601</td>\n",
       "      <td>9101 International Drive,Orlando, FL 32819</td>\n",
       "      <td>32819</td>\n",
       "      <td>I-Drive/Universal</td>\n",
       "      <td>I-Drive/Universal, Orlando</td>\n",
       "      <td>-81.4714470000</td>\n",
       "      <td>...</td>\n",
       "      <td>$</td>\n",
       "      <td>[]</td>\n",
       "      <td>0</td>\n",
       "      <td>0</td>\n",
       "      <td>0</td>\n",
       "      <td>0</td>\n",
       "      <td>4.4</td>\n",
       "      <td>5BA829</td>\n",
       "      <td>Very Good</td>\n",
       "      <td>886</td>\n",
       "    </tr>\n",
       "    <tr>\n",
       "      <th>2</th>\n",
       "      <td>17064405</td>\n",
       "      <td>Tako Cheena by Pom Pom</td>\n",
       "      <td>216</td>\n",
       "      <td>Orlando</td>\n",
       "      <td>601</td>\n",
       "      <td>932 North Mills Avenue, Orlando, FL 32803</td>\n",
       "      <td>32803</td>\n",
       "      <td>Mills 50</td>\n",
       "      <td>Mills 50, Orlando</td>\n",
       "      <td>-81.3645470000</td>\n",
       "      <td>...</td>\n",
       "      <td>$</td>\n",
       "      <td>[]</td>\n",
       "      <td>0</td>\n",
       "      <td>0</td>\n",
       "      <td>0</td>\n",
       "      <td>0</td>\n",
       "      <td>4.4</td>\n",
       "      <td>5BA829</td>\n",
       "      <td>Very Good</td>\n",
       "      <td>570</td>\n",
       "    </tr>\n",
       "    <tr>\n",
       "      <th>3</th>\n",
       "      <td>17057797</td>\n",
       "      <td>Bosphorous Turkish Cuisine</td>\n",
       "      <td>216</td>\n",
       "      <td>Orlando</td>\n",
       "      <td>601</td>\n",
       "      <td>108 S Park Ave, Winter Park, FL 32789</td>\n",
       "      <td>32789</td>\n",
       "      <td>Winter Park</td>\n",
       "      <td>Winter Park, Orlando</td>\n",
       "      <td>-81.3508344000</td>\n",
       "      <td>...</td>\n",
       "      <td>$</td>\n",
       "      <td>[]</td>\n",
       "      <td>0</td>\n",
       "      <td>0</td>\n",
       "      <td>0</td>\n",
       "      <td>0</td>\n",
       "      <td>4.2</td>\n",
       "      <td>5BA829</td>\n",
       "      <td>Very Good</td>\n",
       "      <td>568</td>\n",
       "    </tr>\n",
       "    <tr>\n",
       "      <th>4</th>\n",
       "      <td>17057591</td>\n",
       "      <td>Bahama Breeze Island Grille</td>\n",
       "      <td>216</td>\n",
       "      <td>Orlando</td>\n",
       "      <td>601</td>\n",
       "      <td>8849 International Drive, Orlando, FL 32819</td>\n",
       "      <td>32819</td>\n",
       "      <td>I-Drive/Universal</td>\n",
       "      <td>I-Drive/Universal, Orlando</td>\n",
       "      <td>-81.4715260000</td>\n",
       "      <td>...</td>\n",
       "      <td>$</td>\n",
       "      <td>[]</td>\n",
       "      <td>0</td>\n",
       "      <td>0</td>\n",
       "      <td>0</td>\n",
       "      <td>0</td>\n",
       "      <td>4.3</td>\n",
       "      <td>5BA829</td>\n",
       "      <td>Very Good</td>\n",
       "      <td>910</td>\n",
       "    </tr>\n",
       "  </tbody>\n",
       "</table>\n",
       "<p>5 rows × 24 columns</p>\n",
       "</div>"
      ],
      "text/plain": [
       "  Restaurant ID              Restaurant Name  Country Id     City  City Id  \\\n",
       "0      17066603                     The Coop         216  Orlando      601   \n",
       "1      17059541      Maggiano's Little Italy         216  Orlando      601   \n",
       "2      17064405       Tako Cheena by Pom Pom         216  Orlando      601   \n",
       "3      17057797   Bosphorous Turkish Cuisine         216  Orlando      601   \n",
       "4      17057591  Bahama Breeze Island Grille         216  Orlando      601   \n",
       "\n",
       "                                        Address Zipcode           Locality  \\\n",
       "0  610 W Morse Boulevard, Winter Park, FL 32789   32789        Winter Park   \n",
       "1    9101 International Drive,Orlando, FL 32819   32819  I-Drive/Universal   \n",
       "2     932 North Mills Avenue, Orlando, FL 32803   32803           Mills 50   \n",
       "3         108 S Park Ave, Winter Park, FL 32789   32789        Winter Park   \n",
       "4   8849 International Drive, Orlando, FL 32819   32819  I-Drive/Universal   \n",
       "\n",
       "             Locality Verbose       Longitude  ... Currency  \\\n",
       "0        Winter Park, Orlando  -81.3572190000  ...        $   \n",
       "1  I-Drive/Universal, Orlando  -81.4714470000  ...        $   \n",
       "2           Mills 50, Orlando  -81.3645470000  ...        $   \n",
       "3        Winter Park, Orlando  -81.3508344000  ...        $   \n",
       "4  I-Drive/Universal, Orlando  -81.4715260000  ...        $   \n",
       "\n",
       "  Establishment Types  Has Online Delivery  Has Table Booking  \\\n",
       "0                  []                    0                  0   \n",
       "1                  []                    0                  0   \n",
       "2                  []                    0                  0   \n",
       "3                  []                    0                  0   \n",
       "4                  []                    0                  0   \n",
       "\n",
       "  Is Delivering Now Switch To Order Menu  Aggregate Rating  Rating Color  \\\n",
       "0                 0                    0               3.6        9ACD32   \n",
       "1                 0                    0               4.4        5BA829   \n",
       "2                 0                    0               4.4        5BA829   \n",
       "3                 0                    0               4.2        5BA829   \n",
       "4                 0                    0               4.3        5BA829   \n",
       "\n",
       "   Rating Text  Votes  \n",
       "0         Good    432  \n",
       "1    Very Good    886  \n",
       "2    Very Good    570  \n",
       "3    Very Good    568  \n",
       "4    Very Good    910  \n",
       "\n",
       "[5 rows x 24 columns]"
      ]
     },
     "execution_count": 84,
     "metadata": {},
     "output_type": "execute_result"
    }
   ],
   "source": [
    "# reorder \n",
    "final = final[new_column_order]\n",
    "final.head()"
   ]
  },
  {
   "cell_type": "code",
   "execution_count": 85,
   "metadata": {},
   "outputs": [
    {
     "data": {
      "text/html": [
       "<div>\n",
       "<style scoped>\n",
       "    .dataframe tbody tr th:only-of-type {\n",
       "        vertical-align: middle;\n",
       "    }\n",
       "\n",
       "    .dataframe tbody tr th {\n",
       "        vertical-align: top;\n",
       "    }\n",
       "\n",
       "    .dataframe thead th {\n",
       "        text-align: right;\n",
       "    }\n",
       "</style>\n",
       "<table border=\"1\" class=\"dataframe\">\n",
       "  <thead>\n",
       "    <tr style=\"text-align: right;\">\n",
       "      <th></th>\n",
       "      <th>Restaurant ID</th>\n",
       "      <th>Restaurant Name</th>\n",
       "      <th>Country Id</th>\n",
       "      <th>City</th>\n",
       "      <th>City Id</th>\n",
       "      <th>Address</th>\n",
       "      <th>Zipcode</th>\n",
       "      <th>Locality</th>\n",
       "      <th>Locality Verbose</th>\n",
       "      <th>Longitude</th>\n",
       "      <th>...</th>\n",
       "      <th>Average Cost For Two</th>\n",
       "      <th>Currency</th>\n",
       "      <th>Has Online Delivery</th>\n",
       "      <th>Has Table Booking</th>\n",
       "      <th>Is Delivering Now</th>\n",
       "      <th>Switch To Order Menu</th>\n",
       "      <th>Aggregate Rating</th>\n",
       "      <th>Rating Color</th>\n",
       "      <th>Rating Text</th>\n",
       "      <th>Votes</th>\n",
       "    </tr>\n",
       "  </thead>\n",
       "  <tbody>\n",
       "    <tr>\n",
       "      <th>0</th>\n",
       "      <td>17066603</td>\n",
       "      <td>The Coop</td>\n",
       "      <td>216</td>\n",
       "      <td>Orlando</td>\n",
       "      <td>601</td>\n",
       "      <td>610 W Morse Boulevard, Winter Park, FL 32789</td>\n",
       "      <td>32789</td>\n",
       "      <td>Winter Park</td>\n",
       "      <td>Winter Park, Orlando</td>\n",
       "      <td>-81.3572190000</td>\n",
       "      <td>...</td>\n",
       "      <td>25</td>\n",
       "      <td>$</td>\n",
       "      <td>0</td>\n",
       "      <td>0</td>\n",
       "      <td>0</td>\n",
       "      <td>0</td>\n",
       "      <td>3.6</td>\n",
       "      <td>9ACD32</td>\n",
       "      <td>Good</td>\n",
       "      <td>432</td>\n",
       "    </tr>\n",
       "    <tr>\n",
       "      <th>1</th>\n",
       "      <td>17059541</td>\n",
       "      <td>Maggiano's Little Italy</td>\n",
       "      <td>216</td>\n",
       "      <td>Orlando</td>\n",
       "      <td>601</td>\n",
       "      <td>9101 International Drive,Orlando, FL 32819</td>\n",
       "      <td>32819</td>\n",
       "      <td>I-Drive/Universal</td>\n",
       "      <td>I-Drive/Universal, Orlando</td>\n",
       "      <td>-81.4714470000</td>\n",
       "      <td>...</td>\n",
       "      <td>50</td>\n",
       "      <td>$</td>\n",
       "      <td>0</td>\n",
       "      <td>0</td>\n",
       "      <td>0</td>\n",
       "      <td>0</td>\n",
       "      <td>4.4</td>\n",
       "      <td>5BA829</td>\n",
       "      <td>Very Good</td>\n",
       "      <td>886</td>\n",
       "    </tr>\n",
       "    <tr>\n",
       "      <th>2</th>\n",
       "      <td>17064405</td>\n",
       "      <td>Tako Cheena by Pom Pom</td>\n",
       "      <td>216</td>\n",
       "      <td>Orlando</td>\n",
       "      <td>601</td>\n",
       "      <td>932 North Mills Avenue, Orlando, FL 32803</td>\n",
       "      <td>32803</td>\n",
       "      <td>Mills 50</td>\n",
       "      <td>Mills 50, Orlando</td>\n",
       "      <td>-81.3645470000</td>\n",
       "      <td>...</td>\n",
       "      <td>10</td>\n",
       "      <td>$</td>\n",
       "      <td>0</td>\n",
       "      <td>0</td>\n",
       "      <td>0</td>\n",
       "      <td>0</td>\n",
       "      <td>4.4</td>\n",
       "      <td>5BA829</td>\n",
       "      <td>Very Good</td>\n",
       "      <td>570</td>\n",
       "    </tr>\n",
       "    <tr>\n",
       "      <th>3</th>\n",
       "      <td>17057797</td>\n",
       "      <td>Bosphorous Turkish Cuisine</td>\n",
       "      <td>216</td>\n",
       "      <td>Orlando</td>\n",
       "      <td>601</td>\n",
       "      <td>108 S Park Ave, Winter Park, FL 32789</td>\n",
       "      <td>32789</td>\n",
       "      <td>Winter Park</td>\n",
       "      <td>Winter Park, Orlando</td>\n",
       "      <td>-81.3508344000</td>\n",
       "      <td>...</td>\n",
       "      <td>40</td>\n",
       "      <td>$</td>\n",
       "      <td>0</td>\n",
       "      <td>0</td>\n",
       "      <td>0</td>\n",
       "      <td>0</td>\n",
       "      <td>4.2</td>\n",
       "      <td>5BA829</td>\n",
       "      <td>Very Good</td>\n",
       "      <td>568</td>\n",
       "    </tr>\n",
       "    <tr>\n",
       "      <th>4</th>\n",
       "      <td>17057591</td>\n",
       "      <td>Bahama Breeze Island Grille</td>\n",
       "      <td>216</td>\n",
       "      <td>Orlando</td>\n",
       "      <td>601</td>\n",
       "      <td>8849 International Drive, Orlando, FL 32819</td>\n",
       "      <td>32819</td>\n",
       "      <td>I-Drive/Universal</td>\n",
       "      <td>I-Drive/Universal, Orlando</td>\n",
       "      <td>-81.4715260000</td>\n",
       "      <td>...</td>\n",
       "      <td>45</td>\n",
       "      <td>$</td>\n",
       "      <td>0</td>\n",
       "      <td>0</td>\n",
       "      <td>0</td>\n",
       "      <td>0</td>\n",
       "      <td>4.3</td>\n",
       "      <td>5BA829</td>\n",
       "      <td>Very Good</td>\n",
       "      <td>910</td>\n",
       "    </tr>\n",
       "  </tbody>\n",
       "</table>\n",
       "<p>5 rows × 23 columns</p>\n",
       "</div>"
      ],
      "text/plain": [
       "  Restaurant ID              Restaurant Name  Country Id     City  City Id  \\\n",
       "0      17066603                     The Coop         216  Orlando      601   \n",
       "1      17059541      Maggiano's Little Italy         216  Orlando      601   \n",
       "2      17064405       Tako Cheena by Pom Pom         216  Orlando      601   \n",
       "3      17057797   Bosphorous Turkish Cuisine         216  Orlando      601   \n",
       "4      17057591  Bahama Breeze Island Grille         216  Orlando      601   \n",
       "\n",
       "                                        Address Zipcode           Locality  \\\n",
       "0  610 W Morse Boulevard, Winter Park, FL 32789   32789        Winter Park   \n",
       "1    9101 International Drive,Orlando, FL 32819   32819  I-Drive/Universal   \n",
       "2     932 North Mills Avenue, Orlando, FL 32803   32803           Mills 50   \n",
       "3         108 S Park Ave, Winter Park, FL 32789   32789        Winter Park   \n",
       "4   8849 International Drive, Orlando, FL 32819   32819  I-Drive/Universal   \n",
       "\n",
       "             Locality Verbose       Longitude  ... Average Cost For Two  \\\n",
       "0        Winter Park, Orlando  -81.3572190000  ...                   25   \n",
       "1  I-Drive/Universal, Orlando  -81.4714470000  ...                   50   \n",
       "2           Mills 50, Orlando  -81.3645470000  ...                   10   \n",
       "3        Winter Park, Orlando  -81.3508344000  ...                   40   \n",
       "4  I-Drive/Universal, Orlando  -81.4715260000  ...                   45   \n",
       "\n",
       "  Currency  Has Online Delivery  Has Table Booking Is Delivering Now  \\\n",
       "0        $                    0                  0                 0   \n",
       "1        $                    0                  0                 0   \n",
       "2        $                    0                  0                 0   \n",
       "3        $                    0                  0                 0   \n",
       "4        $                    0                  0                 0   \n",
       "\n",
       "   Switch To Order Menu  Aggregate Rating  Rating Color  Rating Text Votes  \n",
       "0                     0               3.6        9ACD32         Good   432  \n",
       "1                     0               4.4        5BA829    Very Good   886  \n",
       "2                     0               4.4        5BA829    Very Good   570  \n",
       "3                     0               4.2        5BA829    Very Good   568  \n",
       "4                     0               4.3        5BA829    Very Good   910  \n",
       "\n",
       "[5 rows x 23 columns]"
      ]
     },
     "execution_count": 85,
     "metadata": {},
     "output_type": "execute_result"
    }
   ],
   "source": [
    "# delete establishment types - these are all empty lists\n",
    "del final['Establishment Types']\n",
    "final.head()"
   ]
  },
  {
   "cell_type": "code",
   "execution_count": 86,
   "metadata": {},
   "outputs": [
    {
     "data": {
      "text/html": [
       "<div>\n",
       "<style scoped>\n",
       "    .dataframe tbody tr th:only-of-type {\n",
       "        vertical-align: middle;\n",
       "    }\n",
       "\n",
       "    .dataframe tbody tr th {\n",
       "        vertical-align: top;\n",
       "    }\n",
       "\n",
       "    .dataframe thead th {\n",
       "        text-align: right;\n",
       "    }\n",
       "</style>\n",
       "<table border=\"1\" class=\"dataframe\">\n",
       "  <thead>\n",
       "    <tr style=\"text-align: right;\">\n",
       "      <th></th>\n",
       "      <th>Restaurant ID</th>\n",
       "      <th>Restaurant Name</th>\n",
       "      <th>Country Id</th>\n",
       "      <th>City</th>\n",
       "      <th>City Id</th>\n",
       "      <th>Address</th>\n",
       "      <th>Zipcode</th>\n",
       "      <th>Locality</th>\n",
       "      <th>Locality Verbose</th>\n",
       "      <th>Longitude</th>\n",
       "    </tr>\n",
       "  </thead>\n",
       "  <tbody>\n",
       "    <tr>\n",
       "      <th>0</th>\n",
       "      <td>17066603</td>\n",
       "      <td>The Coop</td>\n",
       "      <td>216</td>\n",
       "      <td>Orlando</td>\n",
       "      <td>601</td>\n",
       "      <td>610 W Morse Boulevard, Winter Park, FL 32789</td>\n",
       "      <td>32789</td>\n",
       "      <td>Winter Park</td>\n",
       "      <td>Winter Park, Orlando</td>\n",
       "      <td>-81.3572190000</td>\n",
       "    </tr>\n",
       "    <tr>\n",
       "      <th>1</th>\n",
       "      <td>17059541</td>\n",
       "      <td>Maggiano's Little Italy</td>\n",
       "      <td>216</td>\n",
       "      <td>Orlando</td>\n",
       "      <td>601</td>\n",
       "      <td>9101 International Drive,Orlando, FL 32819</td>\n",
       "      <td>32819</td>\n",
       "      <td>I-Drive/Universal</td>\n",
       "      <td>I-Drive/Universal, Orlando</td>\n",
       "      <td>-81.4714470000</td>\n",
       "    </tr>\n",
       "    <tr>\n",
       "      <th>2</th>\n",
       "      <td>17064405</td>\n",
       "      <td>Tako Cheena by Pom Pom</td>\n",
       "      <td>216</td>\n",
       "      <td>Orlando</td>\n",
       "      <td>601</td>\n",
       "      <td>932 North Mills Avenue, Orlando, FL 32803</td>\n",
       "      <td>32803</td>\n",
       "      <td>Mills 50</td>\n",
       "      <td>Mills 50, Orlando</td>\n",
       "      <td>-81.3645470000</td>\n",
       "    </tr>\n",
       "    <tr>\n",
       "      <th>3</th>\n",
       "      <td>17057797</td>\n",
       "      <td>Bosphorous Turkish Cuisine</td>\n",
       "      <td>216</td>\n",
       "      <td>Orlando</td>\n",
       "      <td>601</td>\n",
       "      <td>108 S Park Ave, Winter Park, FL 32789</td>\n",
       "      <td>32789</td>\n",
       "      <td>Winter Park</td>\n",
       "      <td>Winter Park, Orlando</td>\n",
       "      <td>-81.3508344000</td>\n",
       "    </tr>\n",
       "    <tr>\n",
       "      <th>4</th>\n",
       "      <td>17057591</td>\n",
       "      <td>Bahama Breeze Island Grille</td>\n",
       "      <td>216</td>\n",
       "      <td>Orlando</td>\n",
       "      <td>601</td>\n",
       "      <td>8849 International Drive, Orlando, FL 32819</td>\n",
       "      <td>32819</td>\n",
       "      <td>I-Drive/Universal</td>\n",
       "      <td>I-Drive/Universal, Orlando</td>\n",
       "      <td>-81.4715260000</td>\n",
       "    </tr>\n",
       "  </tbody>\n",
       "</table>\n",
       "</div>"
      ],
      "text/plain": [
       "  Restaurant ID              Restaurant Name  Country Id     City  City Id  \\\n",
       "0      17066603                     The Coop         216  Orlando      601   \n",
       "1      17059541      Maggiano's Little Italy         216  Orlando      601   \n",
       "2      17064405       Tako Cheena by Pom Pom         216  Orlando      601   \n",
       "3      17057797   Bosphorous Turkish Cuisine         216  Orlando      601   \n",
       "4      17057591  Bahama Breeze Island Grille         216  Orlando      601   \n",
       "\n",
       "                                        Address Zipcode           Locality  \\\n",
       "0  610 W Morse Boulevard, Winter Park, FL 32789   32789        Winter Park   \n",
       "1    9101 International Drive,Orlando, FL 32819   32819  I-Drive/Universal   \n",
       "2     932 North Mills Avenue, Orlando, FL 32803   32803           Mills 50   \n",
       "3         108 S Park Ave, Winter Park, FL 32789   32789        Winter Park   \n",
       "4   8849 International Drive, Orlando, FL 32819   32819  I-Drive/Universal   \n",
       "\n",
       "             Locality Verbose       Longitude  \n",
       "0        Winter Park, Orlando  -81.3572190000  \n",
       "1  I-Drive/Universal, Orlando  -81.4714470000  \n",
       "2           Mills 50, Orlando  -81.3645470000  \n",
       "3        Winter Park, Orlando  -81.3508344000  \n",
       "4  I-Drive/Universal, Orlando  -81.4715260000  "
      ]
     },
     "execution_count": 86,
     "metadata": {},
     "output_type": "execute_result"
    }
   ],
   "source": [
    "# Review left side of DF ('...' hides columns)\n",
    "final.iloc[:5, :10]"
   ]
  },
  {
   "cell_type": "code",
   "execution_count": 87,
   "metadata": {},
   "outputs": [
    {
     "data": {
      "text/html": [
       "<div>\n",
       "<style scoped>\n",
       "    .dataframe tbody tr th:only-of-type {\n",
       "        vertical-align: middle;\n",
       "    }\n",
       "\n",
       "    .dataframe tbody tr th {\n",
       "        vertical-align: top;\n",
       "    }\n",
       "\n",
       "    .dataframe thead th {\n",
       "        text-align: right;\n",
       "    }\n",
       "</style>\n",
       "<table border=\"1\" class=\"dataframe\">\n",
       "  <thead>\n",
       "    <tr style=\"text-align: right;\">\n",
       "      <th></th>\n",
       "      <th>Latitude</th>\n",
       "      <th>Cuisines</th>\n",
       "      <th>Price Range</th>\n",
       "      <th>Average Cost For Two</th>\n",
       "      <th>Currency</th>\n",
       "      <th>Has Online Delivery</th>\n",
       "      <th>Has Table Booking</th>\n",
       "      <th>Is Delivering Now</th>\n",
       "      <th>Switch To Order Menu</th>\n",
       "      <th>Aggregate Rating</th>\n",
       "      <th>Rating Color</th>\n",
       "      <th>Rating Text</th>\n",
       "      <th>Votes</th>\n",
       "    </tr>\n",
       "  </thead>\n",
       "  <tbody>\n",
       "    <tr>\n",
       "      <th>0</th>\n",
       "      <td>28.5973660000</td>\n",
       "      <td>Southern, Cajun, Soul Food</td>\n",
       "      <td>2</td>\n",
       "      <td>25</td>\n",
       "      <td>$</td>\n",
       "      <td>0</td>\n",
       "      <td>0</td>\n",
       "      <td>0</td>\n",
       "      <td>0</td>\n",
       "      <td>3.6</td>\n",
       "      <td>9ACD32</td>\n",
       "      <td>Good</td>\n",
       "      <td>432</td>\n",
       "    </tr>\n",
       "    <tr>\n",
       "      <th>1</th>\n",
       "      <td>28.4332350000</td>\n",
       "      <td>Italian</td>\n",
       "      <td>4</td>\n",
       "      <td>50</td>\n",
       "      <td>$</td>\n",
       "      <td>0</td>\n",
       "      <td>0</td>\n",
       "      <td>0</td>\n",
       "      <td>0</td>\n",
       "      <td>4.4</td>\n",
       "      <td>5BA829</td>\n",
       "      <td>Very Good</td>\n",
       "      <td>886</td>\n",
       "    </tr>\n",
       "    <tr>\n",
       "      <th>2</th>\n",
       "      <td>28.5578450000</td>\n",
       "      <td>Asian, Latin American, Vegetarian</td>\n",
       "      <td>1</td>\n",
       "      <td>10</td>\n",
       "      <td>$</td>\n",
       "      <td>0</td>\n",
       "      <td>0</td>\n",
       "      <td>0</td>\n",
       "      <td>0</td>\n",
       "      <td>4.4</td>\n",
       "      <td>5BA829</td>\n",
       "      <td>Very Good</td>\n",
       "      <td>570</td>\n",
       "    </tr>\n",
       "    <tr>\n",
       "      <th>3</th>\n",
       "      <td>28.5976271000</td>\n",
       "      <td>Mediterranean, Turkish</td>\n",
       "      <td>3</td>\n",
       "      <td>40</td>\n",
       "      <td>$</td>\n",
       "      <td>0</td>\n",
       "      <td>0</td>\n",
       "      <td>0</td>\n",
       "      <td>0</td>\n",
       "      <td>4.2</td>\n",
       "      <td>5BA829</td>\n",
       "      <td>Very Good</td>\n",
       "      <td>568</td>\n",
       "    </tr>\n",
       "    <tr>\n",
       "      <th>4</th>\n",
       "      <td>28.4370650000</td>\n",
       "      <td>Caribbean</td>\n",
       "      <td>3</td>\n",
       "      <td>45</td>\n",
       "      <td>$</td>\n",
       "      <td>0</td>\n",
       "      <td>0</td>\n",
       "      <td>0</td>\n",
       "      <td>0</td>\n",
       "      <td>4.3</td>\n",
       "      <td>5BA829</td>\n",
       "      <td>Very Good</td>\n",
       "      <td>910</td>\n",
       "    </tr>\n",
       "  </tbody>\n",
       "</table>\n",
       "</div>"
      ],
      "text/plain": [
       "        Latitude                           Cuisines  Price Range  \\\n",
       "0  28.5973660000         Southern, Cajun, Soul Food            2   \n",
       "1  28.4332350000                            Italian            4   \n",
       "2  28.5578450000  Asian, Latin American, Vegetarian            1   \n",
       "3  28.5976271000             Mediterranean, Turkish            3   \n",
       "4  28.4370650000                          Caribbean            3   \n",
       "\n",
       "   Average Cost For Two Currency  Has Online Delivery  Has Table Booking  \\\n",
       "0                    25        $                    0                  0   \n",
       "1                    50        $                    0                  0   \n",
       "2                    10        $                    0                  0   \n",
       "3                    40        $                    0                  0   \n",
       "4                    45        $                    0                  0   \n",
       "\n",
       "   Is Delivering Now  Switch To Order Menu Aggregate Rating Rating Color  \\\n",
       "0                  0                     0              3.6       9ACD32   \n",
       "1                  0                     0              4.4       5BA829   \n",
       "2                  0                     0              4.4       5BA829   \n",
       "3                  0                     0              4.2       5BA829   \n",
       "4                  0                     0              4.3       5BA829   \n",
       "\n",
       "  Rating Text Votes  \n",
       "0        Good   432  \n",
       "1   Very Good   886  \n",
       "2   Very Good   570  \n",
       "3   Very Good   568  \n",
       "4   Very Good   910  "
      ]
     },
     "execution_count": 87,
     "metadata": {},
     "output_type": "execute_result"
    }
   ],
   "source": [
    "# Review right side of DF ('...' hides columns)\n",
    "final.iloc[:5, 10:]"
   ]
  },
  {
   "cell_type": "code",
   "execution_count": 88,
   "metadata": {},
   "outputs": [
    {
     "data": {
      "text/plain": [
       "0    24037\n",
       "1     5716\n",
       "Name: Has Online Delivery, dtype: int64"
      ]
     },
     "execution_count": 88,
     "metadata": {},
     "output_type": "execute_result"
    }
   ],
   "source": [
    "# Map these to No/Yes\n",
    "final['Has Online Delivery'].value_counts(dropna=False)"
   ]
  },
  {
   "cell_type": "code",
   "execution_count": 89,
   "metadata": {},
   "outputs": [
    {
     "data": {
      "text/plain": [
       "0    25462\n",
       "1     4291\n",
       "Name: Has Table Booking, dtype: int64"
      ]
     },
     "execution_count": 89,
     "metadata": {},
     "output_type": "execute_result"
    }
   ],
   "source": [
    "# Map these to No/Yes\n",
    "final['Has Table Booking'].value_counts(dropna=False)"
   ]
  },
  {
   "cell_type": "code",
   "execution_count": 90,
   "metadata": {},
   "outputs": [
    {
     "data": {
      "text/plain": [
       "0    29695\n",
       "1       58\n",
       "Name: Is Delivering Now, dtype: int64"
      ]
     },
     "execution_count": 90,
     "metadata": {},
     "output_type": "execute_result"
    }
   ],
   "source": [
    "# Map these to No/Yes\n",
    "final['Is Delivering Now'].value_counts(dropna=False)"
   ]
  },
  {
   "cell_type": "code",
   "execution_count": 91,
   "metadata": {},
   "outputs": [
    {
     "data": {
      "text/plain": [
       "0    29753\n",
       "Name: Switch To Order Menu, dtype: int64"
      ]
     },
     "execution_count": 91,
     "metadata": {},
     "output_type": "execute_result"
    }
   ],
   "source": [
    "# This column can be deleted\n",
    "final['Switch To Order Menu'].value_counts(dropna=False)"
   ]
  },
  {
   "cell_type": "code",
   "execution_count": 92,
   "metadata": {},
   "outputs": [],
   "source": [
    "# List of boolean columns (note - `switch to order menu` can be removed (deleted further down))\n",
    "boolean_columns = ['Has Online Delivery', 'Has Table Booking', 'Is Delivering Now', 'Switch To Order Menu']\n",
    "\n",
    "# function to map values\n",
    "def map_values(x):\n",
    "    if x == 0:\n",
    "        return 'No'\n",
    "    if x == 1:\n",
    "        return 'Yes'\n",
    "\n",
    "# reassign values via applymap\n",
    "final.loc[:, boolean_columns] = final.loc[:, boolean_columns].applymap(lambda x: map_values(x))"
   ]
  },
  {
   "cell_type": "code",
   "execution_count": 93,
   "metadata": {},
   "outputs": [
    {
     "data": {
      "text/html": [
       "<div>\n",
       "<style scoped>\n",
       "    .dataframe tbody tr th:only-of-type {\n",
       "        vertical-align: middle;\n",
       "    }\n",
       "\n",
       "    .dataframe tbody tr th {\n",
       "        vertical-align: top;\n",
       "    }\n",
       "\n",
       "    .dataframe thead th {\n",
       "        text-align: right;\n",
       "    }\n",
       "</style>\n",
       "<table border=\"1\" class=\"dataframe\">\n",
       "  <thead>\n",
       "    <tr style=\"text-align: right;\">\n",
       "      <th></th>\n",
       "      <th>Restaurant ID</th>\n",
       "      <th>Restaurant Name</th>\n",
       "      <th>Country Id</th>\n",
       "      <th>City</th>\n",
       "      <th>City Id</th>\n",
       "      <th>Address</th>\n",
       "      <th>Zipcode</th>\n",
       "      <th>Locality</th>\n",
       "      <th>Locality Verbose</th>\n",
       "      <th>Longitude</th>\n",
       "      <th>...</th>\n",
       "      <th>Average Cost For Two</th>\n",
       "      <th>Currency</th>\n",
       "      <th>Has Online Delivery</th>\n",
       "      <th>Has Table Booking</th>\n",
       "      <th>Is Delivering Now</th>\n",
       "      <th>Switch To Order Menu</th>\n",
       "      <th>Aggregate Rating</th>\n",
       "      <th>Rating Color</th>\n",
       "      <th>Rating Text</th>\n",
       "      <th>Votes</th>\n",
       "    </tr>\n",
       "  </thead>\n",
       "  <tbody>\n",
       "    <tr>\n",
       "      <th>0</th>\n",
       "      <td>17066603</td>\n",
       "      <td>The Coop</td>\n",
       "      <td>216</td>\n",
       "      <td>Orlando</td>\n",
       "      <td>601</td>\n",
       "      <td>610 W Morse Boulevard, Winter Park, FL 32789</td>\n",
       "      <td>32789</td>\n",
       "      <td>Winter Park</td>\n",
       "      <td>Winter Park, Orlando</td>\n",
       "      <td>-81.3572190000</td>\n",
       "      <td>...</td>\n",
       "      <td>25</td>\n",
       "      <td>$</td>\n",
       "      <td>No</td>\n",
       "      <td>No</td>\n",
       "      <td>No</td>\n",
       "      <td>No</td>\n",
       "      <td>3.6</td>\n",
       "      <td>9ACD32</td>\n",
       "      <td>Good</td>\n",
       "      <td>432</td>\n",
       "    </tr>\n",
       "    <tr>\n",
       "      <th>1</th>\n",
       "      <td>17059541</td>\n",
       "      <td>Maggiano's Little Italy</td>\n",
       "      <td>216</td>\n",
       "      <td>Orlando</td>\n",
       "      <td>601</td>\n",
       "      <td>9101 International Drive,Orlando, FL 32819</td>\n",
       "      <td>32819</td>\n",
       "      <td>I-Drive/Universal</td>\n",
       "      <td>I-Drive/Universal, Orlando</td>\n",
       "      <td>-81.4714470000</td>\n",
       "      <td>...</td>\n",
       "      <td>50</td>\n",
       "      <td>$</td>\n",
       "      <td>No</td>\n",
       "      <td>No</td>\n",
       "      <td>No</td>\n",
       "      <td>No</td>\n",
       "      <td>4.4</td>\n",
       "      <td>5BA829</td>\n",
       "      <td>Very Good</td>\n",
       "      <td>886</td>\n",
       "    </tr>\n",
       "    <tr>\n",
       "      <th>2</th>\n",
       "      <td>17064405</td>\n",
       "      <td>Tako Cheena by Pom Pom</td>\n",
       "      <td>216</td>\n",
       "      <td>Orlando</td>\n",
       "      <td>601</td>\n",
       "      <td>932 North Mills Avenue, Orlando, FL 32803</td>\n",
       "      <td>32803</td>\n",
       "      <td>Mills 50</td>\n",
       "      <td>Mills 50, Orlando</td>\n",
       "      <td>-81.3645470000</td>\n",
       "      <td>...</td>\n",
       "      <td>10</td>\n",
       "      <td>$</td>\n",
       "      <td>No</td>\n",
       "      <td>No</td>\n",
       "      <td>No</td>\n",
       "      <td>No</td>\n",
       "      <td>4.4</td>\n",
       "      <td>5BA829</td>\n",
       "      <td>Very Good</td>\n",
       "      <td>570</td>\n",
       "    </tr>\n",
       "    <tr>\n",
       "      <th>3</th>\n",
       "      <td>17057797</td>\n",
       "      <td>Bosphorous Turkish Cuisine</td>\n",
       "      <td>216</td>\n",
       "      <td>Orlando</td>\n",
       "      <td>601</td>\n",
       "      <td>108 S Park Ave, Winter Park, FL 32789</td>\n",
       "      <td>32789</td>\n",
       "      <td>Winter Park</td>\n",
       "      <td>Winter Park, Orlando</td>\n",
       "      <td>-81.3508344000</td>\n",
       "      <td>...</td>\n",
       "      <td>40</td>\n",
       "      <td>$</td>\n",
       "      <td>No</td>\n",
       "      <td>No</td>\n",
       "      <td>No</td>\n",
       "      <td>No</td>\n",
       "      <td>4.2</td>\n",
       "      <td>5BA829</td>\n",
       "      <td>Very Good</td>\n",
       "      <td>568</td>\n",
       "    </tr>\n",
       "    <tr>\n",
       "      <th>4</th>\n",
       "      <td>17057591</td>\n",
       "      <td>Bahama Breeze Island Grille</td>\n",
       "      <td>216</td>\n",
       "      <td>Orlando</td>\n",
       "      <td>601</td>\n",
       "      <td>8849 International Drive, Orlando, FL 32819</td>\n",
       "      <td>32819</td>\n",
       "      <td>I-Drive/Universal</td>\n",
       "      <td>I-Drive/Universal, Orlando</td>\n",
       "      <td>-81.4715260000</td>\n",
       "      <td>...</td>\n",
       "      <td>45</td>\n",
       "      <td>$</td>\n",
       "      <td>No</td>\n",
       "      <td>No</td>\n",
       "      <td>No</td>\n",
       "      <td>No</td>\n",
       "      <td>4.3</td>\n",
       "      <td>5BA829</td>\n",
       "      <td>Very Good</td>\n",
       "      <td>910</td>\n",
       "    </tr>\n",
       "  </tbody>\n",
       "</table>\n",
       "<p>5 rows × 23 columns</p>\n",
       "</div>"
      ],
      "text/plain": [
       "  Restaurant ID              Restaurant Name  Country Id     City  City Id  \\\n",
       "0      17066603                     The Coop         216  Orlando      601   \n",
       "1      17059541      Maggiano's Little Italy         216  Orlando      601   \n",
       "2      17064405       Tako Cheena by Pom Pom         216  Orlando      601   \n",
       "3      17057797   Bosphorous Turkish Cuisine         216  Orlando      601   \n",
       "4      17057591  Bahama Breeze Island Grille         216  Orlando      601   \n",
       "\n",
       "                                        Address Zipcode           Locality  \\\n",
       "0  610 W Morse Boulevard, Winter Park, FL 32789   32789        Winter Park   \n",
       "1    9101 International Drive,Orlando, FL 32819   32819  I-Drive/Universal   \n",
       "2     932 North Mills Avenue, Orlando, FL 32803   32803           Mills 50   \n",
       "3         108 S Park Ave, Winter Park, FL 32789   32789        Winter Park   \n",
       "4   8849 International Drive, Orlando, FL 32819   32819  I-Drive/Universal   \n",
       "\n",
       "             Locality Verbose       Longitude  ... Average Cost For Two  \\\n",
       "0        Winter Park, Orlando  -81.3572190000  ...                   25   \n",
       "1  I-Drive/Universal, Orlando  -81.4714470000  ...                   50   \n",
       "2           Mills 50, Orlando  -81.3645470000  ...                   10   \n",
       "3        Winter Park, Orlando  -81.3508344000  ...                   40   \n",
       "4  I-Drive/Universal, Orlando  -81.4715260000  ...                   45   \n",
       "\n",
       "  Currency  Has Online Delivery  Has Table Booking Is Delivering Now  \\\n",
       "0        $                   No                 No                No   \n",
       "1        $                   No                 No                No   \n",
       "2        $                   No                 No                No   \n",
       "3        $                   No                 No                No   \n",
       "4        $                   No                 No                No   \n",
       "\n",
       "  Switch To Order Menu Aggregate Rating Rating Color Rating Text Votes  \n",
       "0                   No              3.6       9ACD32        Good   432  \n",
       "1                   No              4.4       5BA829   Very Good   886  \n",
       "2                   No              4.4       5BA829   Very Good   570  \n",
       "3                   No              4.2       5BA829   Very Good   568  \n",
       "4                   No              4.3       5BA829   Very Good   910  \n",
       "\n",
       "[5 rows x 23 columns]"
      ]
     },
     "execution_count": 93,
     "metadata": {},
     "output_type": "execute_result"
    }
   ],
   "source": [
    "# check results @ high level\n",
    "final.head()"
   ]
  },
  {
   "cell_type": "code",
   "execution_count": 94,
   "metadata": {},
   "outputs": [
    {
     "data": {
      "text/plain": [
       "5BA829    8353\n",
       "9ACD32    8064\n",
       "CDD614    5301\n",
       "CBCBC8    3164\n",
       "FFBA00    2277\n",
       "3F7E00    1957\n",
       "FF7800     634\n",
       "DE1D0F       3\n",
       "Name: Rating Color, dtype: int64"
      ]
     },
     "execution_count": 94,
     "metadata": {},
     "output_type": "execute_result"
    }
   ],
   "source": [
    "'''\n",
    "Rating Colors are stored as hex codes\n",
    "- This is not readable, so using an API to extract color names and mapping those to the DF\n",
    "\n",
    "Using `thecolorapi` to get values\n",
    "https://www.thecolorapi.com/docs\n",
    "\n",
    "Note - I did not cross check these hex codes, though for the purpose\n",
    "of this exercise, it seems fine to use these results.\n",
    "\n",
    "Steps:\n",
    "- Extract color name for single hex code\n",
    "- Package into function\n",
    "- Save results for each hex code via dict comprehension\n",
    "\n",
    "\n",
    "'''\n",
    "# Review distribution of `Rating Color`\n",
    "final['Rating Color'].value_counts(dropna=False)"
   ]
  },
  {
   "cell_type": "code",
   "execution_count": 95,
   "metadata": {},
   "outputs": [],
   "source": [
    "# Assign unique hex codes to variable\n",
    "hex_codes = final['Rating Color'].unique().tolist()"
   ]
  },
  {
   "cell_type": "code",
   "execution_count": 97,
   "metadata": {},
   "outputs": [],
   "source": [
    "import requests\n",
    "\n",
    "url = \"http://thecolorapi.com/id\"\n",
    "# params for first API call\n",
    "params = {\n",
    "    'hex': hex_codes[0]\n",
    "}\n",
    "# return application/json\n",
    "headers = {\n",
    "    'Content-Type': 'application/json'\n",
    "}\n",
    "\n",
    "r = requests.get(url, params=params, headers=headers)"
   ]
  },
  {
   "cell_type": "code",
   "execution_count": 98,
   "metadata": {},
   "outputs": [
    {
     "data": {
      "text/plain": [
       "<Response [200]>"
      ]
     },
     "execution_count": 98,
     "metadata": {},
     "output_type": "execute_result"
    }
   ],
   "source": [
    "# confirm response = OK\n",
    "r"
   ]
  },
  {
   "cell_type": "code",
   "execution_count": 99,
   "metadata": {},
   "outputs": [],
   "source": [
    "# load text data into python dict\n",
    "json_r = json.loads(r.text)"
   ]
  },
  {
   "cell_type": "code",
   "execution_count": 100,
   "metadata": {},
   "outputs": [
    {
     "data": {
      "text/plain": [
       "dict_keys(['hex', 'rgb', 'hsl', 'hsv', 'name', 'cmyk', 'XYZ', 'image', 'contrast', '_links', '_embedded'])"
      ]
     },
     "execution_count": 100,
     "metadata": {},
     "output_type": "execute_result"
    }
   ],
   "source": [
    "# review keys\n",
    "json_r.keys()"
   ]
  },
  {
   "cell_type": "code",
   "execution_count": 101,
   "metadata": {},
   "outputs": [
    {
     "data": {
      "text/plain": [
       "{'value': 'Atlantis',\n",
       " 'closest_named_hex': '#97CD2D',\n",
       " 'exact_match_name': False,\n",
       " 'distance': 170}"
      ]
     },
     "execution_count": 101,
     "metadata": {},
     "output_type": "execute_result"
    }
   ],
   "source": [
    "# color name is the value for the `value` key\n",
    "json_r['name']"
   ]
  },
  {
   "cell_type": "code",
   "execution_count": 102,
   "metadata": {},
   "outputs": [],
   "source": [
    "# assing color name to variable\n",
    "color_name = json_r['name']['value']"
   ]
  },
  {
   "cell_type": "code",
   "execution_count": 103,
   "metadata": {},
   "outputs": [],
   "source": [
    "# Packaged the above code into a function\n",
    "def get_color_name(hex_code):\n",
    "    url = \"http://thecolorapi.com/id\"\n",
    "    params = {\n",
    "        'hex': hex_code\n",
    "    }\n",
    "\n",
    "    headers = {\n",
    "        'Content-Type': 'application/json'\n",
    "    }\n",
    "    \n",
    "    r = requests.get(url, params=params, headers=headers)\n",
    "    if r.status_code == 200:\n",
    "        json_r = json.loads(r.text)\n",
    "        color_name = json_r['name']['value']\n",
    "        return color_name\n",
    "    return r.status_code"
   ]
  },
  {
   "cell_type": "code",
   "execution_count": 104,
   "metadata": {},
   "outputs": [],
   "source": [
    "# Stored results into a dictionary using a dict comprehension\n",
    "color_names = {str(hex_code): str(get_color_name(hex_code)) for hex_code in hex_codes}"
   ]
  },
  {
   "cell_type": "code",
   "execution_count": 105,
   "metadata": {},
   "outputs": [
    {
     "data": {
      "text/plain": [
       "{'9ACD32': 'Atlantis',\n",
       " '5BA829': 'Olive Drab',\n",
       " '3F7E00': 'Verdun Green',\n",
       " 'CDD614': 'Bird Flower',\n",
       " 'FF7800': 'Heat Wave',\n",
       " 'CBCBC8': 'Gray Nickel',\n",
       " 'FFBA00': 'Selective Yellow',\n",
       " 'DE1D0F': 'Crimson'}"
      ]
     },
     "execution_count": 105,
     "metadata": {},
     "output_type": "execute_result"
    }
   ],
   "source": [
    "# review results\n",
    "color_names"
   ]
  },
  {
   "cell_type": "code",
   "execution_count": 106,
   "metadata": {},
   "outputs": [],
   "source": [
    "# Map values to the DF\n",
    "final.loc[:, 'Rating Color'] = final.loc[:, 'Rating Color'].map(color_names)"
   ]
  },
  {
   "cell_type": "code",
   "execution_count": 107,
   "metadata": {},
   "outputs": [
    {
     "data": {
      "text/plain": [
       "Olive Drab          8353\n",
       "Atlantis            8064\n",
       "Bird Flower         5301\n",
       "Gray Nickel         3164\n",
       "Selective Yellow    2277\n",
       "Verdun Green        1957\n",
       "Heat Wave            634\n",
       "Crimson                3\n",
       "Name: Rating Color, dtype: int64"
      ]
     },
     "execution_count": 107,
     "metadata": {},
     "output_type": "execute_result"
    }
   ],
   "source": [
    "# Confirm new values\n",
    "final['Rating Color'].value_counts(dropna=False)"
   ]
  },
  {
   "cell_type": "code",
   "execution_count": 108,
   "metadata": {},
   "outputs": [
    {
     "name": "stdout",
     "output_type": "stream",
     "text": [
      "\n"
     ]
    }
   ],
   "source": [
    "'''\n",
    "Doing additional data munging below.\n",
    "- Some columns do not provide any insight (`Switch To Order Menu`) or have many Nan values (`Zipcode`)\n",
    "- Other columns can be stored in a separate DF to serve as mapping files (address related data)\n",
    "'''\n",
    "print()"
   ]
  },
  {
   "cell_type": "code",
   "execution_count": 109,
   "metadata": {},
   "outputs": [
    {
     "data": {
      "text/plain": [
       "           14541\n",
       "0           4820\n",
       "226010       384\n",
       "3461         344\n",
       "781024       229\n",
       "           ...  \n",
       "33708          1\n",
       "B16 9RP        1\n",
       "110045         1\n",
       "400064         1\n",
       "201305         1\n",
       "Name: Zipcode, Length: 466, dtype: int64"
      ]
     },
     "execution_count": 109,
     "metadata": {},
     "output_type": "execute_result"
    }
   ],
   "source": [
    "# After reviewing `Zipcode` values, this field can be dropped\n",
    "final['Zipcode'].value_counts(dropna=False)"
   ]
  },
  {
   "cell_type": "code",
   "execution_count": 110,
   "metadata": {},
   "outputs": [],
   "source": [
    "# removing Zipcode\n",
    "del final['Zipcode']"
   ]
  },
  {
   "cell_type": "code",
   "execution_count": 111,
   "metadata": {},
   "outputs": [
    {
     "data": {
      "text/plain": [
       "No    29753\n",
       "Name: Switch To Order Menu, dtype: int64"
      ]
     },
     "execution_count": 111,
     "metadata": {},
     "output_type": "execute_result"
    }
   ],
   "source": [
    "# All values are `No`, so this column can be deleted\n",
    "final['Switch To Order Menu'].value_counts(dropna=False)"
   ]
  },
  {
   "cell_type": "code",
   "execution_count": 112,
   "metadata": {},
   "outputs": [],
   "source": [
    "del final['Switch To Order Menu']"
   ]
  },
  {
   "cell_type": "code",
   "execution_count": 113,
   "metadata": {},
   "outputs": [
    {
     "data": {
      "text/plain": [
       "Very Good    8353\n",
       "Good         8064\n",
       "Average      7578\n",
       "Not rated    3164\n",
       "Excellent    1957\n",
       "Poor          637\n",
       "Name: Rating Text, dtype: int64"
      ]
     },
     "execution_count": 113,
     "metadata": {},
     "output_type": "execute_result"
    }
   ],
   "source": [
    "final['Rating Text'].value_counts(dropna=False)"
   ]
  },
  {
   "cell_type": "code",
   "execution_count": 114,
   "metadata": {},
   "outputs": [
    {
     "data": {
      "text/plain": [
       "Olive Drab          8353\n",
       "Atlantis            8064\n",
       "Bird Flower         5301\n",
       "Gray Nickel         3164\n",
       "Selective Yellow    2277\n",
       "Verdun Green        1957\n",
       "Heat Wave            634\n",
       "Crimson                3\n",
       "Name: Rating Color, dtype: int64"
      ]
     },
     "execution_count": 114,
     "metadata": {},
     "output_type": "execute_result"
    }
   ],
   "source": [
    "final['Rating Color'].value_counts(dropna=False)"
   ]
  },
  {
   "cell_type": "code",
   "execution_count": 115,
   "metadata": {},
   "outputs": [
    {
     "data": {
      "text/plain": [
       "1      20503\n",
       "14      4094\n",
       "216     2875\n",
       "37       742\n",
       "184      398\n",
       "162      384\n",
       "94       357\n",
       "215       80\n",
       "30        60\n",
       "189       60\n",
       "214       60\n",
       "148       40\n",
       "208       40\n",
       "191       20\n",
       "166       20\n",
       "17        20\n",
       "Name: Country Id, dtype: int64"
      ]
     },
     "execution_count": 115,
     "metadata": {},
     "output_type": "execute_result"
    }
   ],
   "source": [
    "'''\n",
    "To get country names, we can use the Zomato /ciites endpoint\n",
    "- Only need to make a single API call using the city_ids\n",
    "- Similar process as hex codes\n",
    "\n",
    "--> Need to get a single city id for each country, then pass those in as a param\n",
    "'''\n",
    "final['Country Id'].value_counts(dropna=False)"
   ]
  },
  {
   "cell_type": "code",
   "execution_count": 156,
   "metadata": {},
   "outputs": [],
   "source": [
    "# API key for zomato (masking for upload to GitHub)\n",
    "api_key = 'YOUR_API_KEY_HERE'"
   ]
  },
  {
   "cell_type": "code",
   "execution_count": 131,
   "metadata": {},
   "outputs": [],
   "source": [
    "# Get list of unique country ids\n",
    "country_ids = final['Country Id'].unique().tolist()"
   ]
  },
  {
   "cell_type": "code",
   "execution_count": 132,
   "metadata": {},
   "outputs": [
    {
     "data": {
      "text/plain": [
       "62"
      ]
     },
     "execution_count": 132,
     "metadata": {},
     "output_type": "execute_result"
    }
   ],
   "source": [
    "# Snipped used to validate logic in below kernel\n",
    "final[final['Country Id'] == 166][['City Id']].head(1).values[0][0]"
   ]
  },
  {
   "cell_type": "code",
   "execution_count": 133,
   "metadata": {},
   "outputs": [],
   "source": [
    "# Initialize empty list to store city ids\n",
    "city_ids = []\n",
    "\n",
    "for country_id in country_ids:\n",
    "    # Filters `final` to rows where `Country Id` equals `country_id`\n",
    "    # Assigns first result to `city_id`\n",
    "    city_id = final[final['Country Id'] == country_id][['City Id']].head(1).values[0][0]\n",
    "    # Append result to outer list\n",
    "    city_ids.append(city_id)"
   ]
  },
  {
   "cell_type": "code",
   "execution_count": 134,
   "metadata": {},
   "outputs": [
    {
     "data": {
      "text/plain": [
       "True"
      ]
     },
     "execution_count": 134,
     "metadata": {},
     "output_type": "execute_result"
    }
   ],
   "source": [
    "# confirm lengths match\n",
    "len(city_ids) == len(country_ids)"
   ]
  },
  {
   "cell_type": "code",
   "execution_count": 135,
   "metadata": {},
   "outputs": [
    {
     "data": {
      "text/plain": [
       "'601, 1345, 2824, 11071, 11, 11052, 52, 51, 58, 59, 61, 62, 64, 66, 70, 72'"
      ]
     },
     "execution_count": 135,
     "metadata": {},
     "output_type": "execute_result"
    }
   ],
   "source": [
    "# Need to wrap the list in a string object and remove the `[` and `]` characters\n",
    "# Otherwise the city_ids are not picked up as a proper parameter\n",
    "city_ids = str(city_ids).replace(\"[\",\"\").replace(\"]\",\"\")\n",
    "city_ids"
   ]
  },
  {
   "cell_type": "code",
   "execution_count": 136,
   "metadata": {},
   "outputs": [],
   "source": [
    "# URL for the API endpoint\n",
    "url = \"https://developers.zomato.com/api/v2.1/cities?\"\n",
    "\n",
    "# Headers with API key and content type\n",
    "headers = {\n",
    "    'user-key': api_key,\n",
    "    'Content-Type': 'application/json'\n",
    "}\n",
    "# city ids as parameter\n",
    "params = {\n",
    "    'city_ids': city_ids\n",
    "}"
   ]
  },
  {
   "cell_type": "code",
   "execution_count": 137,
   "metadata": {},
   "outputs": [],
   "source": [
    "# Send request\n",
    "r = requests.get(url, params=params, headers=headers)"
   ]
  },
  {
   "cell_type": "code",
   "execution_count": 138,
   "metadata": {},
   "outputs": [
    {
     "data": {
      "text/plain": [
       "200"
      ]
     },
     "execution_count": 138,
     "metadata": {},
     "output_type": "execute_result"
    }
   ],
   "source": [
    "# req is OK\n",
    "r.status_code"
   ]
  },
  {
   "cell_type": "code",
   "execution_count": 139,
   "metadata": {},
   "outputs": [
    {
     "data": {
      "text/plain": [
       "dict_keys(['location_suggestions', 'status', 'has_more', 'has_total', 'user_has_addresses'])"
      ]
     },
     "execution_count": 139,
     "metadata": {},
     "output_type": "execute_result"
    }
   ],
   "source": [
    "# Convert to dict; check keys\n",
    "r_json = json.loads(r.text)\n",
    "r_json.keys()"
   ]
  },
  {
   "cell_type": "code",
   "execution_count": 140,
   "metadata": {},
   "outputs": [
    {
     "data": {
      "text/plain": [
       "16"
      ]
     },
     "execution_count": 140,
     "metadata": {},
     "output_type": "execute_result"
    }
   ],
   "source": [
    "# Check length of `location_suggestions` \n",
    "len(r_json['location_suggestions'])"
   ]
  },
  {
   "cell_type": "code",
   "execution_count": 141,
   "metadata": {},
   "outputs": [
    {
     "data": {
      "text/plain": [
       "{'id': 601,\n",
       " 'name': 'Orlando, FL',\n",
       " 'country_id': 216,\n",
       " 'country_name': 'United States',\n",
       " 'country_flag_url': 'https://b.zmtcdn.com/images/countries/flags/country_216.png',\n",
       " 'should_experiment_with': 0,\n",
       " 'has_go_out_tab': 0,\n",
       " 'discovery_enabled': 1,\n",
       " 'has_new_ad_format': 0,\n",
       " 'is_state': 0,\n",
       " 'state_id': 77,\n",
       " 'state_name': 'Florida',\n",
       " 'state_code': 'FL'}"
      ]
     },
     "execution_count": 141,
     "metadata": {},
     "output_type": "execute_result"
    }
   ],
   "source": [
    "# Inspect first item\n",
    "r_json['location_suggestions'][0]"
   ]
  },
  {
   "cell_type": "code",
   "execution_count": 142,
   "metadata": {},
   "outputs": [],
   "source": [
    "# Country mapping produced via dict comprehension\n",
    "country_mapping = {\n",
    "    location['country_id']: location['country_name'] for location in r_json['location_suggestions']\n",
    "}"
   ]
  },
  {
   "cell_type": "code",
   "execution_count": 143,
   "metadata": {},
   "outputs": [
    {
     "data": {
      "text/plain": [
       "{216: 'United States',\n",
       " 14: 'Australia',\n",
       " 37: 'Canada',\n",
       " 162: 'Philippines',\n",
       " 1: 'India',\n",
       " 94: 'Indonesia',\n",
       " 184: 'Singapore',\n",
       " 214: 'UAE',\n",
       " 191: 'Sri Lanka',\n",
       " 208: 'Turkey',\n",
       " 215: 'United Kingdom',\n",
       " 166: 'Qatar',\n",
       " 189: 'South Africa',\n",
       " 30: 'Brasil',\n",
       " 148: 'New Zealand',\n",
       " 17: 'Bahamas'}"
      ]
     },
     "execution_count": 143,
     "metadata": {},
     "output_type": "execute_result"
    }
   ],
   "source": [
    "# review mapping\n",
    "country_mapping"
   ]
  },
  {
   "cell_type": "code",
   "execution_count": 144,
   "metadata": {},
   "outputs": [],
   "source": [
    "# Normalize, transpose, and reset index on country mapping\n",
    "country_mapping = json_normalize(country_mapping).transpose().reset_index()"
   ]
  },
  {
   "cell_type": "code",
   "execution_count": 145,
   "metadata": {},
   "outputs": [],
   "source": [
    "# rename\n",
    "country_mapping.rename(columns={\n",
    "    'index': 'Country Id',\n",
    "    0: 'Country Name'\n",
    "}, inplace=True)"
   ]
  },
  {
   "cell_type": "code",
   "execution_count": 146,
   "metadata": {},
   "outputs": [
    {
     "data": {
      "text/html": [
       "<div>\n",
       "<style scoped>\n",
       "    .dataframe tbody tr th:only-of-type {\n",
       "        vertical-align: middle;\n",
       "    }\n",
       "\n",
       "    .dataframe tbody tr th {\n",
       "        vertical-align: top;\n",
       "    }\n",
       "\n",
       "    .dataframe thead th {\n",
       "        text-align: right;\n",
       "    }\n",
       "</style>\n",
       "<table border=\"1\" class=\"dataframe\">\n",
       "  <thead>\n",
       "    <tr style=\"text-align: right;\">\n",
       "      <th></th>\n",
       "      <th>Country Id</th>\n",
       "      <th>Country Name</th>\n",
       "    </tr>\n",
       "  </thead>\n",
       "  <tbody>\n",
       "    <tr>\n",
       "      <th>4</th>\n",
       "      <td>1</td>\n",
       "      <td>India</td>\n",
       "    </tr>\n",
       "    <tr>\n",
       "      <th>1</th>\n",
       "      <td>14</td>\n",
       "      <td>Australia</td>\n",
       "    </tr>\n",
       "    <tr>\n",
       "      <th>15</th>\n",
       "      <td>17</td>\n",
       "      <td>Bahamas</td>\n",
       "    </tr>\n",
       "    <tr>\n",
       "      <th>13</th>\n",
       "      <td>30</td>\n",
       "      <td>Brasil</td>\n",
       "    </tr>\n",
       "    <tr>\n",
       "      <th>2</th>\n",
       "      <td>37</td>\n",
       "      <td>Canada</td>\n",
       "    </tr>\n",
       "    <tr>\n",
       "      <th>5</th>\n",
       "      <td>94</td>\n",
       "      <td>Indonesia</td>\n",
       "    </tr>\n",
       "    <tr>\n",
       "      <th>14</th>\n",
       "      <td>148</td>\n",
       "      <td>New Zealand</td>\n",
       "    </tr>\n",
       "    <tr>\n",
       "      <th>3</th>\n",
       "      <td>162</td>\n",
       "      <td>Philippines</td>\n",
       "    </tr>\n",
       "    <tr>\n",
       "      <th>11</th>\n",
       "      <td>166</td>\n",
       "      <td>Qatar</td>\n",
       "    </tr>\n",
       "    <tr>\n",
       "      <th>6</th>\n",
       "      <td>184</td>\n",
       "      <td>Singapore</td>\n",
       "    </tr>\n",
       "    <tr>\n",
       "      <th>12</th>\n",
       "      <td>189</td>\n",
       "      <td>South Africa</td>\n",
       "    </tr>\n",
       "    <tr>\n",
       "      <th>8</th>\n",
       "      <td>191</td>\n",
       "      <td>Sri Lanka</td>\n",
       "    </tr>\n",
       "    <tr>\n",
       "      <th>9</th>\n",
       "      <td>208</td>\n",
       "      <td>Turkey</td>\n",
       "    </tr>\n",
       "    <tr>\n",
       "      <th>7</th>\n",
       "      <td>214</td>\n",
       "      <td>UAE</td>\n",
       "    </tr>\n",
       "    <tr>\n",
       "      <th>10</th>\n",
       "      <td>215</td>\n",
       "      <td>United Kingdom</td>\n",
       "    </tr>\n",
       "    <tr>\n",
       "      <th>0</th>\n",
       "      <td>216</td>\n",
       "      <td>United States</td>\n",
       "    </tr>\n",
       "  </tbody>\n",
       "</table>\n",
       "</div>"
      ],
      "text/plain": [
       "    Country Id    Country Name\n",
       "4            1           India\n",
       "1           14       Australia\n",
       "15          17         Bahamas\n",
       "13          30          Brasil\n",
       "2           37          Canada\n",
       "5           94       Indonesia\n",
       "14         148     New Zealand\n",
       "3          162     Philippines\n",
       "11         166           Qatar\n",
       "6          184       Singapore\n",
       "12         189    South Africa\n",
       "8          191       Sri Lanka\n",
       "9          208          Turkey\n",
       "7          214             UAE\n",
       "10         215  United Kingdom\n",
       "0          216   United States"
      ]
     },
     "execution_count": 146,
     "metadata": {},
     "output_type": "execute_result"
    }
   ],
   "source": [
    "# sort, display results (can change index if desired)\n",
    "country_mapping.sort_values('Country Id', ascending=True, inplace=True)\n",
    "country_mapping"
   ]
  },
  {
   "cell_type": "code",
   "execution_count": 147,
   "metadata": {},
   "outputs": [
    {
     "name": "stdout",
     "output_type": "stream",
     "text": [
      "<class 'pandas.core.frame.DataFrame'>\n",
      "RangeIndex: 29753 entries, 0 to 29752\n",
      "Data columns (total 21 columns):\n",
      " #   Column                Non-Null Count  Dtype \n",
      "---  ------                --------------  ----- \n",
      " 0   Restaurant ID         29753 non-null  object\n",
      " 1   Restaurant Name       29753 non-null  object\n",
      " 2   Country Id            29753 non-null  int64 \n",
      " 3   City                  29753 non-null  object\n",
      " 4   City Id               29753 non-null  int64 \n",
      " 5   Address               29753 non-null  object\n",
      " 6   Locality              29753 non-null  object\n",
      " 7   Locality Verbose      29753 non-null  object\n",
      " 8   Longitude             29753 non-null  object\n",
      " 9   Latitude              29753 non-null  object\n",
      " 10  Cuisines              29753 non-null  object\n",
      " 11  Price Range           29753 non-null  int64 \n",
      " 12  Average Cost For Two  29753 non-null  int64 \n",
      " 13  Currency              29753 non-null  object\n",
      " 14  Has Online Delivery   29753 non-null  object\n",
      " 15  Has Table Booking     29753 non-null  object\n",
      " 16  Is Delivering Now     29753 non-null  object\n",
      " 17  Aggregate Rating      29753 non-null  object\n",
      " 18  Rating Color          29753 non-null  object\n",
      " 19  Rating Text           29753 non-null  object\n",
      " 20  Votes                 29753 non-null  object\n",
      "dtypes: int64(4), object(17)\n",
      "memory usage: 4.8+ MB\n"
     ]
    }
   ],
   "source": [
    "# HLO of data\n",
    "final.info()"
   ]
  },
  {
   "cell_type": "code",
   "execution_count": 148,
   "metadata": {},
   "outputs": [
    {
     "data": {
      "text/plain": [
       "Country Id       int64\n",
       "Country Name    object\n",
       "dtype: object"
      ]
     },
     "execution_count": 148,
     "metadata": {},
     "output_type": "execute_result"
    }
   ],
   "source": [
    "# confirm dtypes for Country Id\n",
    "country_mapping.dtypes"
   ]
  },
  {
   "cell_type": "code",
   "execution_count": 149,
   "metadata": {},
   "outputs": [
    {
     "data": {
      "text/plain": [
       "Restaurant ID           object\n",
       "Restaurant Name         object\n",
       "Country Id               int64\n",
       "City                    object\n",
       "City Id                  int64\n",
       "Address                 object\n",
       "Locality                object\n",
       "Locality Verbose        object\n",
       "Longitude               object\n",
       "Latitude                object\n",
       "Cuisines                object\n",
       "Price Range              int64\n",
       "Average Cost For Two     int64\n",
       "Currency                object\n",
       "Has Online Delivery     object\n",
       "Has Table Booking       object\n",
       "Is Delivering Now       object\n",
       "Aggregate Rating        object\n",
       "Rating Color            object\n",
       "Rating Text             object\n",
       "Votes                   object\n",
       "dtype: object"
      ]
     },
     "execution_count": 149,
     "metadata": {},
     "output_type": "execute_result"
    }
   ],
   "source": [
    "# confirm dtypes for Country Id match\n",
    "final.dtypes"
   ]
  },
  {
   "cell_type": "code",
   "execution_count": 150,
   "metadata": {},
   "outputs": [],
   "source": [
    "# Map country name\n",
    "final['Country Name'] = final['Country Id'].map(country_mapping.set_index('Country Id')['Country Name'])"
   ]
  },
  {
   "cell_type": "code",
   "execution_count": 151,
   "metadata": {},
   "outputs": [
    {
     "data": {
      "text/html": [
       "<div>\n",
       "<style scoped>\n",
       "    .dataframe tbody tr th:only-of-type {\n",
       "        vertical-align: middle;\n",
       "    }\n",
       "\n",
       "    .dataframe tbody tr th {\n",
       "        vertical-align: top;\n",
       "    }\n",
       "\n",
       "    .dataframe thead th {\n",
       "        text-align: right;\n",
       "    }\n",
       "</style>\n",
       "<table border=\"1\" class=\"dataframe\">\n",
       "  <thead>\n",
       "    <tr style=\"text-align: right;\">\n",
       "      <th></th>\n",
       "      <th>Restaurant ID</th>\n",
       "      <th>Restaurant Name</th>\n",
       "      <th>Country Id</th>\n",
       "      <th>City</th>\n",
       "      <th>City Id</th>\n",
       "      <th>Address</th>\n",
       "      <th>Locality</th>\n",
       "      <th>Locality Verbose</th>\n",
       "      <th>Longitude</th>\n",
       "      <th>Latitude</th>\n",
       "      <th>...</th>\n",
       "      <th>Average Cost For Two</th>\n",
       "      <th>Currency</th>\n",
       "      <th>Has Online Delivery</th>\n",
       "      <th>Has Table Booking</th>\n",
       "      <th>Is Delivering Now</th>\n",
       "      <th>Aggregate Rating</th>\n",
       "      <th>Rating Color</th>\n",
       "      <th>Rating Text</th>\n",
       "      <th>Votes</th>\n",
       "      <th>Country Name</th>\n",
       "    </tr>\n",
       "  </thead>\n",
       "  <tbody>\n",
       "    <tr>\n",
       "      <th>0</th>\n",
       "      <td>17066603</td>\n",
       "      <td>The Coop</td>\n",
       "      <td>216</td>\n",
       "      <td>Orlando</td>\n",
       "      <td>601</td>\n",
       "      <td>610 W Morse Boulevard, Winter Park, FL 32789</td>\n",
       "      <td>Winter Park</td>\n",
       "      <td>Winter Park, Orlando</td>\n",
       "      <td>-81.3572190000</td>\n",
       "      <td>28.5973660000</td>\n",
       "      <td>...</td>\n",
       "      <td>25</td>\n",
       "      <td>$</td>\n",
       "      <td>No</td>\n",
       "      <td>No</td>\n",
       "      <td>No</td>\n",
       "      <td>3.6</td>\n",
       "      <td>Atlantis</td>\n",
       "      <td>Good</td>\n",
       "      <td>432</td>\n",
       "      <td>United States</td>\n",
       "    </tr>\n",
       "    <tr>\n",
       "      <th>1</th>\n",
       "      <td>17059541</td>\n",
       "      <td>Maggiano's Little Italy</td>\n",
       "      <td>216</td>\n",
       "      <td>Orlando</td>\n",
       "      <td>601</td>\n",
       "      <td>9101 International Drive,Orlando, FL 32819</td>\n",
       "      <td>I-Drive/Universal</td>\n",
       "      <td>I-Drive/Universal, Orlando</td>\n",
       "      <td>-81.4714470000</td>\n",
       "      <td>28.4332350000</td>\n",
       "      <td>...</td>\n",
       "      <td>50</td>\n",
       "      <td>$</td>\n",
       "      <td>No</td>\n",
       "      <td>No</td>\n",
       "      <td>No</td>\n",
       "      <td>4.4</td>\n",
       "      <td>Olive Drab</td>\n",
       "      <td>Very Good</td>\n",
       "      <td>886</td>\n",
       "      <td>United States</td>\n",
       "    </tr>\n",
       "    <tr>\n",
       "      <th>2</th>\n",
       "      <td>17064405</td>\n",
       "      <td>Tako Cheena by Pom Pom</td>\n",
       "      <td>216</td>\n",
       "      <td>Orlando</td>\n",
       "      <td>601</td>\n",
       "      <td>932 North Mills Avenue, Orlando, FL 32803</td>\n",
       "      <td>Mills 50</td>\n",
       "      <td>Mills 50, Orlando</td>\n",
       "      <td>-81.3645470000</td>\n",
       "      <td>28.5578450000</td>\n",
       "      <td>...</td>\n",
       "      <td>10</td>\n",
       "      <td>$</td>\n",
       "      <td>No</td>\n",
       "      <td>No</td>\n",
       "      <td>No</td>\n",
       "      <td>4.4</td>\n",
       "      <td>Olive Drab</td>\n",
       "      <td>Very Good</td>\n",
       "      <td>570</td>\n",
       "      <td>United States</td>\n",
       "    </tr>\n",
       "    <tr>\n",
       "      <th>3</th>\n",
       "      <td>17057797</td>\n",
       "      <td>Bosphorous Turkish Cuisine</td>\n",
       "      <td>216</td>\n",
       "      <td>Orlando</td>\n",
       "      <td>601</td>\n",
       "      <td>108 S Park Ave, Winter Park, FL 32789</td>\n",
       "      <td>Winter Park</td>\n",
       "      <td>Winter Park, Orlando</td>\n",
       "      <td>-81.3508344000</td>\n",
       "      <td>28.5976271000</td>\n",
       "      <td>...</td>\n",
       "      <td>40</td>\n",
       "      <td>$</td>\n",
       "      <td>No</td>\n",
       "      <td>No</td>\n",
       "      <td>No</td>\n",
       "      <td>4.2</td>\n",
       "      <td>Olive Drab</td>\n",
       "      <td>Very Good</td>\n",
       "      <td>568</td>\n",
       "      <td>United States</td>\n",
       "    </tr>\n",
       "    <tr>\n",
       "      <th>4</th>\n",
       "      <td>17057591</td>\n",
       "      <td>Bahama Breeze Island Grille</td>\n",
       "      <td>216</td>\n",
       "      <td>Orlando</td>\n",
       "      <td>601</td>\n",
       "      <td>8849 International Drive, Orlando, FL 32819</td>\n",
       "      <td>I-Drive/Universal</td>\n",
       "      <td>I-Drive/Universal, Orlando</td>\n",
       "      <td>-81.4715260000</td>\n",
       "      <td>28.4370650000</td>\n",
       "      <td>...</td>\n",
       "      <td>45</td>\n",
       "      <td>$</td>\n",
       "      <td>No</td>\n",
       "      <td>No</td>\n",
       "      <td>No</td>\n",
       "      <td>4.3</td>\n",
       "      <td>Olive Drab</td>\n",
       "      <td>Very Good</td>\n",
       "      <td>910</td>\n",
       "      <td>United States</td>\n",
       "    </tr>\n",
       "  </tbody>\n",
       "</table>\n",
       "<p>5 rows × 22 columns</p>\n",
       "</div>"
      ],
      "text/plain": [
       "  Restaurant ID              Restaurant Name  Country Id     City  City Id  \\\n",
       "0      17066603                     The Coop         216  Orlando      601   \n",
       "1      17059541      Maggiano's Little Italy         216  Orlando      601   \n",
       "2      17064405       Tako Cheena by Pom Pom         216  Orlando      601   \n",
       "3      17057797   Bosphorous Turkish Cuisine         216  Orlando      601   \n",
       "4      17057591  Bahama Breeze Island Grille         216  Orlando      601   \n",
       "\n",
       "                                        Address           Locality  \\\n",
       "0  610 W Morse Boulevard, Winter Park, FL 32789        Winter Park   \n",
       "1    9101 International Drive,Orlando, FL 32819  I-Drive/Universal   \n",
       "2     932 North Mills Avenue, Orlando, FL 32803           Mills 50   \n",
       "3         108 S Park Ave, Winter Park, FL 32789        Winter Park   \n",
       "4   8849 International Drive, Orlando, FL 32819  I-Drive/Universal   \n",
       "\n",
       "             Locality Verbose       Longitude       Latitude  ...  \\\n",
       "0        Winter Park, Orlando  -81.3572190000  28.5973660000  ...   \n",
       "1  I-Drive/Universal, Orlando  -81.4714470000  28.4332350000  ...   \n",
       "2           Mills 50, Orlando  -81.3645470000  28.5578450000  ...   \n",
       "3        Winter Park, Orlando  -81.3508344000  28.5976271000  ...   \n",
       "4  I-Drive/Universal, Orlando  -81.4715260000  28.4370650000  ...   \n",
       "\n",
       "  Average Cost For Two  Currency  Has Online Delivery Has Table Booking  \\\n",
       "0                   25         $                   No                No   \n",
       "1                   50         $                   No                No   \n",
       "2                   10         $                   No                No   \n",
       "3                   40         $                   No                No   \n",
       "4                   45         $                   No                No   \n",
       "\n",
       "  Is Delivering Now Aggregate Rating Rating Color Rating Text Votes  \\\n",
       "0                No              3.6     Atlantis        Good   432   \n",
       "1                No              4.4   Olive Drab   Very Good   886   \n",
       "2                No              4.4   Olive Drab   Very Good   570   \n",
       "3                No              4.2   Olive Drab   Very Good   568   \n",
       "4                No              4.3   Olive Drab   Very Good   910   \n",
       "\n",
       "    Country Name  \n",
       "0  United States  \n",
       "1  United States  \n",
       "2  United States  \n",
       "3  United States  \n",
       "4  United States  \n",
       "\n",
       "[5 rows x 22 columns]"
      ]
     },
     "execution_count": 151,
     "metadata": {},
     "output_type": "execute_result"
    }
   ],
   "source": [
    "final.head()"
   ]
  },
  {
   "cell_type": "code",
   "execution_count": 152,
   "metadata": {},
   "outputs": [],
   "source": [
    "# Final column order\n",
    "final_column_order = ['Restaurant ID', 'Restaurant Name', 'Country Name', 'City', 'Address', \n",
    "                     'Locality', 'Locality Verbose', 'Longitude', 'Latitude', 'Cuisines', 'Price Range', \n",
    "                     'Average Cost For Two', 'Currency', 'Has Online Delivery', 'Has Table Booking', \n",
    "                    'Is Delivering Now', 'Aggregate Rating', 'Rating Color', 'Rating Text', 'Votes']"
   ]
  },
  {
   "cell_type": "code",
   "execution_count": 153,
   "metadata": {},
   "outputs": [],
   "source": [
    "# Reorder cols\n",
    "final = final[final_column_order]"
   ]
  },
  {
   "cell_type": "code",
   "execution_count": 154,
   "metadata": {},
   "outputs": [
    {
     "data": {
      "text/html": [
       "<div>\n",
       "<style scoped>\n",
       "    .dataframe tbody tr th:only-of-type {\n",
       "        vertical-align: middle;\n",
       "    }\n",
       "\n",
       "    .dataframe tbody tr th {\n",
       "        vertical-align: top;\n",
       "    }\n",
       "\n",
       "    .dataframe thead th {\n",
       "        text-align: right;\n",
       "    }\n",
       "</style>\n",
       "<table border=\"1\" class=\"dataframe\">\n",
       "  <thead>\n",
       "    <tr style=\"text-align: right;\">\n",
       "      <th></th>\n",
       "      <th>Restaurant ID</th>\n",
       "      <th>Restaurant Name</th>\n",
       "      <th>Country Name</th>\n",
       "      <th>City</th>\n",
       "      <th>Address</th>\n",
       "      <th>Locality</th>\n",
       "      <th>Locality Verbose</th>\n",
       "      <th>Longitude</th>\n",
       "      <th>Latitude</th>\n",
       "      <th>Cuisines</th>\n",
       "      <th>Price Range</th>\n",
       "      <th>Average Cost For Two</th>\n",
       "      <th>Currency</th>\n",
       "      <th>Has Online Delivery</th>\n",
       "      <th>Has Table Booking</th>\n",
       "      <th>Is Delivering Now</th>\n",
       "      <th>Aggregate Rating</th>\n",
       "      <th>Rating Color</th>\n",
       "      <th>Rating Text</th>\n",
       "      <th>Votes</th>\n",
       "    </tr>\n",
       "  </thead>\n",
       "  <tbody>\n",
       "    <tr>\n",
       "      <th>0</th>\n",
       "      <td>17066603</td>\n",
       "      <td>The Coop</td>\n",
       "      <td>United States</td>\n",
       "      <td>Orlando</td>\n",
       "      <td>610 W Morse Boulevard, Winter Park, FL 32789</td>\n",
       "      <td>Winter Park</td>\n",
       "      <td>Winter Park, Orlando</td>\n",
       "      <td>-81.3572190000</td>\n",
       "      <td>28.5973660000</td>\n",
       "      <td>Southern, Cajun, Soul Food</td>\n",
       "      <td>2</td>\n",
       "      <td>25</td>\n",
       "      <td>$</td>\n",
       "      <td>No</td>\n",
       "      <td>No</td>\n",
       "      <td>No</td>\n",
       "      <td>3.6</td>\n",
       "      <td>Atlantis</td>\n",
       "      <td>Good</td>\n",
       "      <td>432</td>\n",
       "    </tr>\n",
       "    <tr>\n",
       "      <th>1</th>\n",
       "      <td>17059541</td>\n",
       "      <td>Maggiano's Little Italy</td>\n",
       "      <td>United States</td>\n",
       "      <td>Orlando</td>\n",
       "      <td>9101 International Drive,Orlando, FL 32819</td>\n",
       "      <td>I-Drive/Universal</td>\n",
       "      <td>I-Drive/Universal, Orlando</td>\n",
       "      <td>-81.4714470000</td>\n",
       "      <td>28.4332350000</td>\n",
       "      <td>Italian</td>\n",
       "      <td>4</td>\n",
       "      <td>50</td>\n",
       "      <td>$</td>\n",
       "      <td>No</td>\n",
       "      <td>No</td>\n",
       "      <td>No</td>\n",
       "      <td>4.4</td>\n",
       "      <td>Olive Drab</td>\n",
       "      <td>Very Good</td>\n",
       "      <td>886</td>\n",
       "    </tr>\n",
       "    <tr>\n",
       "      <th>2</th>\n",
       "      <td>17064405</td>\n",
       "      <td>Tako Cheena by Pom Pom</td>\n",
       "      <td>United States</td>\n",
       "      <td>Orlando</td>\n",
       "      <td>932 North Mills Avenue, Orlando, FL 32803</td>\n",
       "      <td>Mills 50</td>\n",
       "      <td>Mills 50, Orlando</td>\n",
       "      <td>-81.3645470000</td>\n",
       "      <td>28.5578450000</td>\n",
       "      <td>Asian, Latin American, Vegetarian</td>\n",
       "      <td>1</td>\n",
       "      <td>10</td>\n",
       "      <td>$</td>\n",
       "      <td>No</td>\n",
       "      <td>No</td>\n",
       "      <td>No</td>\n",
       "      <td>4.4</td>\n",
       "      <td>Olive Drab</td>\n",
       "      <td>Very Good</td>\n",
       "      <td>570</td>\n",
       "    </tr>\n",
       "    <tr>\n",
       "      <th>3</th>\n",
       "      <td>17057797</td>\n",
       "      <td>Bosphorous Turkish Cuisine</td>\n",
       "      <td>United States</td>\n",
       "      <td>Orlando</td>\n",
       "      <td>108 S Park Ave, Winter Park, FL 32789</td>\n",
       "      <td>Winter Park</td>\n",
       "      <td>Winter Park, Orlando</td>\n",
       "      <td>-81.3508344000</td>\n",
       "      <td>28.5976271000</td>\n",
       "      <td>Mediterranean, Turkish</td>\n",
       "      <td>3</td>\n",
       "      <td>40</td>\n",
       "      <td>$</td>\n",
       "      <td>No</td>\n",
       "      <td>No</td>\n",
       "      <td>No</td>\n",
       "      <td>4.2</td>\n",
       "      <td>Olive Drab</td>\n",
       "      <td>Very Good</td>\n",
       "      <td>568</td>\n",
       "    </tr>\n",
       "    <tr>\n",
       "      <th>4</th>\n",
       "      <td>17057591</td>\n",
       "      <td>Bahama Breeze Island Grille</td>\n",
       "      <td>United States</td>\n",
       "      <td>Orlando</td>\n",
       "      <td>8849 International Drive, Orlando, FL 32819</td>\n",
       "      <td>I-Drive/Universal</td>\n",
       "      <td>I-Drive/Universal, Orlando</td>\n",
       "      <td>-81.4715260000</td>\n",
       "      <td>28.4370650000</td>\n",
       "      <td>Caribbean</td>\n",
       "      <td>3</td>\n",
       "      <td>45</td>\n",
       "      <td>$</td>\n",
       "      <td>No</td>\n",
       "      <td>No</td>\n",
       "      <td>No</td>\n",
       "      <td>4.3</td>\n",
       "      <td>Olive Drab</td>\n",
       "      <td>Very Good</td>\n",
       "      <td>910</td>\n",
       "    </tr>\n",
       "  </tbody>\n",
       "</table>\n",
       "</div>"
      ],
      "text/plain": [
       "  Restaurant ID              Restaurant Name   Country Name     City  \\\n",
       "0      17066603                     The Coop  United States  Orlando   \n",
       "1      17059541      Maggiano's Little Italy  United States  Orlando   \n",
       "2      17064405       Tako Cheena by Pom Pom  United States  Orlando   \n",
       "3      17057797   Bosphorous Turkish Cuisine  United States  Orlando   \n",
       "4      17057591  Bahama Breeze Island Grille  United States  Orlando   \n",
       "\n",
       "                                        Address           Locality  \\\n",
       "0  610 W Morse Boulevard, Winter Park, FL 32789        Winter Park   \n",
       "1    9101 International Drive,Orlando, FL 32819  I-Drive/Universal   \n",
       "2     932 North Mills Avenue, Orlando, FL 32803           Mills 50   \n",
       "3         108 S Park Ave, Winter Park, FL 32789        Winter Park   \n",
       "4   8849 International Drive, Orlando, FL 32819  I-Drive/Universal   \n",
       "\n",
       "             Locality Verbose       Longitude       Latitude  \\\n",
       "0        Winter Park, Orlando  -81.3572190000  28.5973660000   \n",
       "1  I-Drive/Universal, Orlando  -81.4714470000  28.4332350000   \n",
       "2           Mills 50, Orlando  -81.3645470000  28.5578450000   \n",
       "3        Winter Park, Orlando  -81.3508344000  28.5976271000   \n",
       "4  I-Drive/Universal, Orlando  -81.4715260000  28.4370650000   \n",
       "\n",
       "                            Cuisines  Price Range  Average Cost For Two  \\\n",
       "0         Southern, Cajun, Soul Food            2                    25   \n",
       "1                            Italian            4                    50   \n",
       "2  Asian, Latin American, Vegetarian            1                    10   \n",
       "3             Mediterranean, Turkish            3                    40   \n",
       "4                          Caribbean            3                    45   \n",
       "\n",
       "  Currency Has Online Delivery Has Table Booking Is Delivering Now  \\\n",
       "0        $                  No                No                No   \n",
       "1        $                  No                No                No   \n",
       "2        $                  No                No                No   \n",
       "3        $                  No                No                No   \n",
       "4        $                  No                No                No   \n",
       "\n",
       "  Aggregate Rating Rating Color Rating Text Votes  \n",
       "0              3.6     Atlantis        Good   432  \n",
       "1              4.4   Olive Drab   Very Good   886  \n",
       "2              4.4   Olive Drab   Very Good   570  \n",
       "3              4.2   Olive Drab   Very Good   568  \n",
       "4              4.3   Olive Drab   Very Good   910  "
      ]
     },
     "execution_count": 154,
     "metadata": {},
     "output_type": "execute_result"
    }
   ],
   "source": [
    "final.head()"
   ]
  },
  {
   "cell_type": "code",
   "execution_count": 155,
   "metadata": {},
   "outputs": [],
   "source": [
    "# Get day, month, year values\n",
    "today = datetime.now()\n",
    "day = str(today.day).zfill(2)\n",
    "month = str(today.month).zfill(2)\n",
    "year = str(today.year)\n",
    "\n",
    "# final filename\n",
    "filename = f'Restaurant_Data_{day}-{month}-{year}.xlsx'\n",
    "\n",
    "# Save file to excel\n",
    "with pd.ExcelWriter(filename, engine='xlsxwriter') as writer:\n",
    "    final.to_excel(writer, sheet_name='raw_data')"
   ]
  },
  {
   "cell_type": "code",
   "execution_count": null,
   "metadata": {},
   "outputs": [],
   "source": []
  }
 ],
 "metadata": {
  "kernelspec": {
   "display_name": "Python 3",
   "language": "python",
   "name": "python3"
  },
  "language_info": {
   "codemirror_mode": {
    "name": "ipython",
    "version": 3
   },
   "file_extension": ".py",
   "mimetype": "text/x-python",
   "name": "python",
   "nbconvert_exporter": "python",
   "pygments_lexer": "ipython3",
   "version": "3.7.1"
  }
 },
 "nbformat": 4,
 "nbformat_minor": 2
}
